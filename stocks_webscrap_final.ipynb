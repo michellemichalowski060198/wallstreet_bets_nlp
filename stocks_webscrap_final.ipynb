{
  "nbformat": 4,
  "nbformat_minor": 0,
  "metadata": {
    "colab": {
      "name": "stocks_webscrap_final.ipynb",
      "provenance": []
    },
    "kernelspec": {
      "name": "python3",
      "display_name": "Python 3"
    },
    "language_info": {
      "name": "python"
    }
  },
  "cells": [
    {
      "cell_type": "code",
      "metadata": {
        "id": "7a0_eEaTWTiw"
      },
      "source": [
        "import pandas as pd"
      ],
      "execution_count": 1,
      "outputs": []
    },
    {
      "cell_type": "code",
      "metadata": {
        "id": "h-lraTyCWaNq"
      },
      "source": [
        "#importing the dataset with the Reddit posts and their sentiments\n",
        "df = pd.read_csv ('train.csv')"
      ],
      "execution_count": 3,
      "outputs": []
    },
    {
      "cell_type": "code",
      "metadata": {
        "colab": {
          "base_uri": "https://localhost:8080/"
        },
        "id": "mK5eQxknXCGF",
        "outputId": "5d69f9d5-52b1-4946-8316-7060786aca2f"
      },
      "source": [
        "len(df)"
      ],
      "execution_count": 4,
      "outputs": [
        {
          "output_type": "execute_result",
          "data": {
            "text/plain": [
              "56133"
            ]
          },
          "metadata": {
            "tags": []
          },
          "execution_count": 4
        }
      ]
    },
    {
      "cell_type": "code",
      "metadata": {
        "colab": {
          "base_uri": "https://localhost:8080/",
          "height": 191
        },
        "id": "eGfUbCERXEwB",
        "outputId": "f3c9d342-ffe8-4437-8a25-d8bf7e2c242f"
      },
      "source": [
        "df.head()"
      ],
      "execution_count": 5,
      "outputs": [
        {
          "output_type": "execute_result",
          "data": {
            "text/html": [
              "<div>\n",
              "<style scoped>\n",
              "    .dataframe tbody tr th:only-of-type {\n",
              "        vertical-align: middle;\n",
              "    }\n",
              "\n",
              "    .dataframe tbody tr th {\n",
              "        vertical-align: top;\n",
              "    }\n",
              "\n",
              "    .dataframe thead th {\n",
              "        text-align: right;\n",
              "    }\n",
              "</style>\n",
              "<table border=\"1\" class=\"dataframe\">\n",
              "  <thead>\n",
              "    <tr style=\"text-align: right;\">\n",
              "      <th></th>\n",
              "      <th>Unnamed: 0</th>\n",
              "      <th>Unnamed: 0.1</th>\n",
              "      <th>Cashtag</th>\n",
              "      <th>Title</th>\n",
              "      <th>date</th>\n",
              "      <th>scores</th>\n",
              "      <th>compound</th>\n",
              "      <th>comp_score</th>\n",
              "      <th>just_date</th>\n",
              "    </tr>\n",
              "  </thead>\n",
              "  <tbody>\n",
              "    <tr>\n",
              "      <th>0</th>\n",
              "      <td>0</td>\n",
              "      <td>0</td>\n",
              "      <td>CVE</td>\n",
              "      <td>Energy Oil &amp;amp; Exp was the sector to be in t...</td>\n",
              "      <td>2021-04-28 20:26:09</td>\n",
              "      <td>{'neg': 0.098, 'neu': 0.669, 'pos': 0.232, 'co...</td>\n",
              "      <td>0.7783</td>\n",
              "      <td>pos</td>\n",
              "      <td>2021-04-28</td>\n",
              "    </tr>\n",
              "    <tr>\n",
              "      <th>1</th>\n",
              "      <td>1</td>\n",
              "      <td>1</td>\n",
              "      <td>PLTR</td>\n",
              "      <td>$AMC AND $PLTR primed for takeoff 🚀🚀🚀</td>\n",
              "      <td>2021-04-28 20:18:57</td>\n",
              "      <td>{'neg': 0.0, 'neu': 0.286, 'pos': 0.714, 'comp...</td>\n",
              "      <td>0.9517</td>\n",
              "      <td>pos</td>\n",
              "      <td>2021-04-28</td>\n",
              "    </tr>\n",
              "    <tr>\n",
              "      <th>2</th>\n",
              "      <td>2</td>\n",
              "      <td>2</td>\n",
              "      <td>BUZZ</td>\n",
              "      <td>My thoughts and explanation of $BUZZ</td>\n",
              "      <td>2021-04-28 20:11:50</td>\n",
              "      <td>{'neg': 0.0, 'neu': 1.0, 'pos': 0.0, 'compound...</td>\n",
              "      <td>0.0000</td>\n",
              "      <td>neut</td>\n",
              "      <td>2021-04-28</td>\n",
              "    </tr>\n",
              "    <tr>\n",
              "      <th>3</th>\n",
              "      <td>3</td>\n",
              "      <td>3</td>\n",
              "      <td>PLTR</td>\n",
              "      <td>$AMC and $PLTR primed for takeoff</td>\n",
              "      <td>2021-04-28 20:09:10</td>\n",
              "      <td>{'neg': 0.0, 'neu': 1.0, 'pos': 0.0, 'compound...</td>\n",
              "      <td>0.0000</td>\n",
              "      <td>neut</td>\n",
              "      <td>2021-04-28</td>\n",
              "    </tr>\n",
              "    <tr>\n",
              "      <th>4</th>\n",
              "      <td>4</td>\n",
              "      <td>4</td>\n",
              "      <td>BLNK</td>\n",
              "      <td>GM signed agreement with $BLNK green💚💚🌎🌎🌎🌎</td>\n",
              "      <td>2021-04-28 20:05:47</td>\n",
              "      <td>{'neg': 0.0, 'neu': 0.376, 'pos': 0.624, 'comp...</td>\n",
              "      <td>0.9828</td>\n",
              "      <td>pos</td>\n",
              "      <td>2021-04-28</td>\n",
              "    </tr>\n",
              "  </tbody>\n",
              "</table>\n",
              "</div>"
            ],
            "text/plain": [
              "   Unnamed: 0  Unnamed: 0.1 Cashtag  ... compound comp_score   just_date\n",
              "0           0             0     CVE  ...   0.7783        pos  2021-04-28\n",
              "1           1             1    PLTR  ...   0.9517        pos  2021-04-28\n",
              "2           2             2    BUZZ  ...   0.0000       neut  2021-04-28\n",
              "3           3             3    PLTR  ...   0.0000       neut  2021-04-28\n",
              "4           4             4    BLNK  ...   0.9828        pos  2021-04-28\n",
              "\n",
              "[5 rows x 9 columns]"
            ]
          },
          "metadata": {
            "tags": []
          },
          "execution_count": 5
        }
      ]
    },
    {
      "cell_type": "code",
      "metadata": {
        "id": "HD8QeZA_XKxq"
      },
      "source": [
        "df_1 = df[['Cashtag','Title','just_date','scores','compound','comp_score']]"
      ],
      "execution_count": 6,
      "outputs": []
    },
    {
      "cell_type": "code",
      "metadata": {
        "colab": {
          "base_uri": "https://localhost:8080/",
          "height": 288
        },
        "id": "8CUrr4CSXNt6",
        "outputId": "7e5ba921-4a6d-49f6-dc13-ac71e53244be"
      },
      "source": [
        "df_1[['date']] = df_1[['just_date']]\n",
        "df_1.head()"
      ],
      "execution_count": 7,
      "outputs": [
        {
          "output_type": "stream",
          "text": [
            "/usr/local/lib/python3.7/dist-packages/pandas/core/frame.py:3069: SettingWithCopyWarning: \n",
            "A value is trying to be set on a copy of a slice from a DataFrame.\n",
            "Try using .loc[row_indexer,col_indexer] = value instead\n",
            "\n",
            "See the caveats in the documentation: https://pandas.pydata.org/pandas-docs/stable/user_guide/indexing.html#returning-a-view-versus-a-copy\n",
            "  self[k1] = value[k2]\n"
          ],
          "name": "stderr"
        },
        {
          "output_type": "execute_result",
          "data": {
            "text/html": [
              "<div>\n",
              "<style scoped>\n",
              "    .dataframe tbody tr th:only-of-type {\n",
              "        vertical-align: middle;\n",
              "    }\n",
              "\n",
              "    .dataframe tbody tr th {\n",
              "        vertical-align: top;\n",
              "    }\n",
              "\n",
              "    .dataframe thead th {\n",
              "        text-align: right;\n",
              "    }\n",
              "</style>\n",
              "<table border=\"1\" class=\"dataframe\">\n",
              "  <thead>\n",
              "    <tr style=\"text-align: right;\">\n",
              "      <th></th>\n",
              "      <th>Cashtag</th>\n",
              "      <th>Title</th>\n",
              "      <th>just_date</th>\n",
              "      <th>scores</th>\n",
              "      <th>compound</th>\n",
              "      <th>comp_score</th>\n",
              "      <th>date</th>\n",
              "    </tr>\n",
              "  </thead>\n",
              "  <tbody>\n",
              "    <tr>\n",
              "      <th>0</th>\n",
              "      <td>CVE</td>\n",
              "      <td>Energy Oil &amp;amp; Exp was the sector to be in t...</td>\n",
              "      <td>2021-04-28</td>\n",
              "      <td>{'neg': 0.098, 'neu': 0.669, 'pos': 0.232, 'co...</td>\n",
              "      <td>0.7783</td>\n",
              "      <td>pos</td>\n",
              "      <td>2021-04-28</td>\n",
              "    </tr>\n",
              "    <tr>\n",
              "      <th>1</th>\n",
              "      <td>PLTR</td>\n",
              "      <td>$AMC AND $PLTR primed for takeoff 🚀🚀🚀</td>\n",
              "      <td>2021-04-28</td>\n",
              "      <td>{'neg': 0.0, 'neu': 0.286, 'pos': 0.714, 'comp...</td>\n",
              "      <td>0.9517</td>\n",
              "      <td>pos</td>\n",
              "      <td>2021-04-28</td>\n",
              "    </tr>\n",
              "    <tr>\n",
              "      <th>2</th>\n",
              "      <td>BUZZ</td>\n",
              "      <td>My thoughts and explanation of $BUZZ</td>\n",
              "      <td>2021-04-28</td>\n",
              "      <td>{'neg': 0.0, 'neu': 1.0, 'pos': 0.0, 'compound...</td>\n",
              "      <td>0.0000</td>\n",
              "      <td>neut</td>\n",
              "      <td>2021-04-28</td>\n",
              "    </tr>\n",
              "    <tr>\n",
              "      <th>3</th>\n",
              "      <td>PLTR</td>\n",
              "      <td>$AMC and $PLTR primed for takeoff</td>\n",
              "      <td>2021-04-28</td>\n",
              "      <td>{'neg': 0.0, 'neu': 1.0, 'pos': 0.0, 'compound...</td>\n",
              "      <td>0.0000</td>\n",
              "      <td>neut</td>\n",
              "      <td>2021-04-28</td>\n",
              "    </tr>\n",
              "    <tr>\n",
              "      <th>4</th>\n",
              "      <td>BLNK</td>\n",
              "      <td>GM signed agreement with $BLNK green💚💚🌎🌎🌎🌎</td>\n",
              "      <td>2021-04-28</td>\n",
              "      <td>{'neg': 0.0, 'neu': 0.376, 'pos': 0.624, 'comp...</td>\n",
              "      <td>0.9828</td>\n",
              "      <td>pos</td>\n",
              "      <td>2021-04-28</td>\n",
              "    </tr>\n",
              "  </tbody>\n",
              "</table>\n",
              "</div>"
            ],
            "text/plain": [
              "  Cashtag  ...        date\n",
              "0     CVE  ...  2021-04-28\n",
              "1    PLTR  ...  2021-04-28\n",
              "2    BUZZ  ...  2021-04-28\n",
              "3    PLTR  ...  2021-04-28\n",
              "4    BLNK  ...  2021-04-28\n",
              "\n",
              "[5 rows x 7 columns]"
            ]
          },
          "metadata": {
            "tags": []
          },
          "execution_count": 7
        }
      ]
    },
    {
      "cell_type": "code",
      "metadata": {
        "colab": {
          "base_uri": "https://localhost:8080/",
          "height": 391
        },
        "id": "XNmgmED_XTsP",
        "outputId": "1024b510-be3b-4d5f-b574-de9d12a09f78"
      },
      "source": [
        "df_1.drop(['just_date'], axis=1)"
      ],
      "execution_count": 8,
      "outputs": [
        {
          "output_type": "execute_result",
          "data": {
            "text/html": [
              "<div>\n",
              "<style scoped>\n",
              "    .dataframe tbody tr th:only-of-type {\n",
              "        vertical-align: middle;\n",
              "    }\n",
              "\n",
              "    .dataframe tbody tr th {\n",
              "        vertical-align: top;\n",
              "    }\n",
              "\n",
              "    .dataframe thead th {\n",
              "        text-align: right;\n",
              "    }\n",
              "</style>\n",
              "<table border=\"1\" class=\"dataframe\">\n",
              "  <thead>\n",
              "    <tr style=\"text-align: right;\">\n",
              "      <th></th>\n",
              "      <th>Cashtag</th>\n",
              "      <th>Title</th>\n",
              "      <th>scores</th>\n",
              "      <th>compound</th>\n",
              "      <th>comp_score</th>\n",
              "      <th>date</th>\n",
              "    </tr>\n",
              "  </thead>\n",
              "  <tbody>\n",
              "    <tr>\n",
              "      <th>0</th>\n",
              "      <td>CVE</td>\n",
              "      <td>Energy Oil &amp;amp; Exp was the sector to be in t...</td>\n",
              "      <td>{'neg': 0.098, 'neu': 0.669, 'pos': 0.232, 'co...</td>\n",
              "      <td>0.7783</td>\n",
              "      <td>pos</td>\n",
              "      <td>2021-04-28</td>\n",
              "    </tr>\n",
              "    <tr>\n",
              "      <th>1</th>\n",
              "      <td>PLTR</td>\n",
              "      <td>$AMC AND $PLTR primed for takeoff 🚀🚀🚀</td>\n",
              "      <td>{'neg': 0.0, 'neu': 0.286, 'pos': 0.714, 'comp...</td>\n",
              "      <td>0.9517</td>\n",
              "      <td>pos</td>\n",
              "      <td>2021-04-28</td>\n",
              "    </tr>\n",
              "    <tr>\n",
              "      <th>2</th>\n",
              "      <td>BUZZ</td>\n",
              "      <td>My thoughts and explanation of $BUZZ</td>\n",
              "      <td>{'neg': 0.0, 'neu': 1.0, 'pos': 0.0, 'compound...</td>\n",
              "      <td>0.0000</td>\n",
              "      <td>neut</td>\n",
              "      <td>2021-04-28</td>\n",
              "    </tr>\n",
              "    <tr>\n",
              "      <th>3</th>\n",
              "      <td>PLTR</td>\n",
              "      <td>$AMC and $PLTR primed for takeoff</td>\n",
              "      <td>{'neg': 0.0, 'neu': 1.0, 'pos': 0.0, 'compound...</td>\n",
              "      <td>0.0000</td>\n",
              "      <td>neut</td>\n",
              "      <td>2021-04-28</td>\n",
              "    </tr>\n",
              "    <tr>\n",
              "      <th>4</th>\n",
              "      <td>BLNK</td>\n",
              "      <td>GM signed agreement with $BLNK green💚💚🌎🌎🌎🌎</td>\n",
              "      <td>{'neg': 0.0, 'neu': 0.376, 'pos': 0.624, 'comp...</td>\n",
              "      <td>0.9828</td>\n",
              "      <td>pos</td>\n",
              "      <td>2021-04-28</td>\n",
              "    </tr>\n",
              "    <tr>\n",
              "      <th>...</th>\n",
              "      <td>...</td>\n",
              "      <td>...</td>\n",
              "      <td>...</td>\n",
              "      <td>...</td>\n",
              "      <td>...</td>\n",
              "      <td>...</td>\n",
              "    </tr>\n",
              "    <tr>\n",
              "      <th>56128</th>\n",
              "      <td>ZM</td>\n",
              "      <td>Whichever one of you autists executed this pla...</td>\n",
              "      <td>{'neg': 0.123, 'neu': 0.815, 'pos': 0.062, 'co...</td>\n",
              "      <td>-0.5423</td>\n",
              "      <td>neg</td>\n",
              "      <td>2020-04-29</td>\n",
              "    </tr>\n",
              "    <tr>\n",
              "      <th>56129</th>\n",
              "      <td>SNDL</td>\n",
              "      <td>$SNDL buy?</td>\n",
              "      <td>{'neg': 0.0, 'neu': 0.167, 'pos': 0.833, 'comp...</td>\n",
              "      <td>0.7184</td>\n",
              "      <td>pos</td>\n",
              "      <td>2020-04-29</td>\n",
              "    </tr>\n",
              "    <tr>\n",
              "      <th>56130</th>\n",
              "      <td>HEAR</td>\n",
              "      <td>CALLS ON $HEAR</td>\n",
              "      <td>{'neg': 0.0, 'neu': 0.286, 'pos': 0.714, 'comp...</td>\n",
              "      <td>0.7184</td>\n",
              "      <td>pos</td>\n",
              "      <td>2020-04-28</td>\n",
              "    </tr>\n",
              "    <tr>\n",
              "      <th>56131</th>\n",
              "      <td>HOG</td>\n",
              "      <td>Puts on $HOG</td>\n",
              "      <td>{'neg': 0.714, 'neu': 0.286, 'pos': 0.0, 'comp...</td>\n",
              "      <td>-0.7184</td>\n",
              "      <td>neg</td>\n",
              "      <td>2020-04-28</td>\n",
              "    </tr>\n",
              "    <tr>\n",
              "      <th>56132</th>\n",
              "      <td>LONG</td>\n",
              "      <td>Going $LONG $ROPE on $HD</td>\n",
              "      <td>{'neg': 0.589, 'neu': 0.411, 'pos': 0.0, 'comp...</td>\n",
              "      <td>-0.7739</td>\n",
              "      <td>neg</td>\n",
              "      <td>2020-04-28</td>\n",
              "    </tr>\n",
              "  </tbody>\n",
              "</table>\n",
              "<p>56133 rows × 6 columns</p>\n",
              "</div>"
            ],
            "text/plain": [
              "      Cashtag  ...        date\n",
              "0         CVE  ...  2021-04-28\n",
              "1        PLTR  ...  2021-04-28\n",
              "2        BUZZ  ...  2021-04-28\n",
              "3        PLTR  ...  2021-04-28\n",
              "4        BLNK  ...  2021-04-28\n",
              "...       ...  ...         ...\n",
              "56128      ZM  ...  2020-04-29\n",
              "56129    SNDL  ...  2020-04-29\n",
              "56130    HEAR  ...  2020-04-28\n",
              "56131     HOG  ...  2020-04-28\n",
              "56132    LONG  ...  2020-04-28\n",
              "\n",
              "[56133 rows x 6 columns]"
            ]
          },
          "metadata": {
            "tags": []
          },
          "execution_count": 8
        }
      ]
    },
    {
      "cell_type": "code",
      "metadata": {
        "colab": {
          "base_uri": "https://localhost:8080/",
          "height": 220
        },
        "id": "y0A6jX-GX_UA",
        "outputId": "43b031e1-8fb6-4fdb-d4b4-01b47d3f5afa"
      },
      "source": [
        "#grouping by date and cashtag and counting each sentiment\n",
        "scores=df_1.groupby(['date','Cashtag'])['comp_score'].value_counts().to_frame()\n",
        "scores.head()"
      ],
      "execution_count": 9,
      "outputs": [
        {
          "output_type": "execute_result",
          "data": {
            "text/html": [
              "<div>\n",
              "<style scoped>\n",
              "    .dataframe tbody tr th:only-of-type {\n",
              "        vertical-align: middle;\n",
              "    }\n",
              "\n",
              "    .dataframe tbody tr th {\n",
              "        vertical-align: top;\n",
              "    }\n",
              "\n",
              "    .dataframe thead th {\n",
              "        text-align: right;\n",
              "    }\n",
              "</style>\n",
              "<table border=\"1\" class=\"dataframe\">\n",
              "  <thead>\n",
              "    <tr style=\"text-align: right;\">\n",
              "      <th></th>\n",
              "      <th></th>\n",
              "      <th></th>\n",
              "      <th>comp_score</th>\n",
              "    </tr>\n",
              "    <tr>\n",
              "      <th>date</th>\n",
              "      <th>Cashtag</th>\n",
              "      <th>comp_score</th>\n",
              "      <th></th>\n",
              "    </tr>\n",
              "  </thead>\n",
              "  <tbody>\n",
              "    <tr>\n",
              "      <th rowspan=\"3\" valign=\"top\">2020-04-28</th>\n",
              "      <th>HEAR</th>\n",
              "      <th>pos</th>\n",
              "      <td>1</td>\n",
              "    </tr>\n",
              "    <tr>\n",
              "      <th>HOG</th>\n",
              "      <th>neg</th>\n",
              "      <td>1</td>\n",
              "    </tr>\n",
              "    <tr>\n",
              "      <th>LONG</th>\n",
              "      <th>neg</th>\n",
              "      <td>1</td>\n",
              "    </tr>\n",
              "    <tr>\n",
              "      <th rowspan=\"2\" valign=\"top\">2020-04-29</th>\n",
              "      <th>AAPL</th>\n",
              "      <th>pos</th>\n",
              "      <td>1</td>\n",
              "    </tr>\n",
              "    <tr>\n",
              "      <th>AMD</th>\n",
              "      <th>pos</th>\n",
              "      <td>1</td>\n",
              "    </tr>\n",
              "  </tbody>\n",
              "</table>\n",
              "</div>"
            ],
            "text/plain": [
              "                               comp_score\n",
              "date       Cashtag comp_score            \n",
              "2020-04-28 HEAR    pos                  1\n",
              "           HOG     neg                  1\n",
              "           LONG    neg                  1\n",
              "2020-04-29 AAPL    pos                  1\n",
              "           AMD     pos                  1"
            ]
          },
          "metadata": {
            "tags": []
          },
          "execution_count": 9
        }
      ]
    },
    {
      "cell_type": "code",
      "metadata": {
        "colab": {
          "base_uri": "https://localhost:8080/",
          "height": 248
        },
        "id": "LBeE7xarYD0R",
        "outputId": "67f45cfc-8d07-4e50-b7e6-b65f8dc0a96b"
      },
      "source": [
        "#filling nas with 0s\n",
        "scores1= scores.unstack().fillna(0)\n",
        "scores1.tail()"
      ],
      "execution_count": 10,
      "outputs": [
        {
          "output_type": "execute_result",
          "data": {
            "text/html": [
              "<div>\n",
              "<style scoped>\n",
              "    .dataframe tbody tr th:only-of-type {\n",
              "        vertical-align: middle;\n",
              "    }\n",
              "\n",
              "    .dataframe tbody tr th {\n",
              "        vertical-align: top;\n",
              "    }\n",
              "\n",
              "    .dataframe thead tr th {\n",
              "        text-align: left;\n",
              "    }\n",
              "\n",
              "    .dataframe thead tr:last-of-type th {\n",
              "        text-align: right;\n",
              "    }\n",
              "</style>\n",
              "<table border=\"1\" class=\"dataframe\">\n",
              "  <thead>\n",
              "    <tr>\n",
              "      <th></th>\n",
              "      <th></th>\n",
              "      <th colspan=\"3\" halign=\"left\">comp_score</th>\n",
              "    </tr>\n",
              "    <tr>\n",
              "      <th></th>\n",
              "      <th>comp_score</th>\n",
              "      <th>neg</th>\n",
              "      <th>neut</th>\n",
              "      <th>pos</th>\n",
              "    </tr>\n",
              "    <tr>\n",
              "      <th>date</th>\n",
              "      <th>Cashtag</th>\n",
              "      <th></th>\n",
              "      <th></th>\n",
              "      <th></th>\n",
              "    </tr>\n",
              "  </thead>\n",
              "  <tbody>\n",
              "    <tr>\n",
              "      <th rowspan=\"5\" valign=\"top\">2021-04-28</th>\n",
              "      <th>WISH</th>\n",
              "      <td>0.0</td>\n",
              "      <td>0.0</td>\n",
              "      <td>2.0</td>\n",
              "    </tr>\n",
              "    <tr>\n",
              "      <th>WKHS</th>\n",
              "      <td>0.0</td>\n",
              "      <td>1.0</td>\n",
              "      <td>0.0</td>\n",
              "    </tr>\n",
              "    <tr>\n",
              "      <th>WPG</th>\n",
              "      <td>0.0</td>\n",
              "      <td>0.0</td>\n",
              "      <td>1.0</td>\n",
              "    </tr>\n",
              "    <tr>\n",
              "      <th>YPF</th>\n",
              "      <td>0.0</td>\n",
              "      <td>0.0</td>\n",
              "      <td>2.0</td>\n",
              "    </tr>\n",
              "    <tr>\n",
              "      <th>ZKIN</th>\n",
              "      <td>0.0</td>\n",
              "      <td>0.0</td>\n",
              "      <td>1.0</td>\n",
              "    </tr>\n",
              "  </tbody>\n",
              "</table>\n",
              "</div>"
            ],
            "text/plain": [
              "                   comp_score          \n",
              "comp_score                neg neut  pos\n",
              "date       Cashtag                     \n",
              "2021-04-28 WISH           0.0  0.0  2.0\n",
              "           WKHS           0.0  1.0  0.0\n",
              "           WPG            0.0  0.0  1.0\n",
              "           YPF            0.0  0.0  2.0\n",
              "           ZKIN           0.0  0.0  1.0"
            ]
          },
          "metadata": {
            "tags": []
          },
          "execution_count": 10
        }
      ]
    },
    {
      "cell_type": "code",
      "metadata": {
        "colab": {
          "base_uri": "https://localhost:8080/",
          "height": 220
        },
        "id": "o1m3DGGRfvY2",
        "outputId": "4b1a3dfd-5532-468a-c7ab-b7dea1ea8fb5"
      },
      "source": [
        "scores2 = scores1.xs('comp_score',axis='columns')\n",
        "scores2.head()"
      ],
      "execution_count": 11,
      "outputs": [
        {
          "output_type": "execute_result",
          "data": {
            "text/html": [
              "<div>\n",
              "<style scoped>\n",
              "    .dataframe tbody tr th:only-of-type {\n",
              "        vertical-align: middle;\n",
              "    }\n",
              "\n",
              "    .dataframe tbody tr th {\n",
              "        vertical-align: top;\n",
              "    }\n",
              "\n",
              "    .dataframe thead th {\n",
              "        text-align: right;\n",
              "    }\n",
              "</style>\n",
              "<table border=\"1\" class=\"dataframe\">\n",
              "  <thead>\n",
              "    <tr style=\"text-align: right;\">\n",
              "      <th></th>\n",
              "      <th>comp_score</th>\n",
              "      <th>neg</th>\n",
              "      <th>neut</th>\n",
              "      <th>pos</th>\n",
              "    </tr>\n",
              "    <tr>\n",
              "      <th>date</th>\n",
              "      <th>Cashtag</th>\n",
              "      <th></th>\n",
              "      <th></th>\n",
              "      <th></th>\n",
              "    </tr>\n",
              "  </thead>\n",
              "  <tbody>\n",
              "    <tr>\n",
              "      <th rowspan=\"3\" valign=\"top\">2020-04-28</th>\n",
              "      <th>HEAR</th>\n",
              "      <td>0.0</td>\n",
              "      <td>0.0</td>\n",
              "      <td>1.0</td>\n",
              "    </tr>\n",
              "    <tr>\n",
              "      <th>HOG</th>\n",
              "      <td>1.0</td>\n",
              "      <td>0.0</td>\n",
              "      <td>0.0</td>\n",
              "    </tr>\n",
              "    <tr>\n",
              "      <th>LONG</th>\n",
              "      <td>1.0</td>\n",
              "      <td>0.0</td>\n",
              "      <td>0.0</td>\n",
              "    </tr>\n",
              "    <tr>\n",
              "      <th rowspan=\"2\" valign=\"top\">2020-04-29</th>\n",
              "      <th>AAPL</th>\n",
              "      <td>0.0</td>\n",
              "      <td>0.0</td>\n",
              "      <td>1.0</td>\n",
              "    </tr>\n",
              "    <tr>\n",
              "      <th>AMD</th>\n",
              "      <td>0.0</td>\n",
              "      <td>0.0</td>\n",
              "      <td>1.0</td>\n",
              "    </tr>\n",
              "  </tbody>\n",
              "</table>\n",
              "</div>"
            ],
            "text/plain": [
              "comp_score          neg  neut  pos\n",
              "date       Cashtag                \n",
              "2020-04-28 HEAR     0.0   0.0  1.0\n",
              "           HOG      1.0   0.0  0.0\n",
              "           LONG     1.0   0.0  0.0\n",
              "2020-04-29 AAPL     0.0   0.0  1.0\n",
              "           AMD      0.0   0.0  1.0"
            ]
          },
          "metadata": {
            "tags": []
          },
          "execution_count": 11
        }
      ]
    },
    {
      "cell_type": "code",
      "metadata": {
        "colab": {
          "base_uri": "https://localhost:8080/",
          "height": 191
        },
        "id": "QOav-yaOerac",
        "outputId": "d960cadd-e798-48ed-96a0-296ad6a7a9f0"
      },
      "source": [
        "df_final=scores2.reset_index()\n",
        "df_final.head()"
      ],
      "execution_count": 12,
      "outputs": [
        {
          "output_type": "execute_result",
          "data": {
            "text/html": [
              "<div>\n",
              "<style scoped>\n",
              "    .dataframe tbody tr th:only-of-type {\n",
              "        vertical-align: middle;\n",
              "    }\n",
              "\n",
              "    .dataframe tbody tr th {\n",
              "        vertical-align: top;\n",
              "    }\n",
              "\n",
              "    .dataframe thead th {\n",
              "        text-align: right;\n",
              "    }\n",
              "</style>\n",
              "<table border=\"1\" class=\"dataframe\">\n",
              "  <thead>\n",
              "    <tr style=\"text-align: right;\">\n",
              "      <th>comp_score</th>\n",
              "      <th>date</th>\n",
              "      <th>Cashtag</th>\n",
              "      <th>neg</th>\n",
              "      <th>neut</th>\n",
              "      <th>pos</th>\n",
              "    </tr>\n",
              "  </thead>\n",
              "  <tbody>\n",
              "    <tr>\n",
              "      <th>0</th>\n",
              "      <td>2020-04-28</td>\n",
              "      <td>HEAR</td>\n",
              "      <td>0.0</td>\n",
              "      <td>0.0</td>\n",
              "      <td>1.0</td>\n",
              "    </tr>\n",
              "    <tr>\n",
              "      <th>1</th>\n",
              "      <td>2020-04-28</td>\n",
              "      <td>HOG</td>\n",
              "      <td>1.0</td>\n",
              "      <td>0.0</td>\n",
              "      <td>0.0</td>\n",
              "    </tr>\n",
              "    <tr>\n",
              "      <th>2</th>\n",
              "      <td>2020-04-28</td>\n",
              "      <td>LONG</td>\n",
              "      <td>1.0</td>\n",
              "      <td>0.0</td>\n",
              "      <td>0.0</td>\n",
              "    </tr>\n",
              "    <tr>\n",
              "      <th>3</th>\n",
              "      <td>2020-04-29</td>\n",
              "      <td>AAPL</td>\n",
              "      <td>0.0</td>\n",
              "      <td>0.0</td>\n",
              "      <td>1.0</td>\n",
              "    </tr>\n",
              "    <tr>\n",
              "      <th>4</th>\n",
              "      <td>2020-04-29</td>\n",
              "      <td>AMD</td>\n",
              "      <td>0.0</td>\n",
              "      <td>0.0</td>\n",
              "      <td>1.0</td>\n",
              "    </tr>\n",
              "  </tbody>\n",
              "</table>\n",
              "</div>"
            ],
            "text/plain": [
              "comp_score        date Cashtag  neg  neut  pos\n",
              "0           2020-04-28    HEAR  0.0   0.0  1.0\n",
              "1           2020-04-28     HOG  1.0   0.0  0.0\n",
              "2           2020-04-28    LONG  1.0   0.0  0.0\n",
              "3           2020-04-29    AAPL  0.0   0.0  1.0\n",
              "4           2020-04-29     AMD  0.0   0.0  1.0"
            ]
          },
          "metadata": {
            "tags": []
          },
          "execution_count": 12
        }
      ]
    },
    {
      "cell_type": "code",
      "metadata": {
        "colab": {
          "base_uri": "https://localhost:8080/",
          "height": 191
        },
        "id": "LhfMBLreYE9C",
        "outputId": "abd351f6-d2f4-430e-b0c1-37e2cf5efdd7"
      },
      "source": [
        "#creating total comments column\n",
        "df_final['total_comments'] = df_final['pos']+df_final['neg']+df_final['neut']\n",
        "df_final.head()"
      ],
      "execution_count": 13,
      "outputs": [
        {
          "output_type": "execute_result",
          "data": {
            "text/html": [
              "<div>\n",
              "<style scoped>\n",
              "    .dataframe tbody tr th:only-of-type {\n",
              "        vertical-align: middle;\n",
              "    }\n",
              "\n",
              "    .dataframe tbody tr th {\n",
              "        vertical-align: top;\n",
              "    }\n",
              "\n",
              "    .dataframe thead th {\n",
              "        text-align: right;\n",
              "    }\n",
              "</style>\n",
              "<table border=\"1\" class=\"dataframe\">\n",
              "  <thead>\n",
              "    <tr style=\"text-align: right;\">\n",
              "      <th>comp_score</th>\n",
              "      <th>date</th>\n",
              "      <th>Cashtag</th>\n",
              "      <th>neg</th>\n",
              "      <th>neut</th>\n",
              "      <th>pos</th>\n",
              "      <th>total_comments</th>\n",
              "    </tr>\n",
              "  </thead>\n",
              "  <tbody>\n",
              "    <tr>\n",
              "      <th>0</th>\n",
              "      <td>2020-04-28</td>\n",
              "      <td>HEAR</td>\n",
              "      <td>0.0</td>\n",
              "      <td>0.0</td>\n",
              "      <td>1.0</td>\n",
              "      <td>1.0</td>\n",
              "    </tr>\n",
              "    <tr>\n",
              "      <th>1</th>\n",
              "      <td>2020-04-28</td>\n",
              "      <td>HOG</td>\n",
              "      <td>1.0</td>\n",
              "      <td>0.0</td>\n",
              "      <td>0.0</td>\n",
              "      <td>1.0</td>\n",
              "    </tr>\n",
              "    <tr>\n",
              "      <th>2</th>\n",
              "      <td>2020-04-28</td>\n",
              "      <td>LONG</td>\n",
              "      <td>1.0</td>\n",
              "      <td>0.0</td>\n",
              "      <td>0.0</td>\n",
              "      <td>1.0</td>\n",
              "    </tr>\n",
              "    <tr>\n",
              "      <th>3</th>\n",
              "      <td>2020-04-29</td>\n",
              "      <td>AAPL</td>\n",
              "      <td>0.0</td>\n",
              "      <td>0.0</td>\n",
              "      <td>1.0</td>\n",
              "      <td>1.0</td>\n",
              "    </tr>\n",
              "    <tr>\n",
              "      <th>4</th>\n",
              "      <td>2020-04-29</td>\n",
              "      <td>AMD</td>\n",
              "      <td>0.0</td>\n",
              "      <td>0.0</td>\n",
              "      <td>1.0</td>\n",
              "      <td>1.0</td>\n",
              "    </tr>\n",
              "  </tbody>\n",
              "</table>\n",
              "</div>"
            ],
            "text/plain": [
              "comp_score        date Cashtag  neg  neut  pos  total_comments\n",
              "0           2020-04-28    HEAR  0.0   0.0  1.0             1.0\n",
              "1           2020-04-28     HOG  1.0   0.0  0.0             1.0\n",
              "2           2020-04-28    LONG  1.0   0.0  0.0             1.0\n",
              "3           2020-04-29    AAPL  0.0   0.0  1.0             1.0\n",
              "4           2020-04-29     AMD  0.0   0.0  1.0             1.0"
            ]
          },
          "metadata": {
            "tags": []
          },
          "execution_count": 13
        }
      ]
    },
    {
      "cell_type": "code",
      "metadata": {
        "colab": {
          "base_uri": "https://localhost:8080/",
          "height": 191
        },
        "id": "jtOhsQpGgKG7",
        "outputId": "c05851cd-2bf2-453f-8d7a-9a3efbb1a9a3"
      },
      "source": [
        "df_final.sort_values(by=['total_comments'], inplace=True, ascending=False)\n",
        "df_final.head(5)"
      ],
      "execution_count": 14,
      "outputs": [
        {
          "output_type": "execute_result",
          "data": {
            "text/html": [
              "<div>\n",
              "<style scoped>\n",
              "    .dataframe tbody tr th:only-of-type {\n",
              "        vertical-align: middle;\n",
              "    }\n",
              "\n",
              "    .dataframe tbody tr th {\n",
              "        vertical-align: top;\n",
              "    }\n",
              "\n",
              "    .dataframe thead th {\n",
              "        text-align: right;\n",
              "    }\n",
              "</style>\n",
              "<table border=\"1\" class=\"dataframe\">\n",
              "  <thead>\n",
              "    <tr style=\"text-align: right;\">\n",
              "      <th>comp_score</th>\n",
              "      <th>date</th>\n",
              "      <th>Cashtag</th>\n",
              "      <th>neg</th>\n",
              "      <th>neut</th>\n",
              "      <th>pos</th>\n",
              "      <th>total_comments</th>\n",
              "    </tr>\n",
              "  </thead>\n",
              "  <tbody>\n",
              "    <tr>\n",
              "      <th>7833</th>\n",
              "      <td>2021-01-28</td>\n",
              "      <td>GME</td>\n",
              "      <td>561.0</td>\n",
              "      <td>756.0</td>\n",
              "      <td>1598.0</td>\n",
              "      <td>2915.0</td>\n",
              "    </tr>\n",
              "    <tr>\n",
              "      <th>9314</th>\n",
              "      <td>2021-02-01</td>\n",
              "      <td>GME</td>\n",
              "      <td>381.0</td>\n",
              "      <td>476.0</td>\n",
              "      <td>1242.0</td>\n",
              "      <td>2099.0</td>\n",
              "    </tr>\n",
              "    <tr>\n",
              "      <th>9663</th>\n",
              "      <td>2021-02-02</td>\n",
              "      <td>GME</td>\n",
              "      <td>399.0</td>\n",
              "      <td>495.0</td>\n",
              "      <td>1118.0</td>\n",
              "      <td>2012.0</td>\n",
              "    </tr>\n",
              "    <tr>\n",
              "      <th>8397</th>\n",
              "      <td>2021-01-29</td>\n",
              "      <td>GME</td>\n",
              "      <td>256.0</td>\n",
              "      <td>416.0</td>\n",
              "      <td>859.0</td>\n",
              "      <td>1531.0</td>\n",
              "    </tr>\n",
              "    <tr>\n",
              "      <th>9030</th>\n",
              "      <td>2021-01-31</td>\n",
              "      <td>GME</td>\n",
              "      <td>172.0</td>\n",
              "      <td>338.0</td>\n",
              "      <td>767.0</td>\n",
              "      <td>1277.0</td>\n",
              "    </tr>\n",
              "  </tbody>\n",
              "</table>\n",
              "</div>"
            ],
            "text/plain": [
              "comp_score        date Cashtag    neg   neut     pos  total_comments\n",
              "7833        2021-01-28     GME  561.0  756.0  1598.0          2915.0\n",
              "9314        2021-02-01     GME  381.0  476.0  1242.0          2099.0\n",
              "9663        2021-02-02     GME  399.0  495.0  1118.0          2012.0\n",
              "8397        2021-01-29     GME  256.0  416.0   859.0          1531.0\n",
              "9030        2021-01-31     GME  172.0  338.0   767.0          1277.0"
            ]
          },
          "metadata": {
            "tags": []
          },
          "execution_count": 14
        }
      ]
    },
    {
      "cell_type": "code",
      "metadata": {
        "colab": {
          "base_uri": "https://localhost:8080/",
          "height": 191
        },
        "id": "TrUEp4GZj2Rh",
        "outputId": "b218686d-91ca-47d3-eb07-eb0ff725b76e"
      },
      "source": [
        "df_final.sort_values(['Cashtag','total_comments'], inplace=True, ascending=[False,False])\n",
        "df_final.tail(5)"
      ],
      "execution_count": 15,
      "outputs": [
        {
          "output_type": "execute_result",
          "data": {
            "text/html": [
              "<div>\n",
              "<style scoped>\n",
              "    .dataframe tbody tr th:only-of-type {\n",
              "        vertical-align: middle;\n",
              "    }\n",
              "\n",
              "    .dataframe tbody tr th {\n",
              "        vertical-align: top;\n",
              "    }\n",
              "\n",
              "    .dataframe thead th {\n",
              "        text-align: right;\n",
              "    }\n",
              "</style>\n",
              "<table border=\"1\" class=\"dataframe\">\n",
              "  <thead>\n",
              "    <tr style=\"text-align: right;\">\n",
              "      <th>comp_score</th>\n",
              "      <th>date</th>\n",
              "      <th>Cashtag</th>\n",
              "      <th>neg</th>\n",
              "      <th>neut</th>\n",
              "      <th>pos</th>\n",
              "      <th>total_comments</th>\n",
              "    </tr>\n",
              "  </thead>\n",
              "  <tbody>\n",
              "    <tr>\n",
              "      <th>10437</th>\n",
              "      <td>2021-02-08</td>\n",
              "      <td>A.T.O.S</td>\n",
              "      <td>0.0</td>\n",
              "      <td>1.0</td>\n",
              "      <td>0.0</td>\n",
              "      <td>1.0</td>\n",
              "    </tr>\n",
              "    <tr>\n",
              "      <th>5974</th>\n",
              "      <td>2021-01-12</td>\n",
              "      <td>A.T.A.C</td>\n",
              "      <td>0.0</td>\n",
              "      <td>1.0</td>\n",
              "      <td>0.0</td>\n",
              "      <td>1.0</td>\n",
              "    </tr>\n",
              "    <tr>\n",
              "      <th>5773</th>\n",
              "      <td>2021-01-07</td>\n",
              "      <td>A</td>\n",
              "      <td>0.0</td>\n",
              "      <td>0.0</td>\n",
              "      <td>1.0</td>\n",
              "      <td>1.0</td>\n",
              "    </tr>\n",
              "    <tr>\n",
              "      <th>5973</th>\n",
              "      <td>2021-01-12</td>\n",
              "      <td>A</td>\n",
              "      <td>0.0</td>\n",
              "      <td>0.0</td>\n",
              "      <td>1.0</td>\n",
              "      <td>1.0</td>\n",
              "    </tr>\n",
              "    <tr>\n",
              "      <th>6426</th>\n",
              "      <td>2021-01-20</td>\n",
              "      <td>A</td>\n",
              "      <td>1.0</td>\n",
              "      <td>0.0</td>\n",
              "      <td>0.0</td>\n",
              "      <td>1.0</td>\n",
              "    </tr>\n",
              "  </tbody>\n",
              "</table>\n",
              "</div>"
            ],
            "text/plain": [
              "comp_score        date  Cashtag  neg  neut  pos  total_comments\n",
              "10437       2021-02-08  A.T.O.S  0.0   1.0  0.0             1.0\n",
              "5974        2021-01-12  A.T.A.C  0.0   1.0  0.0             1.0\n",
              "5773        2021-01-07        A  0.0   0.0  1.0             1.0\n",
              "5973        2021-01-12        A  0.0   0.0  1.0             1.0\n",
              "6426        2021-01-20        A  1.0   0.0  0.0             1.0"
            ]
          },
          "metadata": {
            "tags": []
          },
          "execution_count": 15
        }
      ]
    },
    {
      "cell_type": "markdown",
      "metadata": {
        "id": "j9akwZc5sKRo"
      },
      "source": [
        "##GME\n"
      ]
    },
    {
      "cell_type": "code",
      "metadata": {
        "id": "wkK6z2OHfmxI"
      },
      "source": [
        "#Webscrapping GME data\n",
        "import re\n",
        "from io import StringIO\n",
        "from datetime import datetime, timedelta\n",
        "\n",
        "import requests\n",
        "import pandas as pd\n",
        "\n",
        "\n",
        "class YahooFinanceHistory:\n",
        "    timeout = 2\n",
        "    crumb_link = 'https://finance.yahoo.com/quote/{0}/history?p={0}'\n",
        "    crumble_regex = r'CrumbStore\":{\"crumb\":\"(.*?)\"}'\n",
        "    quote_link = 'https://query1.finance.yahoo.com/v7/finance/download/{quote}?period1={dfrom}&period2={dto}&interval=1d&events=history&crumb={crumb}'\n",
        "\n",
        "    def __init__(self, symbol, days_back=7):\n",
        "        self.symbol = symbol\n",
        "        self.session = requests.Session()\n",
        "        self.dt = timedelta(days=days_back)\n",
        "\n",
        "    def get_crumb(self):\n",
        "        response = self.session.get(self.crumb_link.format(self.symbol), timeout=self.timeout)\n",
        "        response.raise_for_status()\n",
        "        match = re.search(self.crumble_regex, response.text)\n",
        "        if not match:\n",
        "            raise ValueError('Could not get crumb from Yahoo Finance')\n",
        "        else:\n",
        "            self.crumb = match.group(1)\n",
        "\n",
        "    def get_quote(self):\n",
        "        if not hasattr(self, 'crumb') or len(self.session.cookies) == 0:\n",
        "            self.get_crumb()\n",
        "        now = datetime.utcnow()\n",
        "        dateto = int(now.timestamp())\n",
        "        datefrom = int((now - self.dt).timestamp())\n",
        "        url = self.quote_link.format(quote=self.symbol, dfrom=datefrom, dto=dateto, crumb=self.crumb)\n",
        "        response = self.session.get(url)\n",
        "        response.raise_for_status()\n",
        "        return pd.read_csv(StringIO(response.text), parse_dates=['Date'])"
      ],
      "execution_count": 16,
      "outputs": []
    },
    {
      "cell_type": "code",
      "metadata": {
        "colab": {
          "base_uri": "https://localhost:8080/",
          "height": 191
        },
        "id": "_OKkPRUqf6ha",
        "outputId": "38875967-c35d-4d2b-bb84-c3aae40735ba"
      },
      "source": [
        "gme = YahooFinanceHistory('GME', days_back=375).get_quote()\n",
        "\n",
        "\n",
        "keep_same = {'Date'}\n",
        "gme.columns = ['{}{}'.format(c, '' if c in keep_same else '_GME')\n",
        "            for c in gme.columns]\n",
        "gme.head()"
      ],
      "execution_count": 17,
      "outputs": [
        {
          "output_type": "execute_result",
          "data": {
            "text/html": [
              "<div>\n",
              "<style scoped>\n",
              "    .dataframe tbody tr th:only-of-type {\n",
              "        vertical-align: middle;\n",
              "    }\n",
              "\n",
              "    .dataframe tbody tr th {\n",
              "        vertical-align: top;\n",
              "    }\n",
              "\n",
              "    .dataframe thead th {\n",
              "        text-align: right;\n",
              "    }\n",
              "</style>\n",
              "<table border=\"1\" class=\"dataframe\">\n",
              "  <thead>\n",
              "    <tr style=\"text-align: right;\">\n",
              "      <th></th>\n",
              "      <th>Date</th>\n",
              "      <th>Open_GME</th>\n",
              "      <th>High_GME</th>\n",
              "      <th>Low_GME</th>\n",
              "      <th>Close_GME</th>\n",
              "      <th>Adj Close_GME</th>\n",
              "      <th>Volume_GME</th>\n",
              "    </tr>\n",
              "  </thead>\n",
              "  <tbody>\n",
              "    <tr>\n",
              "      <th>0</th>\n",
              "      <td>2020-04-29</td>\n",
              "      <td>5.83</td>\n",
              "      <td>6.09</td>\n",
              "      <td>5.45</td>\n",
              "      <td>6.04</td>\n",
              "      <td>6.04</td>\n",
              "      <td>3369600</td>\n",
              "    </tr>\n",
              "    <tr>\n",
              "      <th>1</th>\n",
              "      <td>2020-04-30</td>\n",
              "      <td>5.87</td>\n",
              "      <td>5.98</td>\n",
              "      <td>5.64</td>\n",
              "      <td>5.73</td>\n",
              "      <td>5.73</td>\n",
              "      <td>2173300</td>\n",
              "    </tr>\n",
              "    <tr>\n",
              "      <th>2</th>\n",
              "      <td>2020-05-01</td>\n",
              "      <td>5.65</td>\n",
              "      <td>6.18</td>\n",
              "      <td>5.45</td>\n",
              "      <td>6.05</td>\n",
              "      <td>6.05</td>\n",
              "      <td>4005600</td>\n",
              "    </tr>\n",
              "    <tr>\n",
              "      <th>3</th>\n",
              "      <td>2020-05-04</td>\n",
              "      <td>5.84</td>\n",
              "      <td>5.93</td>\n",
              "      <td>5.40</td>\n",
              "      <td>5.48</td>\n",
              "      <td>5.48</td>\n",
              "      <td>4068100</td>\n",
              "    </tr>\n",
              "    <tr>\n",
              "      <th>4</th>\n",
              "      <td>2020-05-05</td>\n",
              "      <td>5.55</td>\n",
              "      <td>5.63</td>\n",
              "      <td>5.35</td>\n",
              "      <td>5.39</td>\n",
              "      <td>5.39</td>\n",
              "      <td>2105900</td>\n",
              "    </tr>\n",
              "  </tbody>\n",
              "</table>\n",
              "</div>"
            ],
            "text/plain": [
              "        Date  Open_GME  High_GME  Low_GME  Close_GME  Adj Close_GME  Volume_GME\n",
              "0 2020-04-29      5.83      6.09     5.45       6.04           6.04     3369600\n",
              "1 2020-04-30      5.87      5.98     5.64       5.73           5.73     2173300\n",
              "2 2020-05-01      5.65      6.18     5.45       6.05           6.05     4005600\n",
              "3 2020-05-04      5.84      5.93     5.40       5.48           5.48     4068100\n",
              "4 2020-05-05      5.55      5.63     5.35       5.39           5.39     2105900"
            ]
          },
          "metadata": {
            "tags": []
          },
          "execution_count": 17
        }
      ]
    },
    {
      "cell_type": "code",
      "metadata": {
        "colab": {
          "base_uri": "https://localhost:8080/",
          "height": 272
        },
        "id": "s383NC1MsMRM",
        "outputId": "20068475-9524-478d-c905-ee53fa069319"
      },
      "source": [
        "#selecting only GME stocks\n",
        "gme_sent = df_final[df_final['Cashtag']=='GME']\n",
        "gme_sent.sort_values(by=['date'], inplace=True, ascending=False)\n",
        "gme_sent.head()"
      ],
      "execution_count": 18,
      "outputs": [
        {
          "output_type": "stream",
          "text": [
            "/usr/local/lib/python3.7/dist-packages/ipykernel_launcher.py:3: SettingWithCopyWarning: \n",
            "A value is trying to be set on a copy of a slice from a DataFrame\n",
            "\n",
            "See the caveats in the documentation: https://pandas.pydata.org/pandas-docs/stable/user_guide/indexing.html#returning-a-view-versus-a-copy\n",
            "  This is separate from the ipykernel package so we can avoid doing imports until\n"
          ],
          "name": "stderr"
        },
        {
          "output_type": "execute_result",
          "data": {
            "text/html": [
              "<div>\n",
              "<style scoped>\n",
              "    .dataframe tbody tr th:only-of-type {\n",
              "        vertical-align: middle;\n",
              "    }\n",
              "\n",
              "    .dataframe tbody tr th {\n",
              "        vertical-align: top;\n",
              "    }\n",
              "\n",
              "    .dataframe thead th {\n",
              "        text-align: right;\n",
              "    }\n",
              "</style>\n",
              "<table border=\"1\" class=\"dataframe\">\n",
              "  <thead>\n",
              "    <tr style=\"text-align: right;\">\n",
              "      <th>comp_score</th>\n",
              "      <th>date</th>\n",
              "      <th>Cashtag</th>\n",
              "      <th>neg</th>\n",
              "      <th>neut</th>\n",
              "      <th>pos</th>\n",
              "      <th>total_comments</th>\n",
              "    </tr>\n",
              "  </thead>\n",
              "  <tbody>\n",
              "    <tr>\n",
              "      <th>16576</th>\n",
              "      <td>2021-04-28</td>\n",
              "      <td>GME</td>\n",
              "      <td>0.0</td>\n",
              "      <td>3.0</td>\n",
              "      <td>5.0</td>\n",
              "      <td>8.0</td>\n",
              "    </tr>\n",
              "    <tr>\n",
              "      <th>16486</th>\n",
              "      <td>2021-04-27</td>\n",
              "      <td>GME</td>\n",
              "      <td>1.0</td>\n",
              "      <td>2.0</td>\n",
              "      <td>9.0</td>\n",
              "      <td>12.0</td>\n",
              "    </tr>\n",
              "    <tr>\n",
              "      <th>16394</th>\n",
              "      <td>2021-04-26</td>\n",
              "      <td>GME</td>\n",
              "      <td>2.0</td>\n",
              "      <td>3.0</td>\n",
              "      <td>10.0</td>\n",
              "      <td>15.0</td>\n",
              "    </tr>\n",
              "    <tr>\n",
              "      <th>16339</th>\n",
              "      <td>2021-04-25</td>\n",
              "      <td>GME</td>\n",
              "      <td>0.0</td>\n",
              "      <td>6.0</td>\n",
              "      <td>2.0</td>\n",
              "      <td>8.0</td>\n",
              "    </tr>\n",
              "    <tr>\n",
              "      <th>16302</th>\n",
              "      <td>2021-04-24</td>\n",
              "      <td>GME</td>\n",
              "      <td>0.0</td>\n",
              "      <td>3.0</td>\n",
              "      <td>0.0</td>\n",
              "      <td>3.0</td>\n",
              "    </tr>\n",
              "  </tbody>\n",
              "</table>\n",
              "</div>"
            ],
            "text/plain": [
              "comp_score        date Cashtag  neg  neut   pos  total_comments\n",
              "16576       2021-04-28     GME  0.0   3.0   5.0             8.0\n",
              "16486       2021-04-27     GME  1.0   2.0   9.0            12.0\n",
              "16394       2021-04-26     GME  2.0   3.0  10.0            15.0\n",
              "16339       2021-04-25     GME  0.0   6.0   2.0             8.0\n",
              "16302       2021-04-24     GME  0.0   3.0   0.0             3.0"
            ]
          },
          "metadata": {
            "tags": []
          },
          "execution_count": 18
        }
      ]
    },
    {
      "cell_type": "code",
      "metadata": {
        "id": "XoFiowKvgcXE"
      },
      "source": [
        "gme['Date'] = gme['Date'].astype('str')"
      ],
      "execution_count": 20,
      "outputs": []
    },
    {
      "cell_type": "code",
      "metadata": {
        "colab": {
          "base_uri": "https://localhost:8080/",
          "height": 191
        },
        "id": "696zcxihsD9g",
        "outputId": "c24974a0-133e-4593-fcf7-68079bf0025b"
      },
      "source": [
        "#Merging the two datafrmaes, gme stocks data and sentiment analysis\n",
        "gme_merge = gme.merge(gme_sent,left_on='Date',right_on='date')\n",
        "gme_merge.head()"
      ],
      "execution_count": 21,
      "outputs": [
        {
          "output_type": "execute_result",
          "data": {
            "text/html": [
              "<div>\n",
              "<style scoped>\n",
              "    .dataframe tbody tr th:only-of-type {\n",
              "        vertical-align: middle;\n",
              "    }\n",
              "\n",
              "    .dataframe tbody tr th {\n",
              "        vertical-align: top;\n",
              "    }\n",
              "\n",
              "    .dataframe thead th {\n",
              "        text-align: right;\n",
              "    }\n",
              "</style>\n",
              "<table border=\"1\" class=\"dataframe\">\n",
              "  <thead>\n",
              "    <tr style=\"text-align: right;\">\n",
              "      <th></th>\n",
              "      <th>Date</th>\n",
              "      <th>Open_GME</th>\n",
              "      <th>High_GME</th>\n",
              "      <th>Low_GME</th>\n",
              "      <th>Close_GME</th>\n",
              "      <th>Adj Close_GME</th>\n",
              "      <th>Volume_GME</th>\n",
              "      <th>date</th>\n",
              "      <th>Cashtag</th>\n",
              "      <th>neg</th>\n",
              "      <th>neut</th>\n",
              "      <th>pos</th>\n",
              "      <th>total_comments</th>\n",
              "    </tr>\n",
              "  </thead>\n",
              "  <tbody>\n",
              "    <tr>\n",
              "      <th>0</th>\n",
              "      <td>2020-05-08</td>\n",
              "      <td>4.88</td>\n",
              "      <td>5.19</td>\n",
              "      <td>4.82</td>\n",
              "      <td>4.98</td>\n",
              "      <td>4.98</td>\n",
              "      <td>2352600</td>\n",
              "      <td>2020-05-08</td>\n",
              "      <td>GME</td>\n",
              "      <td>1.0</td>\n",
              "      <td>0.0</td>\n",
              "      <td>0.0</td>\n",
              "      <td>1.0</td>\n",
              "    </tr>\n",
              "    <tr>\n",
              "      <th>1</th>\n",
              "      <td>2020-05-27</td>\n",
              "      <td>4.57</td>\n",
              "      <td>4.71</td>\n",
              "      <td>4.36</td>\n",
              "      <td>4.69</td>\n",
              "      <td>4.69</td>\n",
              "      <td>3146600</td>\n",
              "      <td>2020-05-27</td>\n",
              "      <td>GME</td>\n",
              "      <td>0.0</td>\n",
              "      <td>1.0</td>\n",
              "      <td>0.0</td>\n",
              "      <td>1.0</td>\n",
              "    </tr>\n",
              "    <tr>\n",
              "      <th>2</th>\n",
              "      <td>2020-06-08</td>\n",
              "      <td>4.28</td>\n",
              "      <td>5.14</td>\n",
              "      <td>4.27</td>\n",
              "      <td>5.01</td>\n",
              "      <td>5.01</td>\n",
              "      <td>10133700</td>\n",
              "      <td>2020-06-08</td>\n",
              "      <td>GME</td>\n",
              "      <td>0.0</td>\n",
              "      <td>0.0</td>\n",
              "      <td>1.0</td>\n",
              "      <td>1.0</td>\n",
              "    </tr>\n",
              "    <tr>\n",
              "      <th>3</th>\n",
              "      <td>2020-06-09</td>\n",
              "      <td>5.00</td>\n",
              "      <td>5.00</td>\n",
              "      <td>4.55</td>\n",
              "      <td>4.96</td>\n",
              "      <td>4.96</td>\n",
              "      <td>8073400</td>\n",
              "      <td>2020-06-09</td>\n",
              "      <td>GME</td>\n",
              "      <td>0.0</td>\n",
              "      <td>2.0</td>\n",
              "      <td>0.0</td>\n",
              "      <td>2.0</td>\n",
              "    </tr>\n",
              "    <tr>\n",
              "      <th>4</th>\n",
              "      <td>2020-08-04</td>\n",
              "      <td>4.13</td>\n",
              "      <td>4.74</td>\n",
              "      <td>4.13</td>\n",
              "      <td>4.43</td>\n",
              "      <td>4.43</td>\n",
              "      <td>10361400</td>\n",
              "      <td>2020-08-04</td>\n",
              "      <td>GME</td>\n",
              "      <td>0.0</td>\n",
              "      <td>0.0</td>\n",
              "      <td>2.0</td>\n",
              "      <td>2.0</td>\n",
              "    </tr>\n",
              "  </tbody>\n",
              "</table>\n",
              "</div>"
            ],
            "text/plain": [
              "         Date  Open_GME  High_GME  Low_GME  ...  neg  neut  pos total_comments\n",
              "0  2020-05-08      4.88      5.19     4.82  ...  1.0   0.0  0.0            1.0\n",
              "1  2020-05-27      4.57      4.71     4.36  ...  0.0   1.0  0.0            1.0\n",
              "2  2020-06-08      4.28      5.14     4.27  ...  0.0   0.0  1.0            1.0\n",
              "3  2020-06-09      5.00      5.00     4.55  ...  0.0   2.0  0.0            2.0\n",
              "4  2020-08-04      4.13      4.74     4.13  ...  0.0   0.0  2.0            2.0\n",
              "\n",
              "[5 rows x 13 columns]"
            ]
          },
          "metadata": {
            "tags": []
          },
          "execution_count": 21
        }
      ]
    },
    {
      "cell_type": "code",
      "metadata": {
        "id": "CIUz7d1TsoSn"
      },
      "source": [
        "import matplotlib.pyplot as plt"
      ],
      "execution_count": 22,
      "outputs": []
    },
    {
      "cell_type": "code",
      "metadata": {
        "colab": {
          "base_uri": "https://localhost:8080/",
          "height": 571
        },
        "id": "k0m4R-O0srFI",
        "outputId": "6f166758-6d07-4757-d4c9-228d3cc59d80"
      },
      "source": [
        "\n",
        "ax = plt.gca()\n",
        "\n",
        "gme_merge.plot(kind='line', y='Adj Close_GME', color='green', ax=ax, figsize=(16, 10))\n",
        "gme_merge.plot(kind='line', y='pos', color='red', ax=ax, figsize=(16, 10))\n",
        "\n",
        "plt.show()"
      ],
      "execution_count": 24,
      "outputs": [
        {
          "output_type": "display_data",
          "data": {
            "image/png": "[encoded data removed]",
            "text/plain": [
              "<Figure size 1152x720 with 1 Axes>"
            ]
          },
          "metadata": {
            "tags": [],
            "needs_background": "light"
          }
        }
      ]
    },
    {
      "cell_type": "code",
      "metadata": {
        "colab": {
          "base_uri": "https://localhost:8080/",
          "height": 17
        },
        "id": "ts8aQ586hZBZ",
        "outputId": "c5550735-57bd-40eb-9a07-4cd9009c375c"
      },
      "source": [
        "from google.colab import files\n",
        "gme_merge.to_csv('gme_merge.csv') \n",
        "files.download('gme_merge.csv')"
      ],
      "execution_count": null,
      "outputs": [
        {
          "output_type": "display_data",
          "data": {
            "application/javascript": [
              "\n",
              "    async function download(id, filename, size) {\n",
              "      if (!google.colab.kernel.accessAllowed) {\n",
              "        return;\n",
              "      }\n",
              "      const div = document.createElement('div');\n",
              "      const label = document.createElement('label');\n",
              "      label.textContent = `Downloading \"${filename}\": `;\n",
              "      div.appendChild(label);\n",
              "      const progress = document.createElement('progress');\n",
              "      progress.max = size;\n",
              "      div.appendChild(progress);\n",
              "      document.body.appendChild(div);\n",
              "\n",
              "      const buffers = [];\n",
              "      let downloaded = 0;\n",
              "\n",
              "      const channel = await google.colab.kernel.comms.open(id);\n",
              "      // Send a message to notify the kernel that we're ready.\n",
              "      channel.send({})\n",
              "\n",
              "      for await (const message of channel.messages) {\n",
              "        // Send a message to notify the kernel that we're ready.\n",
              "        channel.send({})\n",
              "        if (message.buffers) {\n",
              "          for (const buffer of message.buffers) {\n",
              "            buffers.push(buffer);\n",
              "            downloaded += buffer.byteLength;\n",
              "            progress.value = downloaded;\n",
              "          }\n",
              "        }\n",
              "      }\n",
              "      const blob = new Blob(buffers, {type: 'application/binary'});\n",
              "      const a = document.createElement('a');\n",
              "      a.href = window.URL.createObjectURL(blob);\n",
              "      a.download = filename;\n",
              "      div.appendChild(a);\n",
              "      a.click();\n",
              "      div.remove();\n",
              "    }\n",
              "  "
            ],
            "text/plain": [
              "<IPython.core.display.Javascript object>"
            ]
          },
          "metadata": {
            "tags": []
          }
        },
        {
          "output_type": "display_data",
          "data": {
            "application/javascript": [
              "download(\"download_285cddcf-3a54-4bf3-b7b0-8bb9668bf5e6\", \"gme_merge.csv\", 12813)"
            ],
            "text/plain": [
              "<IPython.core.display.Javascript object>"
            ]
          },
          "metadata": {
            "tags": []
          }
        }
      ]
    },
    {
      "cell_type": "markdown",
      "metadata": {
        "id": "NHhaDjwP4pZE"
      },
      "source": [
        "##NOK"
      ]
    },
    {
      "cell_type": "code",
      "metadata": {
        "id": "vx5yvxD0suFF"
      },
      "source": [
        "import re\n",
        "from io import StringIO\n",
        "from datetime import datetime, timedelta\n",
        "\n",
        "import requests\n",
        "import pandas as pd\n",
        "\n",
        "\n",
        "class YahooFinanceHistory:\n",
        "    timeout = 2\n",
        "    crumb_link = 'https://finance.yahoo.com/quote/{0}/history?p={0}'\n",
        "    crumble_regex = r'CrumbStore\":{\"crumb\":\"(.*?)\"}'\n",
        "    quote_link = 'https://query1.finance.yahoo.com/v7/finance/download/{quote}?period1={dfrom}&period2={dto}&interval=1d&events=history&crumb={crumb}'\n",
        "\n",
        "    def __init__(self, symbol, days_back=7):\n",
        "        self.symbol = symbol\n",
        "        self.session = requests.Session()\n",
        "        self.dt = timedelta(days=days_back)\n",
        "\n",
        "    def get_crumb(self):\n",
        "        response = self.session.get(self.crumb_link.format(self.symbol), timeout=self.timeout)\n",
        "        response.raise_for_status()\n",
        "        match = re.search(self.crumble_regex, response.text)\n",
        "        if not match:\n",
        "            raise ValueError('Could not get crumb from Yahoo Finance')\n",
        "        else:\n",
        "            self.crumb = match.group(1)\n",
        "\n",
        "    def get_quote(self):\n",
        "        if not hasattr(self, 'crumb') or len(self.session.cookies) == 0:\n",
        "            self.get_crumb()\n",
        "        now = datetime.utcnow()\n",
        "        dateto = int(now.timestamp())\n",
        "        datefrom = int((now - self.dt).timestamp())\n",
        "        url = self.quote_link.format(quote=self.symbol, dfrom=datefrom, dto=dateto, crumb=self.crumb)\n",
        "        response = self.session.get(url)\n",
        "        response.raise_for_status()\n",
        "        return pd.read_csv(StringIO(response.text), parse_dates=['Date'])\n"
      ],
      "execution_count": null,
      "outputs": []
    },
    {
      "cell_type": "code",
      "metadata": {
        "colab": {
          "base_uri": "https://localhost:8080/",
          "height": 191
        },
        "id": "7s3OnFd6suWr",
        "outputId": "8a4aa43e-65ea-4fc7-dcfa-8425698b25b5"
      },
      "source": [
        "\n",
        "nok = YahooFinanceHistory('NOK', days_back=375).get_quote()\n",
        "\n",
        "\n",
        "keep_same = {'Date'}\n",
        "nok.columns = ['{}{}'.format(c, '' if c in keep_same else '_NOK')\n",
        "            for c in nok.columns]\n",
        "nok.head()"
      ],
      "execution_count": null,
      "outputs": [
        {
          "output_type": "execute_result",
          "data": {
            "text/html": [
              "<div>\n",
              "<style scoped>\n",
              "    .dataframe tbody tr th:only-of-type {\n",
              "        vertical-align: middle;\n",
              "    }\n",
              "\n",
              "    .dataframe tbody tr th {\n",
              "        vertical-align: top;\n",
              "    }\n",
              "\n",
              "    .dataframe thead th {\n",
              "        text-align: right;\n",
              "    }\n",
              "</style>\n",
              "<table border=\"1\" class=\"dataframe\">\n",
              "  <thead>\n",
              "    <tr style=\"text-align: right;\">\n",
              "      <th></th>\n",
              "      <th>Date</th>\n",
              "      <th>Open_NOK</th>\n",
              "      <th>High_NOK</th>\n",
              "      <th>Low_NOK</th>\n",
              "      <th>Close_NOK</th>\n",
              "      <th>Adj Close_NOK</th>\n",
              "      <th>Volume_NOK</th>\n",
              "    </tr>\n",
              "  </thead>\n",
              "  <tbody>\n",
              "    <tr>\n",
              "      <th>0</th>\n",
              "      <td>2020-04-27</td>\n",
              "      <td>3.41</td>\n",
              "      <td>3.46</td>\n",
              "      <td>3.40</td>\n",
              "      <td>3.46</td>\n",
              "      <td>3.46</td>\n",
              "      <td>12403700</td>\n",
              "    </tr>\n",
              "    <tr>\n",
              "      <th>1</th>\n",
              "      <td>2020-04-28</td>\n",
              "      <td>3.48</td>\n",
              "      <td>3.49</td>\n",
              "      <td>3.39</td>\n",
              "      <td>3.41</td>\n",
              "      <td>3.41</td>\n",
              "      <td>26159500</td>\n",
              "    </tr>\n",
              "    <tr>\n",
              "      <th>2</th>\n",
              "      <td>2020-04-29</td>\n",
              "      <td>3.49</td>\n",
              "      <td>3.55</td>\n",
              "      <td>3.42</td>\n",
              "      <td>3.51</td>\n",
              "      <td>3.51</td>\n",
              "      <td>22155600</td>\n",
              "    </tr>\n",
              "    <tr>\n",
              "      <th>3</th>\n",
              "      <td>2020-04-30</td>\n",
              "      <td>3.69</td>\n",
              "      <td>3.70</td>\n",
              "      <td>3.56</td>\n",
              "      <td>3.58</td>\n",
              "      <td>3.58</td>\n",
              "      <td>55906500</td>\n",
              "    </tr>\n",
              "    <tr>\n",
              "      <th>4</th>\n",
              "      <td>2020-05-01</td>\n",
              "      <td>3.53</td>\n",
              "      <td>3.63</td>\n",
              "      <td>3.46</td>\n",
              "      <td>3.60</td>\n",
              "      <td>3.60</td>\n",
              "      <td>32805500</td>\n",
              "    </tr>\n",
              "  </tbody>\n",
              "</table>\n",
              "</div>"
            ],
            "text/plain": [
              "        Date  Open_NOK  High_NOK  Low_NOK  Close_NOK  Adj Close_NOK  Volume_NOK\n",
              "0 2020-04-27      3.41      3.46     3.40       3.46           3.46    12403700\n",
              "1 2020-04-28      3.48      3.49     3.39       3.41           3.41    26159500\n",
              "2 2020-04-29      3.49      3.55     3.42       3.51           3.51    22155600\n",
              "3 2020-04-30      3.69      3.70     3.56       3.58           3.58    55906500\n",
              "4 2020-05-01      3.53      3.63     3.46       3.60           3.60    32805500"
            ]
          },
          "metadata": {
            "tags": []
          },
          "execution_count": 17
        }
      ]
    },
    {
      "cell_type": "code",
      "metadata": {
        "id": "1rwhL0Lm5kSX"
      },
      "source": [
        "# nok.loc[:,'Date'] =  pd.to_datetime(nok.loc[:,'Date'], format='%Y-%m-%d')\n",
        "# nok.head()\n"
      ],
      "execution_count": null,
      "outputs": []
    },
    {
      "cell_type": "code",
      "metadata": {
        "colab": {
          "base_uri": "https://localhost:8080/",
          "height": 272
        },
        "id": "YnD-HetB51ht",
        "outputId": "c8437c6d-e3bc-41b4-db50-8f14c35ee27c"
      },
      "source": [
        "nok_sent = df_final[df_final['Cashtag']=='NOK']\n",
        "nok_sent.sort_values(by=['date'], inplace=True, ascending=False)\n",
        "nok_sent.head()"
      ],
      "execution_count": null,
      "outputs": [
        {
          "output_type": "stream",
          "text": [
            "/usr/local/lib/python3.7/dist-packages/ipykernel_launcher.py:2: SettingWithCopyWarning: \n",
            "A value is trying to be set on a copy of a slice from a DataFrame\n",
            "\n",
            "See the caveats in the documentation: https://pandas.pydata.org/pandas-docs/stable/user_guide/indexing.html#returning-a-view-versus-a-copy\n",
            "  \n"
          ],
          "name": "stderr"
        },
        {
          "output_type": "execute_result",
          "data": {
            "text/html": [
              "<div>\n",
              "<style scoped>\n",
              "    .dataframe tbody tr th:only-of-type {\n",
              "        vertical-align: middle;\n",
              "    }\n",
              "\n",
              "    .dataframe tbody tr th {\n",
              "        vertical-align: top;\n",
              "    }\n",
              "\n",
              "    .dataframe thead th {\n",
              "        text-align: right;\n",
              "    }\n",
              "</style>\n",
              "<table border=\"1\" class=\"dataframe\">\n",
              "  <thead>\n",
              "    <tr style=\"text-align: right;\">\n",
              "      <th>comp_score</th>\n",
              "      <th>date</th>\n",
              "      <th>Cashtag</th>\n",
              "      <th>neg</th>\n",
              "      <th>neut</th>\n",
              "      <th>pos</th>\n",
              "      <th>total_comments</th>\n",
              "    </tr>\n",
              "  </thead>\n",
              "  <tbody>\n",
              "    <tr>\n",
              "      <th>16514</th>\n",
              "      <td>2021-04-27</td>\n",
              "      <td>NOK</td>\n",
              "      <td>0.0</td>\n",
              "      <td>1.0</td>\n",
              "      <td>0.0</td>\n",
              "      <td>1.0</td>\n",
              "    </tr>\n",
              "    <tr>\n",
              "      <th>16412</th>\n",
              "      <td>2021-04-26</td>\n",
              "      <td>NOK</td>\n",
              "      <td>0.0</td>\n",
              "      <td>1.0</td>\n",
              "      <td>0.0</td>\n",
              "      <td>1.0</td>\n",
              "    </tr>\n",
              "    <tr>\n",
              "      <th>16353</th>\n",
              "      <td>2021-04-25</td>\n",
              "      <td>NOK</td>\n",
              "      <td>0.0</td>\n",
              "      <td>0.0</td>\n",
              "      <td>1.0</td>\n",
              "      <td>1.0</td>\n",
              "    </tr>\n",
              "    <tr>\n",
              "      <th>15983</th>\n",
              "      <td>2021-04-19</td>\n",
              "      <td>NOK</td>\n",
              "      <td>0.0</td>\n",
              "      <td>0.0</td>\n",
              "      <td>1.0</td>\n",
              "      <td>1.0</td>\n",
              "    </tr>\n",
              "    <tr>\n",
              "      <th>15788</th>\n",
              "      <td>2021-04-15</td>\n",
              "      <td>NOK</td>\n",
              "      <td>0.0</td>\n",
              "      <td>1.0</td>\n",
              "      <td>0.0</td>\n",
              "      <td>1.0</td>\n",
              "    </tr>\n",
              "  </tbody>\n",
              "</table>\n",
              "</div>"
            ],
            "text/plain": [
              "comp_score        date Cashtag  neg  neut  pos  total_comments\n",
              "16514       2021-04-27     NOK  0.0   1.0  0.0             1.0\n",
              "16412       2021-04-26     NOK  0.0   1.0  0.0             1.0\n",
              "16353       2021-04-25     NOK  0.0   0.0  1.0             1.0\n",
              "15983       2021-04-19     NOK  0.0   0.0  1.0             1.0\n",
              "15788       2021-04-15     NOK  0.0   1.0  0.0             1.0"
            ]
          },
          "metadata": {
            "tags": []
          },
          "execution_count": 18
        }
      ]
    },
    {
      "cell_type": "code",
      "metadata": {
        "id": "X-I9p50oBPP5"
      },
      "source": [
        "nok['Date'] = nok['Date'].astype('str')"
      ],
      "execution_count": null,
      "outputs": []
    },
    {
      "cell_type": "code",
      "metadata": {
        "colab": {
          "base_uri": "https://localhost:8080/"
        },
        "id": "IDuso0S57nUf",
        "outputId": "ba3a6fc1-80d6-4124-9c03-be7cb189a5fa"
      },
      "source": [
        "\n",
        "nok.info()"
      ],
      "execution_count": null,
      "outputs": [
        {
          "output_type": "stream",
          "text": [
            "<class 'pandas.core.frame.DataFrame'>\n",
            "RangeIndex: 261 entries, 0 to 260\n",
            "Data columns (total 7 columns):\n",
            " #   Column         Non-Null Count  Dtype  \n",
            "---  ------         --------------  -----  \n",
            " 0   Date           261 non-null    object \n",
            " 1   Open_NOK       261 non-null    float64\n",
            " 2   High_NOK       261 non-null    float64\n",
            " 3   Low_NOK        261 non-null    float64\n",
            " 4   Close_NOK      261 non-null    float64\n",
            " 5   Adj Close_NOK  261 non-null    float64\n",
            " 6   Volume_NOK     261 non-null    int64  \n",
            "dtypes: float64(5), int64(1), object(1)\n",
            "memory usage: 14.4+ KB\n"
          ],
          "name": "stdout"
        }
      ]
    },
    {
      "cell_type": "code",
      "metadata": {
        "colab": {
          "base_uri": "https://localhost:8080/",
          "height": 191
        },
        "id": "uE4ZSz4G5qxG",
        "outputId": "4ab64329-ff82-4bd4-fa7e-2d00d8e1f4cf"
      },
      "source": [
        "nok_merge = nok.merge(nok_sent,left_on='Date',right_on='date')\n",
        "nok_merge.head()"
      ],
      "execution_count": null,
      "outputs": [
        {
          "output_type": "execute_result",
          "data": {
            "text/html": [
              "<div>\n",
              "<style scoped>\n",
              "    .dataframe tbody tr th:only-of-type {\n",
              "        vertical-align: middle;\n",
              "    }\n",
              "\n",
              "    .dataframe tbody tr th {\n",
              "        vertical-align: top;\n",
              "    }\n",
              "\n",
              "    .dataframe thead th {\n",
              "        text-align: right;\n",
              "    }\n",
              "</style>\n",
              "<table border=\"1\" class=\"dataframe\">\n",
              "  <thead>\n",
              "    <tr style=\"text-align: right;\">\n",
              "      <th></th>\n",
              "      <th>Date</th>\n",
              "      <th>Open_NOK</th>\n",
              "      <th>High_NOK</th>\n",
              "      <th>Low_NOK</th>\n",
              "      <th>Close_NOK</th>\n",
              "      <th>Adj Close_NOK</th>\n",
              "      <th>Volume_NOK</th>\n",
              "      <th>date</th>\n",
              "      <th>Cashtag</th>\n",
              "      <th>neg</th>\n",
              "      <th>neut</th>\n",
              "      <th>pos</th>\n",
              "      <th>total_comments</th>\n",
              "    </tr>\n",
              "  </thead>\n",
              "  <tbody>\n",
              "    <tr>\n",
              "      <th>0</th>\n",
              "      <td>2020-07-15</td>\n",
              "      <td>4.39</td>\n",
              "      <td>4.40</td>\n",
              "      <td>4.28</td>\n",
              "      <td>4.33</td>\n",
              "      <td>4.33</td>\n",
              "      <td>29809700</td>\n",
              "      <td>2020-07-15</td>\n",
              "      <td>NOK</td>\n",
              "      <td>0.0</td>\n",
              "      <td>0.0</td>\n",
              "      <td>1.0</td>\n",
              "      <td>1.0</td>\n",
              "    </tr>\n",
              "    <tr>\n",
              "      <th>1</th>\n",
              "      <td>2020-07-27</td>\n",
              "      <td>4.33</td>\n",
              "      <td>4.37</td>\n",
              "      <td>4.32</td>\n",
              "      <td>4.34</td>\n",
              "      <td>4.34</td>\n",
              "      <td>21065900</td>\n",
              "      <td>2020-07-27</td>\n",
              "      <td>NOK</td>\n",
              "      <td>1.0</td>\n",
              "      <td>0.0</td>\n",
              "      <td>0.0</td>\n",
              "      <td>1.0</td>\n",
              "    </tr>\n",
              "    <tr>\n",
              "      <th>2</th>\n",
              "      <td>2020-07-30</td>\n",
              "      <td>4.22</td>\n",
              "      <td>4.53</td>\n",
              "      <td>4.16</td>\n",
              "      <td>4.45</td>\n",
              "      <td>4.45</td>\n",
              "      <td>58415900</td>\n",
              "      <td>2020-07-30</td>\n",
              "      <td>NOK</td>\n",
              "      <td>0.0</td>\n",
              "      <td>0.0</td>\n",
              "      <td>1.0</td>\n",
              "      <td>1.0</td>\n",
              "    </tr>\n",
              "    <tr>\n",
              "      <th>3</th>\n",
              "      <td>2020-09-02</td>\n",
              "      <td>4.75</td>\n",
              "      <td>4.82</td>\n",
              "      <td>4.70</td>\n",
              "      <td>4.78</td>\n",
              "      <td>4.78</td>\n",
              "      <td>31895600</td>\n",
              "      <td>2020-09-02</td>\n",
              "      <td>NOK</td>\n",
              "      <td>0.0</td>\n",
              "      <td>0.0</td>\n",
              "      <td>1.0</td>\n",
              "      <td>1.0</td>\n",
              "    </tr>\n",
              "    <tr>\n",
              "      <th>4</th>\n",
              "      <td>2020-10-12</td>\n",
              "      <td>4.05</td>\n",
              "      <td>4.06</td>\n",
              "      <td>4.01</td>\n",
              "      <td>4.03</td>\n",
              "      <td>4.03</td>\n",
              "      <td>18341200</td>\n",
              "      <td>2020-10-12</td>\n",
              "      <td>NOK</td>\n",
              "      <td>0.0</td>\n",
              "      <td>1.0</td>\n",
              "      <td>0.0</td>\n",
              "      <td>1.0</td>\n",
              "    </tr>\n",
              "  </tbody>\n",
              "</table>\n",
              "</div>"
            ],
            "text/plain": [
              "         Date  Open_NOK  High_NOK  Low_NOK  ...  neg  neut  pos total_comments\n",
              "0  2020-07-15      4.39      4.40     4.28  ...  0.0   0.0  1.0            1.0\n",
              "1  2020-07-27      4.33      4.37     4.32  ...  1.0   0.0  0.0            1.0\n",
              "2  2020-07-30      4.22      4.53     4.16  ...  0.0   0.0  1.0            1.0\n",
              "3  2020-09-02      4.75      4.82     4.70  ...  0.0   0.0  1.0            1.0\n",
              "4  2020-10-12      4.05      4.06     4.01  ...  0.0   1.0  0.0            1.0\n",
              "\n",
              "[5 rows x 13 columns]"
            ]
          },
          "metadata": {
            "tags": []
          },
          "execution_count": 21
        }
      ]
    },
    {
      "cell_type": "code",
      "metadata": {
        "colab": {
          "base_uri": "https://localhost:8080/",
          "height": 592
        },
        "id": "-dWtiYZ6Ekc5",
        "outputId": "68e562e6-ea76-48ed-fb8c-e1c103623fcb"
      },
      "source": [
        "# gca stands for 'get current axis'\n",
        "ax = plt.gca()\n",
        "\n",
        "nok_merge.plot(kind='line', y='Adj Close_NOK', color='green', ax=ax, figsize=(16, 10))\n",
        "nok_merge.plot(kind='line', y='pos', color='red', ax=ax, figsize=(16, 10))\n",
        "\n",
        "plt.show()"
      ],
      "execution_count": null,
      "outputs": [
        {
          "output_type": "display_data",
          "data": {
            "image/png": "[encoded data removed]",
            "text/plain": [
              "<Figure size 1152x720 with 1 Axes>"
            ]
          },
          "metadata": {
            "tags": [],
            "needs_background": "light"
          }
        }
      ]
    },
    {
      "cell_type": "code",
      "metadata": {
        "colab": {
          "base_uri": "https://localhost:8080/",
          "height": 17
        },
        "id": "dec71u6Kaa4e",
        "outputId": "dea9a31b-07a9-43ff-9ad3-19410365f238"
      },
      "source": [
        "from google.colab import files\n",
        "nok_merge.to_csv('nok_merge.csv') \n",
        "files.download('nok_merge.csv')"
      ],
      "execution_count": null,
      "outputs": [
        {
          "output_type": "display_data",
          "data": {
            "application/javascript": [
              "\n",
              "    async function download(id, filename, size) {\n",
              "      if (!google.colab.kernel.accessAllowed) {\n",
              "        return;\n",
              "      }\n",
              "      const div = document.createElement('div');\n",
              "      const label = document.createElement('label');\n",
              "      label.textContent = `Downloading \"${filename}\": `;\n",
              "      div.appendChild(label);\n",
              "      const progress = document.createElement('progress');\n",
              "      progress.max = size;\n",
              "      div.appendChild(progress);\n",
              "      document.body.appendChild(div);\n",
              "\n",
              "      const buffers = [];\n",
              "      let downloaded = 0;\n",
              "\n",
              "      const channel = await google.colab.kernel.comms.open(id);\n",
              "      // Send a message to notify the kernel that we're ready.\n",
              "      channel.send({})\n",
              "\n",
              "      for await (const message of channel.messages) {\n",
              "        // Send a message to notify the kernel that we're ready.\n",
              "        channel.send({})\n",
              "        if (message.buffers) {\n",
              "          for (const buffer of message.buffers) {\n",
              "            buffers.push(buffer);\n",
              "            downloaded += buffer.byteLength;\n",
              "            progress.value = downloaded;\n",
              "          }\n",
              "        }\n",
              "      }\n",
              "      const blob = new Blob(buffers, {type: 'application/binary'});\n",
              "      const a = document.createElement('a');\n",
              "      a.href = window.URL.createObjectURL(blob);\n",
              "      a.download = filename;\n",
              "      div.appendChild(a);\n",
              "      a.click();\n",
              "      div.remove();\n",
              "    }\n",
              "  "
            ],
            "text/plain": [
              "<IPython.core.display.Javascript object>"
            ]
          },
          "metadata": {
            "tags": []
          }
        },
        {
          "output_type": "display_data",
          "data": {
            "application/javascript": [
              "download(\"download_7f529a18-2678-4a4d-84db-8e74411fa06d\", \"nok_merge.csv\", 4465)"
            ],
            "text/plain": [
              "<IPython.core.display.Javascript object>"
            ]
          },
          "metadata": {
            "tags": []
          }
        }
      ]
    },
    {
      "cell_type": "markdown",
      "metadata": {
        "id": "JS-jdBH7E2Db"
      },
      "source": [
        "##SNDL\n"
      ]
    },
    {
      "cell_type": "code",
      "metadata": {
        "colab": {
          "base_uri": "https://localhost:8080/",
          "height": 191
        },
        "id": "YGf28B7usuZo",
        "outputId": "3a6fcff5-1728-4c0c-b3b4-f608d419cd25"
      },
      "source": [
        "sndl = YahooFinanceHistory('SNDL', days_back=375).get_quote()\n",
        "\n",
        "\n",
        "keep_same = {'Date'}\n",
        "sndl.columns = ['{}{}'.format(c, '' if c in keep_same else '_SNDL')\n",
        "            for c in sndl.columns]\n",
        "sndl.head(5)"
      ],
      "execution_count": null,
      "outputs": [
        {
          "output_type": "execute_result",
          "data": {
            "text/html": [
              "<div>\n",
              "<style scoped>\n",
              "    .dataframe tbody tr th:only-of-type {\n",
              "        vertical-align: middle;\n",
              "    }\n",
              "\n",
              "    .dataframe tbody tr th {\n",
              "        vertical-align: top;\n",
              "    }\n",
              "\n",
              "    .dataframe thead th {\n",
              "        text-align: right;\n",
              "    }\n",
              "</style>\n",
              "<table border=\"1\" class=\"dataframe\">\n",
              "  <thead>\n",
              "    <tr style=\"text-align: right;\">\n",
              "      <th></th>\n",
              "      <th>Date</th>\n",
              "      <th>Open_SNDL</th>\n",
              "      <th>High_SNDL</th>\n",
              "      <th>Low_SNDL</th>\n",
              "      <th>Close_SNDL</th>\n",
              "      <th>Adj Close_SNDL</th>\n",
              "      <th>Volume_SNDL</th>\n",
              "    </tr>\n",
              "  </thead>\n",
              "  <tbody>\n",
              "    <tr>\n",
              "      <th>0</th>\n",
              "      <td>2020-04-27</td>\n",
              "      <td>0.528</td>\n",
              "      <td>0.540</td>\n",
              "      <td>0.470</td>\n",
              "      <td>0.493</td>\n",
              "      <td>0.493</td>\n",
              "      <td>1437400</td>\n",
              "    </tr>\n",
              "    <tr>\n",
              "      <th>1</th>\n",
              "      <td>2020-04-28</td>\n",
              "      <td>0.502</td>\n",
              "      <td>0.525</td>\n",
              "      <td>0.480</td>\n",
              "      <td>0.495</td>\n",
              "      <td>0.495</td>\n",
              "      <td>520000</td>\n",
              "    </tr>\n",
              "    <tr>\n",
              "      <th>2</th>\n",
              "      <td>2020-04-29</td>\n",
              "      <td>0.496</td>\n",
              "      <td>0.500</td>\n",
              "      <td>0.490</td>\n",
              "      <td>0.499</td>\n",
              "      <td>0.499</td>\n",
              "      <td>704600</td>\n",
              "    </tr>\n",
              "    <tr>\n",
              "      <th>3</th>\n",
              "      <td>2020-04-30</td>\n",
              "      <td>0.505</td>\n",
              "      <td>0.590</td>\n",
              "      <td>0.451</td>\n",
              "      <td>0.570</td>\n",
              "      <td>0.570</td>\n",
              "      <td>1914500</td>\n",
              "    </tr>\n",
              "    <tr>\n",
              "      <th>4</th>\n",
              "      <td>2020-05-01</td>\n",
              "      <td>0.599</td>\n",
              "      <td>0.670</td>\n",
              "      <td>0.550</td>\n",
              "      <td>0.635</td>\n",
              "      <td>0.635</td>\n",
              "      <td>1284300</td>\n",
              "    </tr>\n",
              "  </tbody>\n",
              "</table>\n",
              "</div>"
            ],
            "text/plain": [
              "        Date  Open_SNDL  High_SNDL  ...  Close_SNDL  Adj Close_SNDL  Volume_SNDL\n",
              "0 2020-04-27      0.528      0.540  ...       0.493           0.493      1437400\n",
              "1 2020-04-28      0.502      0.525  ...       0.495           0.495       520000\n",
              "2 2020-04-29      0.496      0.500  ...       0.499           0.499       704600\n",
              "3 2020-04-30      0.505      0.590  ...       0.570           0.570      1914500\n",
              "4 2020-05-01      0.599      0.670  ...       0.635           0.635      1284300\n",
              "\n",
              "[5 rows x 7 columns]"
            ]
          },
          "metadata": {
            "tags": []
          },
          "execution_count": 26
        }
      ]
    },
    {
      "cell_type": "code",
      "metadata": {
        "colab": {
          "base_uri": "https://localhost:8080/",
          "height": 272
        },
        "id": "Im4inXCgFjAw",
        "outputId": "516cd7f3-560a-4df1-823c-50f90c1e8394"
      },
      "source": [
        "sndl_sent = df_final[df_final['Cashtag']=='SNDL']\n",
        "sndl_sent.sort_values(by=['date'], inplace=True, ascending=False)\n",
        "sndl_sent.head()"
      ],
      "execution_count": null,
      "outputs": [
        {
          "output_type": "stream",
          "text": [
            "/usr/local/lib/python3.7/dist-packages/ipykernel_launcher.py:2: SettingWithCopyWarning: \n",
            "A value is trying to be set on a copy of a slice from a DataFrame\n",
            "\n",
            "See the caveats in the documentation: https://pandas.pydata.org/pandas-docs/stable/user_guide/indexing.html#returning-a-view-versus-a-copy\n",
            "  \n"
          ],
          "name": "stderr"
        },
        {
          "output_type": "execute_result",
          "data": {
            "text/html": [
              "<div>\n",
              "<style scoped>\n",
              "    .dataframe tbody tr th:only-of-type {\n",
              "        vertical-align: middle;\n",
              "    }\n",
              "\n",
              "    .dataframe tbody tr th {\n",
              "        vertical-align: top;\n",
              "    }\n",
              "\n",
              "    .dataframe thead th {\n",
              "        text-align: right;\n",
              "    }\n",
              "</style>\n",
              "<table border=\"1\" class=\"dataframe\">\n",
              "  <thead>\n",
              "    <tr style=\"text-align: right;\">\n",
              "      <th>comp_score</th>\n",
              "      <th>date</th>\n",
              "      <th>Cashtag</th>\n",
              "      <th>neg</th>\n",
              "      <th>neut</th>\n",
              "      <th>pos</th>\n",
              "      <th>total_comments</th>\n",
              "    </tr>\n",
              "  </thead>\n",
              "  <tbody>\n",
              "    <tr>\n",
              "      <th>16534</th>\n",
              "      <td>2021-04-27</td>\n",
              "      <td>SNDL</td>\n",
              "      <td>0.0</td>\n",
              "      <td>1.0</td>\n",
              "      <td>0.0</td>\n",
              "      <td>1.0</td>\n",
              "    </tr>\n",
              "    <tr>\n",
              "      <th>16052</th>\n",
              "      <td>2021-04-20</td>\n",
              "      <td>SNDL</td>\n",
              "      <td>0.0</td>\n",
              "      <td>1.0</td>\n",
              "      <td>3.0</td>\n",
              "      <td>4.0</td>\n",
              "    </tr>\n",
              "    <tr>\n",
              "      <th>15992</th>\n",
              "      <td>2021-04-19</td>\n",
              "      <td>SNDL</td>\n",
              "      <td>0.0</td>\n",
              "      <td>3.0</td>\n",
              "      <td>3.0</td>\n",
              "      <td>6.0</td>\n",
              "    </tr>\n",
              "    <tr>\n",
              "      <th>15939</th>\n",
              "      <td>2021-04-18</td>\n",
              "      <td>SNDL</td>\n",
              "      <td>0.0</td>\n",
              "      <td>1.0</td>\n",
              "      <td>0.0</td>\n",
              "      <td>1.0</td>\n",
              "    </tr>\n",
              "    <tr>\n",
              "      <th>15805</th>\n",
              "      <td>2021-04-15</td>\n",
              "      <td>SNDL</td>\n",
              "      <td>0.0</td>\n",
              "      <td>0.0</td>\n",
              "      <td>1.0</td>\n",
              "      <td>1.0</td>\n",
              "    </tr>\n",
              "  </tbody>\n",
              "</table>\n",
              "</div>"
            ],
            "text/plain": [
              "comp_score        date Cashtag  neg  neut  pos  total_comments\n",
              "16534       2021-04-27    SNDL  0.0   1.0  0.0             1.0\n",
              "16052       2021-04-20    SNDL  0.0   1.0  3.0             4.0\n",
              "15992       2021-04-19    SNDL  0.0   3.0  3.0             6.0\n",
              "15939       2021-04-18    SNDL  0.0   1.0  0.0             1.0\n",
              "15805       2021-04-15    SNDL  0.0   0.0  1.0             1.0"
            ]
          },
          "metadata": {
            "tags": []
          },
          "execution_count": 27
        }
      ]
    },
    {
      "cell_type": "code",
      "metadata": {
        "id": "kU1zFeUBFqi8"
      },
      "source": [
        "sndl['Date'] = sndl['Date'].astype('str')"
      ],
      "execution_count": null,
      "outputs": []
    },
    {
      "cell_type": "code",
      "metadata": {
        "colab": {
          "base_uri": "https://localhost:8080/",
          "height": 191
        },
        "id": "Dz7hzRTnF_N4",
        "outputId": "83e9687f-068d-4bde-83c2-b644fe98fd9c"
      },
      "source": [
        "sndl_merge = sndl.merge(sndl_sent,left_on='Date',right_on='date')\n",
        "sndl_merge.head()"
      ],
      "execution_count": null,
      "outputs": [
        {
          "output_type": "execute_result",
          "data": {
            "text/html": [
              "<div>\n",
              "<style scoped>\n",
              "    .dataframe tbody tr th:only-of-type {\n",
              "        vertical-align: middle;\n",
              "    }\n",
              "\n",
              "    .dataframe tbody tr th {\n",
              "        vertical-align: top;\n",
              "    }\n",
              "\n",
              "    .dataframe thead th {\n",
              "        text-align: right;\n",
              "    }\n",
              "</style>\n",
              "<table border=\"1\" class=\"dataframe\">\n",
              "  <thead>\n",
              "    <tr style=\"text-align: right;\">\n",
              "      <th></th>\n",
              "      <th>Date</th>\n",
              "      <th>Open_SNDL</th>\n",
              "      <th>High_SNDL</th>\n",
              "      <th>Low_SNDL</th>\n",
              "      <th>Close_SNDL</th>\n",
              "      <th>Adj Close_SNDL</th>\n",
              "      <th>Volume_SNDL</th>\n",
              "      <th>date</th>\n",
              "      <th>Cashtag</th>\n",
              "      <th>neg</th>\n",
              "      <th>neut</th>\n",
              "      <th>pos</th>\n",
              "      <th>total_comments</th>\n",
              "    </tr>\n",
              "  </thead>\n",
              "  <tbody>\n",
              "    <tr>\n",
              "      <th>0</th>\n",
              "      <td>2020-04-29</td>\n",
              "      <td>0.496</td>\n",
              "      <td>0.500</td>\n",
              "      <td>0.490</td>\n",
              "      <td>0.499</td>\n",
              "      <td>0.499</td>\n",
              "      <td>704600</td>\n",
              "      <td>2020-04-29</td>\n",
              "      <td>SNDL</td>\n",
              "      <td>0.0</td>\n",
              "      <td>0.0</td>\n",
              "      <td>1.0</td>\n",
              "      <td>1.0</td>\n",
              "    </tr>\n",
              "    <tr>\n",
              "      <th>1</th>\n",
              "      <td>2020-09-30</td>\n",
              "      <td>0.200</td>\n",
              "      <td>0.257</td>\n",
              "      <td>0.196</td>\n",
              "      <td>0.241</td>\n",
              "      <td>0.241</td>\n",
              "      <td>50199500</td>\n",
              "      <td>2020-09-30</td>\n",
              "      <td>SNDL</td>\n",
              "      <td>0.0</td>\n",
              "      <td>0.0</td>\n",
              "      <td>1.0</td>\n",
              "      <td>1.0</td>\n",
              "    </tr>\n",
              "    <tr>\n",
              "      <th>2</th>\n",
              "      <td>2020-11-30</td>\n",
              "      <td>0.494</td>\n",
              "      <td>0.860</td>\n",
              "      <td>0.455</td>\n",
              "      <td>0.729</td>\n",
              "      <td>0.729</td>\n",
              "      <td>2037786800</td>\n",
              "      <td>2020-11-30</td>\n",
              "      <td>SNDL</td>\n",
              "      <td>0.0</td>\n",
              "      <td>1.0</td>\n",
              "      <td>2.0</td>\n",
              "      <td>3.0</td>\n",
              "    </tr>\n",
              "    <tr>\n",
              "      <th>3</th>\n",
              "      <td>2020-12-01</td>\n",
              "      <td>0.912</td>\n",
              "      <td>0.950</td>\n",
              "      <td>0.583</td>\n",
              "      <td>0.653</td>\n",
              "      <td>0.653</td>\n",
              "      <td>1260028700</td>\n",
              "      <td>2020-12-01</td>\n",
              "      <td>SNDL</td>\n",
              "      <td>0.0</td>\n",
              "      <td>1.0</td>\n",
              "      <td>2.0</td>\n",
              "      <td>3.0</td>\n",
              "    </tr>\n",
              "    <tr>\n",
              "      <th>4</th>\n",
              "      <td>2020-12-02</td>\n",
              "      <td>0.717</td>\n",
              "      <td>0.825</td>\n",
              "      <td>0.665</td>\n",
              "      <td>0.808</td>\n",
              "      <td>0.808</td>\n",
              "      <td>823299700</td>\n",
              "      <td>2020-12-02</td>\n",
              "      <td>SNDL</td>\n",
              "      <td>0.0</td>\n",
              "      <td>1.0</td>\n",
              "      <td>0.0</td>\n",
              "      <td>1.0</td>\n",
              "    </tr>\n",
              "  </tbody>\n",
              "</table>\n",
              "</div>"
            ],
            "text/plain": [
              "         Date  Open_SNDL  High_SNDL  Low_SNDL  ...  neg  neut  pos total_comments\n",
              "0  2020-04-29      0.496      0.500     0.490  ...  0.0   0.0  1.0            1.0\n",
              "1  2020-09-30      0.200      0.257     0.196  ...  0.0   0.0  1.0            1.0\n",
              "2  2020-11-30      0.494      0.860     0.455  ...  0.0   1.0  2.0            3.0\n",
              "3  2020-12-01      0.912      0.950     0.583  ...  0.0   1.0  2.0            3.0\n",
              "4  2020-12-02      0.717      0.825     0.665  ...  0.0   1.0  0.0            1.0\n",
              "\n",
              "[5 rows x 13 columns]"
            ]
          },
          "metadata": {
            "tags": []
          },
          "execution_count": 29
        }
      ]
    },
    {
      "cell_type": "code",
      "metadata": {
        "colab": {
          "base_uri": "https://localhost:8080/",
          "height": 592
        },
        "id": "NNa8pfnwFxAy",
        "outputId": "f403a652-cbf1-4a18-ba14-8f6787aae38f"
      },
      "source": [
        "ax = plt.gca()\n",
        "\n",
        "sndl_merge.plot(kind='line', y='Adj Close_SNDL', color='green', ax=ax, figsize=(16, 10))\n",
        "sndl_merge.plot(kind='line', y='pos', color='red', ax=ax, figsize=(16, 10))\n",
        "\n",
        "plt.show()"
      ],
      "execution_count": null,
      "outputs": [
        {
          "output_type": "display_data",
          "data": {
            "image/png": "[encoded data removed]",
            "text/plain": [
              "<Figure size 1152x720 with 1 Axes>"
            ]
          },
          "metadata": {
            "tags": [],
            "needs_background": "light"
          }
        }
      ]
    },
    {
      "cell_type": "code",
      "metadata": {
        "colab": {
          "base_uri": "https://localhost:8080/",
          "height": 17
        },
        "id": "LwxV_9OJamko",
        "outputId": "431cec1d-37cd-4fd6-f0d0-16446b7dda8a"
      },
      "source": [
        "from google.colab import files\n",
        "sndl_merge.to_csv('sndl_merge.csv') \n",
        "files.download('sndl_merge.csv')"
      ],
      "execution_count": null,
      "outputs": [
        {
          "output_type": "display_data",
          "data": {
            "application/javascript": [
              "\n",
              "    async function download(id, filename, size) {\n",
              "      if (!google.colab.kernel.accessAllowed) {\n",
              "        return;\n",
              "      }\n",
              "      const div = document.createElement('div');\n",
              "      const label = document.createElement('label');\n",
              "      label.textContent = `Downloading \"${filename}\": `;\n",
              "      div.appendChild(label);\n",
              "      const progress = document.createElement('progress');\n",
              "      progress.max = size;\n",
              "      div.appendChild(progress);\n",
              "      document.body.appendChild(div);\n",
              "\n",
              "      const buffers = [];\n",
              "      let downloaded = 0;\n",
              "\n",
              "      const channel = await google.colab.kernel.comms.open(id);\n",
              "      // Send a message to notify the kernel that we're ready.\n",
              "      channel.send({})\n",
              "\n",
              "      for await (const message of channel.messages) {\n",
              "        // Send a message to notify the kernel that we're ready.\n",
              "        channel.send({})\n",
              "        if (message.buffers) {\n",
              "          for (const buffer of message.buffers) {\n",
              "            buffers.push(buffer);\n",
              "            downloaded += buffer.byteLength;\n",
              "            progress.value = downloaded;\n",
              "          }\n",
              "        }\n",
              "      }\n",
              "      const blob = new Blob(buffers, {type: 'application/binary'});\n",
              "      const a = document.createElement('a');\n",
              "      a.href = window.URL.createObjectURL(blob);\n",
              "      a.download = filename;\n",
              "      div.appendChild(a);\n",
              "      a.click();\n",
              "      div.remove();\n",
              "    }\n",
              "  "
            ],
            "text/plain": [
              "<IPython.core.display.Javascript object>"
            ]
          },
          "metadata": {
            "tags": []
          }
        },
        {
          "output_type": "display_data",
          "data": {
            "application/javascript": [
              "download(\"download_fec2daca-998b-4021-80d9-6771a9ac58a6\", \"sndl_merge.csv\", 5257)"
            ],
            "text/plain": [
              "<IPython.core.display.Javascript object>"
            ]
          },
          "metadata": {
            "tags": []
          }
        }
      ]
    },
    {
      "cell_type": "markdown",
      "metadata": {
        "id": "dKtd600SGMq2"
      },
      "source": [
        "##FSR"
      ]
    },
    {
      "cell_type": "code",
      "metadata": {
        "colab": {
          "base_uri": "https://localhost:8080/",
          "height": 191
        },
        "id": "wnSJeXrC5P80",
        "outputId": "6ea9030c-2ab0-4ec8-dca3-5273d1295665"
      },
      "source": [
        "fsr = YahooFinanceHistory('FSR', days_back=375).get_quote()\n",
        "\n",
        "\n",
        "keep_same = {'Date'}\n",
        "fsr.columns = ['{}{}'.format(c, '' if c in keep_same else '_FSR')\n",
        "            for c in fsr.columns]\n",
        "fsr.head(5)"
      ],
      "execution_count": null,
      "outputs": [
        {
          "output_type": "execute_result",
          "data": {
            "text/html": [
              "<div>\n",
              "<style scoped>\n",
              "    .dataframe tbody tr th:only-of-type {\n",
              "        vertical-align: middle;\n",
              "    }\n",
              "\n",
              "    .dataframe tbody tr th {\n",
              "        vertical-align: top;\n",
              "    }\n",
              "\n",
              "    .dataframe thead th {\n",
              "        text-align: right;\n",
              "    }\n",
              "</style>\n",
              "<table border=\"1\" class=\"dataframe\">\n",
              "  <thead>\n",
              "    <tr style=\"text-align: right;\">\n",
              "      <th></th>\n",
              "      <th>Date</th>\n",
              "      <th>Open_FSR</th>\n",
              "      <th>High_FSR</th>\n",
              "      <th>Low_FSR</th>\n",
              "      <th>Close_FSR</th>\n",
              "      <th>Adj Close_FSR</th>\n",
              "      <th>Volume_FSR</th>\n",
              "    </tr>\n",
              "  </thead>\n",
              "  <tbody>\n",
              "    <tr>\n",
              "      <th>0</th>\n",
              "      <td>2020-04-27</td>\n",
              "      <td>10.20</td>\n",
              "      <td>10.24</td>\n",
              "      <td>10.17</td>\n",
              "      <td>10.18</td>\n",
              "      <td>10.18</td>\n",
              "      <td>256200</td>\n",
              "    </tr>\n",
              "    <tr>\n",
              "      <th>1</th>\n",
              "      <td>2020-04-28</td>\n",
              "      <td>10.18</td>\n",
              "      <td>10.19</td>\n",
              "      <td>10.18</td>\n",
              "      <td>10.18</td>\n",
              "      <td>10.18</td>\n",
              "      <td>1217400</td>\n",
              "    </tr>\n",
              "    <tr>\n",
              "      <th>2</th>\n",
              "      <td>2020-04-29</td>\n",
              "      <td>10.19</td>\n",
              "      <td>10.19</td>\n",
              "      <td>10.17</td>\n",
              "      <td>10.17</td>\n",
              "      <td>10.17</td>\n",
              "      <td>1025700</td>\n",
              "    </tr>\n",
              "    <tr>\n",
              "      <th>3</th>\n",
              "      <td>2020-04-30</td>\n",
              "      <td>10.17</td>\n",
              "      <td>10.18</td>\n",
              "      <td>10.17</td>\n",
              "      <td>10.17</td>\n",
              "      <td>10.17</td>\n",
              "      <td>8100</td>\n",
              "    </tr>\n",
              "    <tr>\n",
              "      <th>4</th>\n",
              "      <td>2020-05-01</td>\n",
              "      <td>10.17</td>\n",
              "      <td>10.20</td>\n",
              "      <td>10.16</td>\n",
              "      <td>10.16</td>\n",
              "      <td>10.16</td>\n",
              "      <td>3500</td>\n",
              "    </tr>\n",
              "  </tbody>\n",
              "</table>\n",
              "</div>"
            ],
            "text/plain": [
              "        Date  Open_FSR  High_FSR  Low_FSR  Close_FSR  Adj Close_FSR  Volume_FSR\n",
              "0 2020-04-27     10.20     10.24    10.17      10.18          10.18      256200\n",
              "1 2020-04-28     10.18     10.19    10.18      10.18          10.18     1217400\n",
              "2 2020-04-29     10.19     10.19    10.17      10.17          10.17     1025700\n",
              "3 2020-04-30     10.17     10.18    10.17      10.17          10.17        8100\n",
              "4 2020-05-01     10.17     10.20    10.16      10.16          10.16        3500"
            ]
          },
          "metadata": {
            "tags": []
          },
          "execution_count": 32
        }
      ]
    },
    {
      "cell_type": "code",
      "metadata": {
        "colab": {
          "base_uri": "https://localhost:8080/",
          "height": 272
        },
        "id": "XPogUdVDGoHX",
        "outputId": "fa77dd96-1cf7-474d-c518-344ceb423cf7"
      },
      "source": [
        "fsr_sent = df_final[df_final['Cashtag']=='FSR']\n",
        "fsr_sent.sort_values(by=['date'], inplace=True, ascending=False)\n",
        "fsr_sent.head()"
      ],
      "execution_count": null,
      "outputs": [
        {
          "output_type": "stream",
          "text": [
            "/usr/local/lib/python3.7/dist-packages/ipykernel_launcher.py:2: SettingWithCopyWarning: \n",
            "A value is trying to be set on a copy of a slice from a DataFrame\n",
            "\n",
            "See the caveats in the documentation: https://pandas.pydata.org/pandas-docs/stable/user_guide/indexing.html#returning-a-view-versus-a-copy\n",
            "  \n"
          ],
          "name": "stderr"
        },
        {
          "output_type": "execute_result",
          "data": {
            "text/html": [
              "<div>\n",
              "<style scoped>\n",
              "    .dataframe tbody tr th:only-of-type {\n",
              "        vertical-align: middle;\n",
              "    }\n",
              "\n",
              "    .dataframe tbody tr th {\n",
              "        vertical-align: top;\n",
              "    }\n",
              "\n",
              "    .dataframe thead th {\n",
              "        text-align: right;\n",
              "    }\n",
              "</style>\n",
              "<table border=\"1\" class=\"dataframe\">\n",
              "  <thead>\n",
              "    <tr style=\"text-align: right;\">\n",
              "      <th>comp_score</th>\n",
              "      <th>date</th>\n",
              "      <th>Cashtag</th>\n",
              "      <th>neg</th>\n",
              "      <th>neut</th>\n",
              "      <th>pos</th>\n",
              "      <th>total_comments</th>\n",
              "    </tr>\n",
              "  </thead>\n",
              "  <tbody>\n",
              "    <tr>\n",
              "      <th>16337</th>\n",
              "      <td>2021-04-25</td>\n",
              "      <td>FSR</td>\n",
              "      <td>1.0</td>\n",
              "      <td>0.0</td>\n",
              "      <td>0.0</td>\n",
              "      <td>1.0</td>\n",
              "    </tr>\n",
              "    <tr>\n",
              "      <th>16164</th>\n",
              "      <td>2021-04-22</td>\n",
              "      <td>FSR</td>\n",
              "      <td>0.0</td>\n",
              "      <td>1.0</td>\n",
              "      <td>1.0</td>\n",
              "      <td>2.0</td>\n",
              "    </tr>\n",
              "    <tr>\n",
              "      <th>15902</th>\n",
              "      <td>2021-04-17</td>\n",
              "      <td>FSR</td>\n",
              "      <td>0.0</td>\n",
              "      <td>1.0</td>\n",
              "      <td>0.0</td>\n",
              "      <td>1.0</td>\n",
              "    </tr>\n",
              "    <tr>\n",
              "      <th>15502</th>\n",
              "      <td>2021-04-07</td>\n",
              "      <td>FSR</td>\n",
              "      <td>0.0</td>\n",
              "      <td>0.0</td>\n",
              "      <td>1.0</td>\n",
              "      <td>1.0</td>\n",
              "    </tr>\n",
              "    <tr>\n",
              "      <th>15291</th>\n",
              "      <td>2021-04-03</td>\n",
              "      <td>FSR</td>\n",
              "      <td>0.0</td>\n",
              "      <td>0.0</td>\n",
              "      <td>1.0</td>\n",
              "      <td>1.0</td>\n",
              "    </tr>\n",
              "  </tbody>\n",
              "</table>\n",
              "</div>"
            ],
            "text/plain": [
              "comp_score        date Cashtag  neg  neut  pos  total_comments\n",
              "16337       2021-04-25     FSR  1.0   0.0  0.0             1.0\n",
              "16164       2021-04-22     FSR  0.0   1.0  1.0             2.0\n",
              "15902       2021-04-17     FSR  0.0   1.0  0.0             1.0\n",
              "15502       2021-04-07     FSR  0.0   0.0  1.0             1.0\n",
              "15291       2021-04-03     FSR  0.0   0.0  1.0             1.0"
            ]
          },
          "metadata": {
            "tags": []
          },
          "execution_count": 33
        }
      ]
    },
    {
      "cell_type": "code",
      "metadata": {
        "id": "2lTyBvR7GoNl"
      },
      "source": [
        "fsr['Date'] = fsr['Date'].astype('str')"
      ],
      "execution_count": null,
      "outputs": []
    },
    {
      "cell_type": "code",
      "metadata": {
        "colab": {
          "base_uri": "https://localhost:8080/",
          "height": 191
        },
        "id": "_BUAii5oGoTn",
        "outputId": "5f4869d8-bfbd-4a97-81dc-e435f99b501d"
      },
      "source": [
        "fsr_merge = fsr.merge(fsr_sent,left_on='Date',right_on='date')\n",
        "fsr_merge.head()"
      ],
      "execution_count": null,
      "outputs": [
        {
          "output_type": "execute_result",
          "data": {
            "text/html": [
              "<div>\n",
              "<style scoped>\n",
              "    .dataframe tbody tr th:only-of-type {\n",
              "        vertical-align: middle;\n",
              "    }\n",
              "\n",
              "    .dataframe tbody tr th {\n",
              "        vertical-align: top;\n",
              "    }\n",
              "\n",
              "    .dataframe thead th {\n",
              "        text-align: right;\n",
              "    }\n",
              "</style>\n",
              "<table border=\"1\" class=\"dataframe\">\n",
              "  <thead>\n",
              "    <tr style=\"text-align: right;\">\n",
              "      <th></th>\n",
              "      <th>Date</th>\n",
              "      <th>Open_FSR</th>\n",
              "      <th>High_FSR</th>\n",
              "      <th>Low_FSR</th>\n",
              "      <th>Close_FSR</th>\n",
              "      <th>Adj Close_FSR</th>\n",
              "      <th>Volume_FSR</th>\n",
              "      <th>date</th>\n",
              "      <th>Cashtag</th>\n",
              "      <th>neg</th>\n",
              "      <th>neut</th>\n",
              "      <th>pos</th>\n",
              "      <th>total_comments</th>\n",
              "    </tr>\n",
              "  </thead>\n",
              "  <tbody>\n",
              "    <tr>\n",
              "      <th>0</th>\n",
              "      <td>2020-10-30</td>\n",
              "      <td>9.250000</td>\n",
              "      <td>10.660000</td>\n",
              "      <td>8.90</td>\n",
              "      <td>10.140000</td>\n",
              "      <td>10.140000</td>\n",
              "      <td>21134700</td>\n",
              "      <td>2020-10-30</td>\n",
              "      <td>FSR</td>\n",
              "      <td>1.0</td>\n",
              "      <td>0.0</td>\n",
              "      <td>2.0</td>\n",
              "      <td>3.0</td>\n",
              "    </tr>\n",
              "    <tr>\n",
              "      <th>1</th>\n",
              "      <td>2020-11-09</td>\n",
              "      <td>11.730000</td>\n",
              "      <td>14.730000</td>\n",
              "      <td>11.05</td>\n",
              "      <td>14.340000</td>\n",
              "      <td>14.340000</td>\n",
              "      <td>38674100</td>\n",
              "      <td>2020-11-09</td>\n",
              "      <td>FSR</td>\n",
              "      <td>0.0</td>\n",
              "      <td>3.0</td>\n",
              "      <td>2.0</td>\n",
              "      <td>5.0</td>\n",
              "    </tr>\n",
              "    <tr>\n",
              "      <th>2</th>\n",
              "      <td>2020-11-13</td>\n",
              "      <td>16.910000</td>\n",
              "      <td>18.150000</td>\n",
              "      <td>15.87</td>\n",
              "      <td>17.440001</td>\n",
              "      <td>17.440001</td>\n",
              "      <td>34415200</td>\n",
              "      <td>2020-11-13</td>\n",
              "      <td>FSR</td>\n",
              "      <td>0.0</td>\n",
              "      <td>0.0</td>\n",
              "      <td>1.0</td>\n",
              "      <td>1.0</td>\n",
              "    </tr>\n",
              "    <tr>\n",
              "      <th>3</th>\n",
              "      <td>2020-11-16</td>\n",
              "      <td>18.280001</td>\n",
              "      <td>18.280001</td>\n",
              "      <td>16.35</td>\n",
              "      <td>17.100000</td>\n",
              "      <td>17.100000</td>\n",
              "      <td>16757800</td>\n",
              "      <td>2020-11-16</td>\n",
              "      <td>FSR</td>\n",
              "      <td>0.0</td>\n",
              "      <td>0.0</td>\n",
              "      <td>1.0</td>\n",
              "      <td>1.0</td>\n",
              "    </tr>\n",
              "    <tr>\n",
              "      <th>4</th>\n",
              "      <td>2020-11-17</td>\n",
              "      <td>16.900000</td>\n",
              "      <td>17.180000</td>\n",
              "      <td>15.67</td>\n",
              "      <td>16.430000</td>\n",
              "      <td>16.430000</td>\n",
              "      <td>14026600</td>\n",
              "      <td>2020-11-17</td>\n",
              "      <td>FSR</td>\n",
              "      <td>0.0</td>\n",
              "      <td>0.0</td>\n",
              "      <td>1.0</td>\n",
              "      <td>1.0</td>\n",
              "    </tr>\n",
              "  </tbody>\n",
              "</table>\n",
              "</div>"
            ],
            "text/plain": [
              "         Date   Open_FSR   High_FSR  Low_FSR  ...  neg  neut  pos total_comments\n",
              "0  2020-10-30   9.250000  10.660000     8.90  ...  1.0   0.0  2.0            3.0\n",
              "1  2020-11-09  11.730000  14.730000    11.05  ...  0.0   3.0  2.0            5.0\n",
              "2  2020-11-13  16.910000  18.150000    15.87  ...  0.0   0.0  1.0            1.0\n",
              "3  2020-11-16  18.280001  18.280001    16.35  ...  0.0   0.0  1.0            1.0\n",
              "4  2020-11-17  16.900000  17.180000    15.67  ...  0.0   0.0  1.0            1.0\n",
              "\n",
              "[5 rows x 13 columns]"
            ]
          },
          "metadata": {
            "tags": []
          },
          "execution_count": 35
        }
      ]
    },
    {
      "cell_type": "code",
      "metadata": {
        "colab": {
          "base_uri": "https://localhost:8080/",
          "height": 592
        },
        "id": "_detJmt9G9iH",
        "outputId": "9605a08f-c774-4d01-dc4f-03659ed81549"
      },
      "source": [
        "ax = plt.gca()\n",
        "\n",
        "fsr_merge.plot(kind='line', y='Adj Close_FSR', color='green', ax=ax, figsize=(16, 10))\n",
        "fsr_merge.plot(kind='line', y='pos', color='red', ax=ax, figsize=(16, 10))\n",
        "\n",
        "plt.show()"
      ],
      "execution_count": null,
      "outputs": [
        {
          "output_type": "display_data",
          "data": {
            "image/png": "[encoded data removed]",
            "text/plain": [
              "<Figure size 1152x720 with 1 Axes>"
            ]
          },
          "metadata": {
            "tags": [],
            "needs_background": "light"
          }
        }
      ]
    },
    {
      "cell_type": "code",
      "metadata": {
        "colab": {
          "base_uri": "https://localhost:8080/",
          "height": 17
        },
        "id": "gGedPkraayvr",
        "outputId": "1fcc5cc8-af83-4e0e-dd85-156d2d8afed0"
      },
      "source": [
        "from google.colab import files\n",
        "fsr_merge.to_csv('fsr_merge.csv') \n",
        "files.download('fsr_merge.csv')"
      ],
      "execution_count": null,
      "outputs": [
        {
          "output_type": "display_data",
          "data": {
            "application/javascript": [
              "\n",
              "    async function download(id, filename, size) {\n",
              "      if (!google.colab.kernel.accessAllowed) {\n",
              "        return;\n",
              "      }\n",
              "      const div = document.createElement('div');\n",
              "      const label = document.createElement('label');\n",
              "      label.textContent = `Downloading \"${filename}\": `;\n",
              "      div.appendChild(label);\n",
              "      const progress = document.createElement('progress');\n",
              "      progress.max = size;\n",
              "      div.appendChild(progress);\n",
              "      document.body.appendChild(div);\n",
              "\n",
              "      const buffers = [];\n",
              "      let downloaded = 0;\n",
              "\n",
              "      const channel = await google.colab.kernel.comms.open(id);\n",
              "      // Send a message to notify the kernel that we're ready.\n",
              "      channel.send({})\n",
              "\n",
              "      for await (const message of channel.messages) {\n",
              "        // Send a message to notify the kernel that we're ready.\n",
              "        channel.send({})\n",
              "        if (message.buffers) {\n",
              "          for (const buffer of message.buffers) {\n",
              "            buffers.push(buffer);\n",
              "            downloaded += buffer.byteLength;\n",
              "            progress.value = downloaded;\n",
              "          }\n",
              "        }\n",
              "      }\n",
              "      const blob = new Blob(buffers, {type: 'application/binary'});\n",
              "      const a = document.createElement('a');\n",
              "      a.href = window.URL.createObjectURL(blob);\n",
              "      a.download = filename;\n",
              "      div.appendChild(a);\n",
              "      a.click();\n",
              "      div.remove();\n",
              "    }\n",
              "  "
            ],
            "text/plain": [
              "<IPython.core.display.Javascript object>"
            ]
          },
          "metadata": {
            "tags": []
          }
        },
        {
          "output_type": "display_data",
          "data": {
            "application/javascript": [
              "download(\"download_56fdfa42-26a2-4614-bd4b-4d11bf496c54\", \"fsr_merge.csv\", 3655)"
            ],
            "text/plain": [
              "<IPython.core.display.Javascript object>"
            ]
          },
          "metadata": {
            "tags": []
          }
        }
      ]
    },
    {
      "cell_type": "markdown",
      "metadata": {
        "id": "PlRBWp6EGQtz"
      },
      "source": [
        "##PLTR"
      ]
    },
    {
      "cell_type": "code",
      "metadata": {
        "colab": {
          "base_uri": "https://localhost:8080/",
          "height": 272
        },
        "id": "fq1RmQtzGK_E",
        "outputId": "ce19283f-d2ff-4619-b7b3-6a9b0a2cf89b"
      },
      "source": [
        "pltr_sent = df_final[df_final['Cashtag']=='PLTR']\n",
        "pltr_sent.sort_values(by=['date'], inplace=True, ascending=False)\n",
        "pltr_sent.head()"
      ],
      "execution_count": null,
      "outputs": [
        {
          "output_type": "stream",
          "text": [
            "/usr/local/lib/python3.7/dist-packages/ipykernel_launcher.py:2: SettingWithCopyWarning: \n",
            "A value is trying to be set on a copy of a slice from a DataFrame\n",
            "\n",
            "See the caveats in the documentation: https://pandas.pydata.org/pandas-docs/stable/user_guide/indexing.html#returning-a-view-versus-a-copy\n",
            "  \n"
          ],
          "name": "stderr"
        },
        {
          "output_type": "execute_result",
          "data": {
            "text/html": [
              "<div>\n",
              "<style scoped>\n",
              "    .dataframe tbody tr th:only-of-type {\n",
              "        vertical-align: middle;\n",
              "    }\n",
              "\n",
              "    .dataframe tbody tr th {\n",
              "        vertical-align: top;\n",
              "    }\n",
              "\n",
              "    .dataframe thead th {\n",
              "        text-align: right;\n",
              "    }\n",
              "</style>\n",
              "<table border=\"1\" class=\"dataframe\">\n",
              "  <thead>\n",
              "    <tr style=\"text-align: right;\">\n",
              "      <th>comp_score</th>\n",
              "      <th>date</th>\n",
              "      <th>Cashtag</th>\n",
              "      <th>neg</th>\n",
              "      <th>neut</th>\n",
              "      <th>pos</th>\n",
              "      <th>total_comments</th>\n",
              "    </tr>\n",
              "  </thead>\n",
              "  <tbody>\n",
              "    <tr>\n",
              "      <th>16607</th>\n",
              "      <td>2021-04-28</td>\n",
              "      <td>PLTR</td>\n",
              "      <td>0.0</td>\n",
              "      <td>1.0</td>\n",
              "      <td>1.0</td>\n",
              "      <td>2.0</td>\n",
              "    </tr>\n",
              "    <tr>\n",
              "      <th>16358</th>\n",
              "      <td>2021-04-25</td>\n",
              "      <td>PLTR</td>\n",
              "      <td>1.0</td>\n",
              "      <td>0.0</td>\n",
              "      <td>0.0</td>\n",
              "      <td>1.0</td>\n",
              "    </tr>\n",
              "    <tr>\n",
              "      <th>16181</th>\n",
              "      <td>2021-04-22</td>\n",
              "      <td>PLTR</td>\n",
              "      <td>0.0</td>\n",
              "      <td>1.0</td>\n",
              "      <td>0.0</td>\n",
              "      <td>1.0</td>\n",
              "    </tr>\n",
              "    <tr>\n",
              "      <th>15935</th>\n",
              "      <td>2021-04-18</td>\n",
              "      <td>PLTR</td>\n",
              "      <td>0.0</td>\n",
              "      <td>0.0</td>\n",
              "      <td>3.0</td>\n",
              "      <td>3.0</td>\n",
              "    </tr>\n",
              "    <tr>\n",
              "      <th>15907</th>\n",
              "      <td>2021-04-17</td>\n",
              "      <td>PLTR</td>\n",
              "      <td>0.0</td>\n",
              "      <td>0.0</td>\n",
              "      <td>1.0</td>\n",
              "      <td>1.0</td>\n",
              "    </tr>\n",
              "  </tbody>\n",
              "</table>\n",
              "</div>"
            ],
            "text/plain": [
              "comp_score        date Cashtag  neg  neut  pos  total_comments\n",
              "16607       2021-04-28    PLTR  0.0   1.0  1.0             2.0\n",
              "16358       2021-04-25    PLTR  1.0   0.0  0.0             1.0\n",
              "16181       2021-04-22    PLTR  0.0   1.0  0.0             1.0\n",
              "15935       2021-04-18    PLTR  0.0   0.0  3.0             3.0\n",
              "15907       2021-04-17    PLTR  0.0   0.0  1.0             1.0"
            ]
          },
          "metadata": {
            "tags": []
          },
          "execution_count": 41
        }
      ]
    },
    {
      "cell_type": "code",
      "metadata": {
        "id": "a7MOdUNMGLKq"
      },
      "source": [
        "pltr['Date'] = pltr['Date'].astype('str')"
      ],
      "execution_count": null,
      "outputs": []
    },
    {
      "cell_type": "code",
      "metadata": {
        "id": "dIiYwvUnGLS4"
      },
      "source": [
        ""
      ],
      "execution_count": null,
      "outputs": []
    },
    {
      "cell_type": "code",
      "metadata": {
        "colab": {
          "base_uri": "https://localhost:8080/",
          "height": 191
        },
        "id": "bggXwuhj5SOo",
        "outputId": "07303bad-32ac-4644-d603-58eda31592bd"
      },
      "source": [
        "pltr = YahooFinanceHistory('PLTR', days_back=375).get_quote()\n",
        "\n",
        "\n",
        "keep_same = {'Date'}\n",
        "pltr.columns = ['{}{}'.format(c, '' if c in keep_same else '_PLTR')\n",
        "            for c in pltr.columns]\n",
        "pltr.head(5)"
      ],
      "execution_count": null,
      "outputs": [
        {
          "output_type": "execute_result",
          "data": {
            "text/html": [
              "<div>\n",
              "<style scoped>\n",
              "    .dataframe tbody tr th:only-of-type {\n",
              "        vertical-align: middle;\n",
              "    }\n",
              "\n",
              "    .dataframe tbody tr th {\n",
              "        vertical-align: top;\n",
              "    }\n",
              "\n",
              "    .dataframe thead th {\n",
              "        text-align: right;\n",
              "    }\n",
              "</style>\n",
              "<table border=\"1\" class=\"dataframe\">\n",
              "  <thead>\n",
              "    <tr style=\"text-align: right;\">\n",
              "      <th></th>\n",
              "      <th>Date</th>\n",
              "      <th>Open_PLTR</th>\n",
              "      <th>High_PLTR</th>\n",
              "      <th>Low_PLTR</th>\n",
              "      <th>Close_PLTR</th>\n",
              "      <th>Adj Close_PLTR</th>\n",
              "      <th>Volume_PLTR</th>\n",
              "    </tr>\n",
              "  </thead>\n",
              "  <tbody>\n",
              "    <tr>\n",
              "      <th>0</th>\n",
              "      <td>2020-09-30</td>\n",
              "      <td>10.00</td>\n",
              "      <td>11.41</td>\n",
              "      <td>9.11</td>\n",
              "      <td>9.50</td>\n",
              "      <td>9.50</td>\n",
              "      <td>338584400</td>\n",
              "    </tr>\n",
              "    <tr>\n",
              "      <th>1</th>\n",
              "      <td>2020-10-01</td>\n",
              "      <td>9.69</td>\n",
              "      <td>10.10</td>\n",
              "      <td>9.23</td>\n",
              "      <td>9.46</td>\n",
              "      <td>9.46</td>\n",
              "      <td>124297600</td>\n",
              "    </tr>\n",
              "    <tr>\n",
              "      <th>2</th>\n",
              "      <td>2020-10-02</td>\n",
              "      <td>9.06</td>\n",
              "      <td>9.28</td>\n",
              "      <td>8.94</td>\n",
              "      <td>9.20</td>\n",
              "      <td>9.20</td>\n",
              "      <td>55018300</td>\n",
              "    </tr>\n",
              "    <tr>\n",
              "      <th>3</th>\n",
              "      <td>2020-10-05</td>\n",
              "      <td>9.43</td>\n",
              "      <td>9.49</td>\n",
              "      <td>8.92</td>\n",
              "      <td>9.03</td>\n",
              "      <td>9.03</td>\n",
              "      <td>36316900</td>\n",
              "    </tr>\n",
              "    <tr>\n",
              "      <th>4</th>\n",
              "      <td>2020-10-06</td>\n",
              "      <td>9.04</td>\n",
              "      <td>10.18</td>\n",
              "      <td>8.90</td>\n",
              "      <td>9.90</td>\n",
              "      <td>9.90</td>\n",
              "      <td>90864000</td>\n",
              "    </tr>\n",
              "  </tbody>\n",
              "</table>\n",
              "</div>"
            ],
            "text/plain": [
              "        Date  Open_PLTR  High_PLTR  ...  Close_PLTR  Adj Close_PLTR  Volume_PLTR\n",
              "0 2020-09-30      10.00      11.41  ...        9.50            9.50    338584400\n",
              "1 2020-10-01       9.69      10.10  ...        9.46            9.46    124297600\n",
              "2 2020-10-02       9.06       9.28  ...        9.20            9.20     55018300\n",
              "3 2020-10-05       9.43       9.49  ...        9.03            9.03     36316900\n",
              "4 2020-10-06       9.04      10.18  ...        9.90            9.90     90864000\n",
              "\n",
              "[5 rows x 7 columns]"
            ]
          },
          "metadata": {
            "tags": []
          },
          "execution_count": 40
        }
      ]
    },
    {
      "cell_type": "code",
      "metadata": {
        "colab": {
          "base_uri": "https://localhost:8080/",
          "height": 191
        },
        "id": "49MFqbBvJOMt",
        "outputId": "09f51c23-94d5-4805-cb82-7a096a8fc188"
      },
      "source": [
        "pltr_merge = pltr.merge(pltr_sent,left_on='Date',right_on='date')\n",
        "pltr_merge.head()"
      ],
      "execution_count": null,
      "outputs": [
        {
          "output_type": "execute_result",
          "data": {
            "text/html": [
              "<div>\n",
              "<style scoped>\n",
              "    .dataframe tbody tr th:only-of-type {\n",
              "        vertical-align: middle;\n",
              "    }\n",
              "\n",
              "    .dataframe tbody tr th {\n",
              "        vertical-align: top;\n",
              "    }\n",
              "\n",
              "    .dataframe thead th {\n",
              "        text-align: right;\n",
              "    }\n",
              "</style>\n",
              "<table border=\"1\" class=\"dataframe\">\n",
              "  <thead>\n",
              "    <tr style=\"text-align: right;\">\n",
              "      <th></th>\n",
              "      <th>Date</th>\n",
              "      <th>Open_PLTR</th>\n",
              "      <th>High_PLTR</th>\n",
              "      <th>Low_PLTR</th>\n",
              "      <th>Close_PLTR</th>\n",
              "      <th>Adj Close_PLTR</th>\n",
              "      <th>Volume_PLTR</th>\n",
              "      <th>date</th>\n",
              "      <th>Cashtag</th>\n",
              "      <th>neg</th>\n",
              "      <th>neut</th>\n",
              "      <th>pos</th>\n",
              "      <th>total_comments</th>\n",
              "    </tr>\n",
              "  </thead>\n",
              "  <tbody>\n",
              "    <tr>\n",
              "      <th>0</th>\n",
              "      <td>2020-09-30</td>\n",
              "      <td>10.00</td>\n",
              "      <td>11.41</td>\n",
              "      <td>9.11</td>\n",
              "      <td>9.50</td>\n",
              "      <td>9.50</td>\n",
              "      <td>338584400</td>\n",
              "      <td>2020-09-30</td>\n",
              "      <td>PLTR</td>\n",
              "      <td>0.0</td>\n",
              "      <td>2.0</td>\n",
              "      <td>0.0</td>\n",
              "      <td>2.0</td>\n",
              "    </tr>\n",
              "    <tr>\n",
              "      <th>1</th>\n",
              "      <td>2020-10-01</td>\n",
              "      <td>9.69</td>\n",
              "      <td>10.10</td>\n",
              "      <td>9.23</td>\n",
              "      <td>9.46</td>\n",
              "      <td>9.46</td>\n",
              "      <td>124297600</td>\n",
              "      <td>2020-10-01</td>\n",
              "      <td>PLTR</td>\n",
              "      <td>0.0</td>\n",
              "      <td>1.0</td>\n",
              "      <td>0.0</td>\n",
              "      <td>1.0</td>\n",
              "    </tr>\n",
              "    <tr>\n",
              "      <th>2</th>\n",
              "      <td>2020-10-07</td>\n",
              "      <td>10.04</td>\n",
              "      <td>10.49</td>\n",
              "      <td>9.99</td>\n",
              "      <td>10.00</td>\n",
              "      <td>10.00</td>\n",
              "      <td>54672400</td>\n",
              "      <td>2020-10-07</td>\n",
              "      <td>PLTR</td>\n",
              "      <td>2.0</td>\n",
              "      <td>0.0</td>\n",
              "      <td>1.0</td>\n",
              "      <td>3.0</td>\n",
              "    </tr>\n",
              "    <tr>\n",
              "      <th>3</th>\n",
              "      <td>2020-10-08</td>\n",
              "      <td>10.29</td>\n",
              "      <td>10.40</td>\n",
              "      <td>9.99</td>\n",
              "      <td>10.00</td>\n",
              "      <td>10.00</td>\n",
              "      <td>34989200</td>\n",
              "      <td>2020-10-08</td>\n",
              "      <td>PLTR</td>\n",
              "      <td>0.0</td>\n",
              "      <td>0.0</td>\n",
              "      <td>2.0</td>\n",
              "      <td>2.0</td>\n",
              "    </tr>\n",
              "    <tr>\n",
              "      <th>4</th>\n",
              "      <td>2020-10-12</td>\n",
              "      <td>10.04</td>\n",
              "      <td>10.05</td>\n",
              "      <td>9.66</td>\n",
              "      <td>9.89</td>\n",
              "      <td>9.89</td>\n",
              "      <td>20623600</td>\n",
              "      <td>2020-10-12</td>\n",
              "      <td>PLTR</td>\n",
              "      <td>0.0</td>\n",
              "      <td>0.0</td>\n",
              "      <td>1.0</td>\n",
              "      <td>1.0</td>\n",
              "    </tr>\n",
              "  </tbody>\n",
              "</table>\n",
              "</div>"
            ],
            "text/plain": [
              "         Date  Open_PLTR  High_PLTR  Low_PLTR  ...  neg  neut  pos total_comments\n",
              "0  2020-09-30      10.00      11.41      9.11  ...  0.0   2.0  0.0            2.0\n",
              "1  2020-10-01       9.69      10.10      9.23  ...  0.0   1.0  0.0            1.0\n",
              "2  2020-10-07      10.04      10.49      9.99  ...  2.0   0.0  1.0            3.0\n",
              "3  2020-10-08      10.29      10.40      9.99  ...  0.0   0.0  2.0            2.0\n",
              "4  2020-10-12      10.04      10.05      9.66  ...  0.0   0.0  1.0            1.0\n",
              "\n",
              "[5 rows x 13 columns]"
            ]
          },
          "metadata": {
            "tags": []
          },
          "execution_count": 43
        }
      ]
    },
    {
      "cell_type": "code",
      "metadata": {
        "colab": {
          "base_uri": "https://localhost:8080/",
          "height": 592
        },
        "id": "gXTKjdI4JfGE",
        "outputId": "a341bce0-cf26-419b-f126-2b508482b2bc"
      },
      "source": [
        "ax = plt.gca()\n",
        "\n",
        "pltr_merge.plot(kind='line', y='Adj Close_PLTR', color='green', ax=ax, figsize=(16, 10))\n",
        "pltr_merge.plot(kind='line', y='pos', color='red', ax=ax, figsize=(16, 10))\n",
        "\n",
        "plt.show()"
      ],
      "execution_count": null,
      "outputs": [
        {
          "output_type": "display_data",
          "data": {
            "image/png": "[encoded data removed]",
            "text/plain": [
              "<Figure size 1152x720 with 1 Axes>"
            ]
          },
          "metadata": {
            "tags": [],
            "needs_background": "light"
          }
        }
      ]
    },
    {
      "cell_type": "code",
      "metadata": {
        "colab": {
          "base_uri": "https://localhost:8080/",
          "height": 17
        },
        "id": "J_CX2BfRbRTL",
        "outputId": "faeb07ae-e54d-4ae0-ce83-442a020052e4"
      },
      "source": [
        "from google.colab import files\n",
        "pltr_merge.to_csv('pltr_merge.csv') \n",
        "files.download('pltr_merge.csv')"
      ],
      "execution_count": null,
      "outputs": [
        {
          "output_type": "display_data",
          "data": {
            "application/javascript": [
              "\n",
              "    async function download(id, filename, size) {\n",
              "      if (!google.colab.kernel.accessAllowed) {\n",
              "        return;\n",
              "      }\n",
              "      const div = document.createElement('div');\n",
              "      const label = document.createElement('label');\n",
              "      label.textContent = `Downloading \"${filename}\": `;\n",
              "      div.appendChild(label);\n",
              "      const progress = document.createElement('progress');\n",
              "      progress.max = size;\n",
              "      div.appendChild(progress);\n",
              "      document.body.appendChild(div);\n",
              "\n",
              "      const buffers = [];\n",
              "      let downloaded = 0;\n",
              "\n",
              "      const channel = await google.colab.kernel.comms.open(id);\n",
              "      // Send a message to notify the kernel that we're ready.\n",
              "      channel.send({})\n",
              "\n",
              "      for await (const message of channel.messages) {\n",
              "        // Send a message to notify the kernel that we're ready.\n",
              "        channel.send({})\n",
              "        if (message.buffers) {\n",
              "          for (const buffer of message.buffers) {\n",
              "            buffers.push(buffer);\n",
              "            downloaded += buffer.byteLength;\n",
              "            progress.value = downloaded;\n",
              "          }\n",
              "        }\n",
              "      }\n",
              "      const blob = new Blob(buffers, {type: 'application/binary'});\n",
              "      const a = document.createElement('a');\n",
              "      a.href = window.URL.createObjectURL(blob);\n",
              "      a.download = filename;\n",
              "      div.appendChild(a);\n",
              "      a.click();\n",
              "      div.remove();\n",
              "    }\n",
              "  "
            ],
            "text/plain": [
              "<IPython.core.display.Javascript object>"
            ]
          },
          "metadata": {
            "tags": []
          }
        },
        {
          "output_type": "display_data",
          "data": {
            "application/javascript": [
              "download(\"download_a8b59671-781d-4801-b35e-41e2281c1f59\", \"pltr_merge.csv\", 10406)"
            ],
            "text/plain": [
              "<IPython.core.display.Javascript object>"
            ]
          },
          "metadata": {
            "tags": []
          }
        }
      ]
    },
    {
      "cell_type": "markdown",
      "metadata": {
        "id": "dW4g8Rge5ORB"
      },
      "source": [
        "##TRVG"
      ]
    },
    {
      "cell_type": "code",
      "metadata": {
        "id": "xuvvCGrv5NoS"
      },
      "source": [
        ""
      ],
      "execution_count": null,
      "outputs": []
    },
    {
      "cell_type": "code",
      "metadata": {
        "colab": {
          "base_uri": "https://localhost:8080/",
          "height": 191
        },
        "id": "n8MQqPoM5UcO",
        "outputId": "d0d5f5f1-d368-41f0-8113-50facf219a3e"
      },
      "source": [
        "trvg = YahooFinanceHistory('TRVG', days_back=375).get_quote()\n",
        "\n",
        "\n",
        "keep_same = {'Date'}\n",
        "trvg.columns = ['{}{}'.format(c, '' if c in keep_same else '_TRVG')\n",
        "            for c in trvg.columns]\n",
        "trvg.head(5)"
      ],
      "execution_count": null,
      "outputs": [
        {
          "output_type": "execute_result",
          "data": {
            "text/html": [
              "<div>\n",
              "<style scoped>\n",
              "    .dataframe tbody tr th:only-of-type {\n",
              "        vertical-align: middle;\n",
              "    }\n",
              "\n",
              "    .dataframe tbody tr th {\n",
              "        vertical-align: top;\n",
              "    }\n",
              "\n",
              "    .dataframe thead th {\n",
              "        text-align: right;\n",
              "    }\n",
              "</style>\n",
              "<table border=\"1\" class=\"dataframe\">\n",
              "  <thead>\n",
              "    <tr style=\"text-align: right;\">\n",
              "      <th></th>\n",
              "      <th>Date</th>\n",
              "      <th>Open_TRVG</th>\n",
              "      <th>High_TRVG</th>\n",
              "      <th>Low_TRVG</th>\n",
              "      <th>Close_TRVG</th>\n",
              "      <th>Adj Close_TRVG</th>\n",
              "      <th>Volume_TRVG</th>\n",
              "    </tr>\n",
              "  </thead>\n",
              "  <tbody>\n",
              "    <tr>\n",
              "      <th>0</th>\n",
              "      <td>2020-04-27</td>\n",
              "      <td>1.69</td>\n",
              "      <td>1.79</td>\n",
              "      <td>1.66</td>\n",
              "      <td>1.73</td>\n",
              "      <td>1.73</td>\n",
              "      <td>152400</td>\n",
              "    </tr>\n",
              "    <tr>\n",
              "      <th>1</th>\n",
              "      <td>2020-04-28</td>\n",
              "      <td>1.77</td>\n",
              "      <td>1.80</td>\n",
              "      <td>1.66</td>\n",
              "      <td>1.75</td>\n",
              "      <td>1.75</td>\n",
              "      <td>223900</td>\n",
              "    </tr>\n",
              "    <tr>\n",
              "      <th>2</th>\n",
              "      <td>2020-04-29</td>\n",
              "      <td>1.80</td>\n",
              "      <td>1.85</td>\n",
              "      <td>1.72</td>\n",
              "      <td>1.80</td>\n",
              "      <td>1.80</td>\n",
              "      <td>352100</td>\n",
              "    </tr>\n",
              "    <tr>\n",
              "      <th>3</th>\n",
              "      <td>2020-04-30</td>\n",
              "      <td>1.84</td>\n",
              "      <td>1.84</td>\n",
              "      <td>1.73</td>\n",
              "      <td>1.83</td>\n",
              "      <td>1.83</td>\n",
              "      <td>222200</td>\n",
              "    </tr>\n",
              "    <tr>\n",
              "      <th>4</th>\n",
              "      <td>2020-05-01</td>\n",
              "      <td>1.79</td>\n",
              "      <td>1.82</td>\n",
              "      <td>1.65</td>\n",
              "      <td>1.69</td>\n",
              "      <td>1.69</td>\n",
              "      <td>209500</td>\n",
              "    </tr>\n",
              "  </tbody>\n",
              "</table>\n",
              "</div>"
            ],
            "text/plain": [
              "        Date  Open_TRVG  High_TRVG  ...  Close_TRVG  Adj Close_TRVG  Volume_TRVG\n",
              "0 2020-04-27       1.69       1.79  ...        1.73            1.73       152400\n",
              "1 2020-04-28       1.77       1.80  ...        1.75            1.75       223900\n",
              "2 2020-04-29       1.80       1.85  ...        1.80            1.80       352100\n",
              "3 2020-04-30       1.84       1.84  ...        1.83            1.83       222200\n",
              "4 2020-05-01       1.79       1.82  ...        1.69            1.69       209500\n",
              "\n",
              "[5 rows x 7 columns]"
            ]
          },
          "metadata": {
            "tags": []
          },
          "execution_count": 47
        }
      ]
    },
    {
      "cell_type": "code",
      "metadata": {
        "colab": {
          "base_uri": "https://localhost:8080/",
          "height": 272
        },
        "id": "YBeYzmJvHR4P",
        "outputId": "f2de5049-0fc0-421b-a2f8-7da55f629bb2"
      },
      "source": [
        "trvg_sent = df_final[df_final['Cashtag']=='TRVG']\n",
        "trvg_sent.sort_values(by=['date'], inplace=True, ascending=False)\n",
        "trvg_sent.head()"
      ],
      "execution_count": null,
      "outputs": [
        {
          "output_type": "stream",
          "text": [
            "/usr/local/lib/python3.7/dist-packages/ipykernel_launcher.py:2: SettingWithCopyWarning: \n",
            "A value is trying to be set on a copy of a slice from a DataFrame\n",
            "\n",
            "See the caveats in the documentation: https://pandas.pydata.org/pandas-docs/stable/user_guide/indexing.html#returning-a-view-versus-a-copy\n",
            "  \n"
          ],
          "name": "stderr"
        },
        {
          "output_type": "execute_result",
          "data": {
            "text/html": [
              "<div>\n",
              "<style scoped>\n",
              "    .dataframe tbody tr th:only-of-type {\n",
              "        vertical-align: middle;\n",
              "    }\n",
              "\n",
              "    .dataframe tbody tr th {\n",
              "        vertical-align: top;\n",
              "    }\n",
              "\n",
              "    .dataframe thead th {\n",
              "        text-align: right;\n",
              "    }\n",
              "</style>\n",
              "<table border=\"1\" class=\"dataframe\">\n",
              "  <thead>\n",
              "    <tr style=\"text-align: right;\">\n",
              "      <th>comp_score</th>\n",
              "      <th>date</th>\n",
              "      <th>Cashtag</th>\n",
              "      <th>neg</th>\n",
              "      <th>neut</th>\n",
              "      <th>pos</th>\n",
              "      <th>total_comments</th>\n",
              "    </tr>\n",
              "  </thead>\n",
              "  <tbody>\n",
              "    <tr>\n",
              "      <th>13977</th>\n",
              "      <td>2021-03-04</td>\n",
              "      <td>TRVG</td>\n",
              "      <td>0.0</td>\n",
              "      <td>1.0</td>\n",
              "      <td>0.0</td>\n",
              "      <td>1.0</td>\n",
              "    </tr>\n",
              "    <tr>\n",
              "      <th>13804</th>\n",
              "      <td>2021-03-03</td>\n",
              "      <td>TRVG</td>\n",
              "      <td>0.0</td>\n",
              "      <td>1.0</td>\n",
              "      <td>0.0</td>\n",
              "      <td>1.0</td>\n",
              "    </tr>\n",
              "    <tr>\n",
              "      <th>12285</th>\n",
              "      <td>2021-02-16</td>\n",
              "      <td>TRVG</td>\n",
              "      <td>0.0</td>\n",
              "      <td>1.0</td>\n",
              "      <td>0.0</td>\n",
              "      <td>1.0</td>\n",
              "    </tr>\n",
              "    <tr>\n",
              "      <th>12086</th>\n",
              "      <td>2021-02-14</td>\n",
              "      <td>TRVG</td>\n",
              "      <td>0.0</td>\n",
              "      <td>1.0</td>\n",
              "      <td>1.0</td>\n",
              "      <td>2.0</td>\n",
              "    </tr>\n",
              "    <tr>\n",
              "      <th>11990</th>\n",
              "      <td>2021-02-13</td>\n",
              "      <td>TRVG</td>\n",
              "      <td>0.0</td>\n",
              "      <td>0.0</td>\n",
              "      <td>3.0</td>\n",
              "      <td>3.0</td>\n",
              "    </tr>\n",
              "  </tbody>\n",
              "</table>\n",
              "</div>"
            ],
            "text/plain": [
              "comp_score        date Cashtag  neg  neut  pos  total_comments\n",
              "13977       2021-03-04    TRVG  0.0   1.0  0.0             1.0\n",
              "13804       2021-03-03    TRVG  0.0   1.0  0.0             1.0\n",
              "12285       2021-02-16    TRVG  0.0   1.0  0.0             1.0\n",
              "12086       2021-02-14    TRVG  0.0   1.0  1.0             2.0\n",
              "11990       2021-02-13    TRVG  0.0   0.0  3.0             3.0"
            ]
          },
          "metadata": {
            "tags": []
          },
          "execution_count": 48
        }
      ]
    },
    {
      "cell_type": "code",
      "metadata": {
        "id": "i7HQiGxE5atF"
      },
      "source": [
        "trvg['Date'] = trvg['Date'].astype('str')"
      ],
      "execution_count": null,
      "outputs": []
    },
    {
      "cell_type": "code",
      "metadata": {
        "colab": {
          "base_uri": "https://localhost:8080/",
          "height": 191
        },
        "id": "tn2mY_n35axs",
        "outputId": "962507bd-4afe-4beb-c845-260de43530ba"
      },
      "source": [
        "\n",
        "trvg_merge = trvg.merge(trvg_sent,left_on='Date',right_on='date')\n",
        "trvg_merge.head()"
      ],
      "execution_count": null,
      "outputs": [
        {
          "output_type": "execute_result",
          "data": {
            "text/html": [
              "<div>\n",
              "<style scoped>\n",
              "    .dataframe tbody tr th:only-of-type {\n",
              "        vertical-align: middle;\n",
              "    }\n",
              "\n",
              "    .dataframe tbody tr th {\n",
              "        vertical-align: top;\n",
              "    }\n",
              "\n",
              "    .dataframe thead th {\n",
              "        text-align: right;\n",
              "    }\n",
              "</style>\n",
              "<table border=\"1\" class=\"dataframe\">\n",
              "  <thead>\n",
              "    <tr style=\"text-align: right;\">\n",
              "      <th></th>\n",
              "      <th>Date</th>\n",
              "      <th>Open_TRVG</th>\n",
              "      <th>High_TRVG</th>\n",
              "      <th>Low_TRVG</th>\n",
              "      <th>Close_TRVG</th>\n",
              "      <th>Adj Close_TRVG</th>\n",
              "      <th>Volume_TRVG</th>\n",
              "      <th>date</th>\n",
              "      <th>Cashtag</th>\n",
              "      <th>neg</th>\n",
              "      <th>neut</th>\n",
              "      <th>pos</th>\n",
              "      <th>total_comments</th>\n",
              "    </tr>\n",
              "  </thead>\n",
              "  <tbody>\n",
              "    <tr>\n",
              "      <th>0</th>\n",
              "      <td>2021-01-27</td>\n",
              "      <td>2.14</td>\n",
              "      <td>5.88</td>\n",
              "      <td>2.070</td>\n",
              "      <td>3.19</td>\n",
              "      <td>3.19</td>\n",
              "      <td>43961500</td>\n",
              "      <td>2021-01-27</td>\n",
              "      <td>TRVG</td>\n",
              "      <td>0.0</td>\n",
              "      <td>1.0</td>\n",
              "      <td>1.0</td>\n",
              "      <td>2.0</td>\n",
              "    </tr>\n",
              "    <tr>\n",
              "      <th>1</th>\n",
              "      <td>2021-01-28</td>\n",
              "      <td>2.69</td>\n",
              "      <td>2.87</td>\n",
              "      <td>2.250</td>\n",
              "      <td>2.48</td>\n",
              "      <td>2.48</td>\n",
              "      <td>11946000</td>\n",
              "      <td>2021-01-28</td>\n",
              "      <td>TRVG</td>\n",
              "      <td>0.0</td>\n",
              "      <td>1.0</td>\n",
              "      <td>0.0</td>\n",
              "      <td>1.0</td>\n",
              "    </tr>\n",
              "    <tr>\n",
              "      <th>2</th>\n",
              "      <td>2021-02-01</td>\n",
              "      <td>2.63</td>\n",
              "      <td>2.74</td>\n",
              "      <td>2.310</td>\n",
              "      <td>2.38</td>\n",
              "      <td>2.38</td>\n",
              "      <td>5879000</td>\n",
              "      <td>2021-02-01</td>\n",
              "      <td>TRVG</td>\n",
              "      <td>0.0</td>\n",
              "      <td>1.0</td>\n",
              "      <td>1.0</td>\n",
              "      <td>2.0</td>\n",
              "    </tr>\n",
              "    <tr>\n",
              "      <th>3</th>\n",
              "      <td>2021-02-04</td>\n",
              "      <td>2.58</td>\n",
              "      <td>2.58</td>\n",
              "      <td>2.295</td>\n",
              "      <td>2.40</td>\n",
              "      <td>2.40</td>\n",
              "      <td>3412100</td>\n",
              "      <td>2021-02-04</td>\n",
              "      <td>TRVG</td>\n",
              "      <td>0.0</td>\n",
              "      <td>0.0</td>\n",
              "      <td>1.0</td>\n",
              "      <td>1.0</td>\n",
              "    </tr>\n",
              "    <tr>\n",
              "      <th>4</th>\n",
              "      <td>2021-02-12</td>\n",
              "      <td>2.65</td>\n",
              "      <td>3.86</td>\n",
              "      <td>2.630</td>\n",
              "      <td>3.30</td>\n",
              "      <td>3.30</td>\n",
              "      <td>24253900</td>\n",
              "      <td>2021-02-12</td>\n",
              "      <td>TRVG</td>\n",
              "      <td>0.0</td>\n",
              "      <td>3.0</td>\n",
              "      <td>8.0</td>\n",
              "      <td>11.0</td>\n",
              "    </tr>\n",
              "  </tbody>\n",
              "</table>\n",
              "</div>"
            ],
            "text/plain": [
              "         Date  Open_TRVG  High_TRVG  Low_TRVG  ...  neg  neut  pos total_comments\n",
              "0  2021-01-27       2.14       5.88     2.070  ...  0.0   1.0  1.0            2.0\n",
              "1  2021-01-28       2.69       2.87     2.250  ...  0.0   1.0  0.0            1.0\n",
              "2  2021-02-01       2.63       2.74     2.310  ...  0.0   1.0  1.0            2.0\n",
              "3  2021-02-04       2.58       2.58     2.295  ...  0.0   0.0  1.0            1.0\n",
              "4  2021-02-12       2.65       3.86     2.630  ...  0.0   3.0  8.0           11.0\n",
              "\n",
              "[5 rows x 13 columns]"
            ]
          },
          "metadata": {
            "tags": []
          },
          "execution_count": 50
        }
      ]
    },
    {
      "cell_type": "code",
      "metadata": {
        "colab": {
          "base_uri": "https://localhost:8080/",
          "height": 592
        },
        "id": "mRpYGXWR5a4m",
        "outputId": "1478edeb-34cf-4535-d8cf-3e12d99b003c"
      },
      "source": [
        "ax = plt.gca()\n",
        "\n",
        "trvg_merge.plot(kind='line', y='Adj Close_TRVG', color='green', ax=ax, figsize=(16, 10))\n",
        "trvg_merge.plot(kind='line', y='pos', color='red', ax=ax, figsize=(16, 10))\n",
        "\n",
        "plt.show()"
      ],
      "execution_count": null,
      "outputs": [
        {
          "output_type": "display_data",
          "data": {
            "image/png": "[encoded data removed]",
            "text/plain": [
              "<Figure size 1152x720 with 1 Axes>"
            ]
          },
          "metadata": {
            "tags": [],
            "needs_background": "light"
          }
        }
      ]
    },
    {
      "cell_type": "code",
      "metadata": {
        "colab": {
          "base_uri": "https://localhost:8080/",
          "height": 17
        },
        "id": "OwtyUJU7bj0m",
        "outputId": "78e8faf6-fb31-4d2f-a2a4-bafc667e6e37"
      },
      "source": [
        "from google.colab import files\n",
        "trvg_merge.to_csv('trvg_merge.csv') \n",
        "files.download('trvg_merge.csv')"
      ],
      "execution_count": null,
      "outputs": [
        {
          "output_type": "display_data",
          "data": {
            "application/javascript": [
              "\n",
              "    async function download(id, filename, size) {\n",
              "      if (!google.colab.kernel.accessAllowed) {\n",
              "        return;\n",
              "      }\n",
              "      const div = document.createElement('div');\n",
              "      const label = document.createElement('label');\n",
              "      label.textContent = `Downloading \"${filename}\": `;\n",
              "      div.appendChild(label);\n",
              "      const progress = document.createElement('progress');\n",
              "      progress.max = size;\n",
              "      div.appendChild(progress);\n",
              "      document.body.appendChild(div);\n",
              "\n",
              "      const buffers = [];\n",
              "      let downloaded = 0;\n",
              "\n",
              "      const channel = await google.colab.kernel.comms.open(id);\n",
              "      // Send a message to notify the kernel that we're ready.\n",
              "      channel.send({})\n",
              "\n",
              "      for await (const message of channel.messages) {\n",
              "        // Send a message to notify the kernel that we're ready.\n",
              "        channel.send({})\n",
              "        if (message.buffers) {\n",
              "          for (const buffer of message.buffers) {\n",
              "            buffers.push(buffer);\n",
              "            downloaded += buffer.byteLength;\n",
              "            progress.value = downloaded;\n",
              "          }\n",
              "        }\n",
              "      }\n",
              "      const blob = new Blob(buffers, {type: 'application/binary'});\n",
              "      const a = document.createElement('a');\n",
              "      a.href = window.URL.createObjectURL(blob);\n",
              "      a.download = filename;\n",
              "      div.appendChild(a);\n",
              "      a.click();\n",
              "      div.remove();\n",
              "    }\n",
              "  "
            ],
            "text/plain": [
              "<IPython.core.display.Javascript object>"
            ]
          },
          "metadata": {
            "tags": []
          }
        },
        {
          "output_type": "display_data",
          "data": {
            "application/javascript": [
              "download(\"download_827a1135-ef79-4ff9-b780-75d94ccb0b52\", \"trvg_merge.csv\", 738)"
            ],
            "text/plain": [
              "<IPython.core.display.Javascript object>"
            ]
          },
          "metadata": {
            "tags": []
          }
        }
      ]
    },
    {
      "cell_type": "markdown",
      "metadata": {
        "id": "b0cvrEER7WPd"
      },
      "source": [
        "##FIRE"
      ]
    },
    {
      "cell_type": "code",
      "metadata": {
        "id": "QMjPUwiz7UtZ"
      },
      "source": [
        ""
      ],
      "execution_count": null,
      "outputs": []
    },
    {
      "cell_type": "code",
      "metadata": {
        "colab": {
          "base_uri": "https://localhost:8080/",
          "height": 191
        },
        "id": "jeeDNGHp5WlV",
        "outputId": "646da5d5-5841-4712-e04c-50ea443ae3ce"
      },
      "source": [
        "fire = YahooFinanceHistory('FIRE', days_back=375).get_quote()\n",
        "\n",
        "\n",
        "keep_same = {'Date'}\n",
        "fire.columns = ['{}{}'.format(c, '' if c in keep_same else '_FIRE')\n",
        "            for c in fire.columns]\n",
        "fire.head(5)"
      ],
      "execution_count": null,
      "outputs": [
        {
          "output_type": "execute_result",
          "data": {
            "text/html": [
              "<div>\n",
              "<style scoped>\n",
              "    .dataframe tbody tr th:only-of-type {\n",
              "        vertical-align: middle;\n",
              "    }\n",
              "\n",
              "    .dataframe tbody tr th {\n",
              "        vertical-align: top;\n",
              "    }\n",
              "\n",
              "    .dataframe thead th {\n",
              "        text-align: right;\n",
              "    }\n",
              "</style>\n",
              "<table border=\"1\" class=\"dataframe\">\n",
              "  <thead>\n",
              "    <tr style=\"text-align: right;\">\n",
              "      <th></th>\n",
              "      <th>Date</th>\n",
              "      <th>Open_FIRE</th>\n",
              "      <th>High_FIRE</th>\n",
              "      <th>Low_FIRE</th>\n",
              "      <th>Close_FIRE</th>\n",
              "      <th>Adj Close_FIRE</th>\n",
              "      <th>Volume_FIRE</th>\n",
              "    </tr>\n",
              "  </thead>\n",
              "  <tbody>\n",
              "    <tr>\n",
              "      <th>0</th>\n",
              "      <td>2020-04-27</td>\n",
              "      <td>0.025</td>\n",
              "      <td>0.025</td>\n",
              "      <td>0.025</td>\n",
              "      <td>0.025</td>\n",
              "      <td>0.025</td>\n",
              "      <td>0.0</td>\n",
              "    </tr>\n",
              "    <tr>\n",
              "      <th>1</th>\n",
              "      <td>2020-04-28</td>\n",
              "      <td>0.025</td>\n",
              "      <td>0.025</td>\n",
              "      <td>0.025</td>\n",
              "      <td>0.025</td>\n",
              "      <td>0.025</td>\n",
              "      <td>0.0</td>\n",
              "    </tr>\n",
              "    <tr>\n",
              "      <th>2</th>\n",
              "      <td>2020-04-29</td>\n",
              "      <td>0.025</td>\n",
              "      <td>0.025</td>\n",
              "      <td>0.025</td>\n",
              "      <td>0.025</td>\n",
              "      <td>0.025</td>\n",
              "      <td>0.0</td>\n",
              "    </tr>\n",
              "    <tr>\n",
              "      <th>3</th>\n",
              "      <td>2020-04-30</td>\n",
              "      <td>0.025</td>\n",
              "      <td>0.025</td>\n",
              "      <td>0.025</td>\n",
              "      <td>0.025</td>\n",
              "      <td>0.025</td>\n",
              "      <td>0.0</td>\n",
              "    </tr>\n",
              "    <tr>\n",
              "      <th>4</th>\n",
              "      <td>2020-05-01</td>\n",
              "      <td>0.025</td>\n",
              "      <td>0.025</td>\n",
              "      <td>0.025</td>\n",
              "      <td>0.025</td>\n",
              "      <td>0.025</td>\n",
              "      <td>0.0</td>\n",
              "    </tr>\n",
              "  </tbody>\n",
              "</table>\n",
              "</div>"
            ],
            "text/plain": [
              "        Date  Open_FIRE  High_FIRE  ...  Close_FIRE  Adj Close_FIRE  Volume_FIRE\n",
              "0 2020-04-27      0.025      0.025  ...       0.025           0.025          0.0\n",
              "1 2020-04-28      0.025      0.025  ...       0.025           0.025          0.0\n",
              "2 2020-04-29      0.025      0.025  ...       0.025           0.025          0.0\n",
              "3 2020-04-30      0.025      0.025  ...       0.025           0.025          0.0\n",
              "4 2020-05-01      0.025      0.025  ...       0.025           0.025          0.0\n",
              "\n",
              "[5 rows x 7 columns]"
            ]
          },
          "metadata": {
            "tags": []
          },
          "execution_count": 53
        }
      ]
    },
    {
      "cell_type": "code",
      "metadata": {
        "colab": {
          "base_uri": "https://localhost:8080/",
          "height": 272
        },
        "id": "6PJENSpxHSu2",
        "outputId": "d273c885-7199-4acd-e0da-603f7d919df8"
      },
      "source": [
        "fire_sent = df_final[df_final['Cashtag']=='FIRE']\n",
        "fire_sent.sort_values(by=['date'], inplace=True, ascending=False)\n",
        "fire_sent.head()"
      ],
      "execution_count": null,
      "outputs": [
        {
          "output_type": "stream",
          "text": [
            "/usr/local/lib/python3.7/dist-packages/ipykernel_launcher.py:2: SettingWithCopyWarning: \n",
            "A value is trying to be set on a copy of a slice from a DataFrame\n",
            "\n",
            "See the caveats in the documentation: https://pandas.pydata.org/pandas-docs/stable/user_guide/indexing.html#returning-a-view-versus-a-copy\n",
            "  \n"
          ],
          "name": "stderr"
        },
        {
          "output_type": "execute_result",
          "data": {
            "text/html": [
              "<div>\n",
              "<style scoped>\n",
              "    .dataframe tbody tr th:only-of-type {\n",
              "        vertical-align: middle;\n",
              "    }\n",
              "\n",
              "    .dataframe tbody tr th {\n",
              "        vertical-align: top;\n",
              "    }\n",
              "\n",
              "    .dataframe thead th {\n",
              "        text-align: right;\n",
              "    }\n",
              "</style>\n",
              "<table border=\"1\" class=\"dataframe\">\n",
              "  <thead>\n",
              "    <tr style=\"text-align: right;\">\n",
              "      <th>comp_score</th>\n",
              "      <th>date</th>\n",
              "      <th>Cashtag</th>\n",
              "      <th>neg</th>\n",
              "      <th>neut</th>\n",
              "      <th>pos</th>\n",
              "      <th>total_comments</th>\n",
              "    </tr>\n",
              "  </thead>\n",
              "  <tbody>\n",
              "    <tr>\n",
              "      <th>15644</th>\n",
              "      <td>2021-04-09</td>\n",
              "      <td>FIRE</td>\n",
              "      <td>0.0</td>\n",
              "      <td>0.0</td>\n",
              "      <td>1.0</td>\n",
              "      <td>1.0</td>\n",
              "    </tr>\n",
              "    <tr>\n",
              "      <th>15578</th>\n",
              "      <td>2021-04-08</td>\n",
              "      <td>FIRE</td>\n",
              "      <td>0.0</td>\n",
              "      <td>0.0</td>\n",
              "      <td>3.0</td>\n",
              "      <td>3.0</td>\n",
              "    </tr>\n",
              "    <tr>\n",
              "      <th>14710</th>\n",
              "      <td>2021-03-15</td>\n",
              "      <td>FIRE</td>\n",
              "      <td>0.0</td>\n",
              "      <td>0.0</td>\n",
              "      <td>1.0</td>\n",
              "      <td>1.0</td>\n",
              "    </tr>\n",
              "    <tr>\n",
              "      <th>13892</th>\n",
              "      <td>2021-03-04</td>\n",
              "      <td>FIRE</td>\n",
              "      <td>0.0</td>\n",
              "      <td>0.0</td>\n",
              "      <td>1.0</td>\n",
              "      <td>1.0</td>\n",
              "    </tr>\n",
              "    <tr>\n",
              "      <th>13469</th>\n",
              "      <td>2021-02-27</td>\n",
              "      <td>FIRE</td>\n",
              "      <td>0.0</td>\n",
              "      <td>0.0</td>\n",
              "      <td>2.0</td>\n",
              "      <td>2.0</td>\n",
              "    </tr>\n",
              "  </tbody>\n",
              "</table>\n",
              "</div>"
            ],
            "text/plain": [
              "comp_score        date Cashtag  neg  neut  pos  total_comments\n",
              "15644       2021-04-09    FIRE  0.0   0.0  1.0             1.0\n",
              "15578       2021-04-08    FIRE  0.0   0.0  3.0             3.0\n",
              "14710       2021-03-15    FIRE  0.0   0.0  1.0             1.0\n",
              "13892       2021-03-04    FIRE  0.0   0.0  1.0             1.0\n",
              "13469       2021-02-27    FIRE  0.0   0.0  2.0             2.0"
            ]
          },
          "metadata": {
            "tags": []
          },
          "execution_count": 54
        }
      ]
    },
    {
      "cell_type": "code",
      "metadata": {
        "colab": {
          "base_uri": "https://localhost:8080/",
          "height": 191
        },
        "id": "cKiUsirQ8P1e",
        "outputId": "dbc65c75-8131-49dc-8b93-2f867c399e50"
      },
      "source": [
        "fire['Date'] = fire['Date'].astype('str')\n",
        "fire_merge = fire.merge(fire_sent,left_on='Date',right_on='date')\n",
        "fire_merge.head()"
      ],
      "execution_count": null,
      "outputs": [
        {
          "output_type": "execute_result",
          "data": {
            "text/html": [
              "<div>\n",
              "<style scoped>\n",
              "    .dataframe tbody tr th:only-of-type {\n",
              "        vertical-align: middle;\n",
              "    }\n",
              "\n",
              "    .dataframe tbody tr th {\n",
              "        vertical-align: top;\n",
              "    }\n",
              "\n",
              "    .dataframe thead th {\n",
              "        text-align: right;\n",
              "    }\n",
              "</style>\n",
              "<table border=\"1\" class=\"dataframe\">\n",
              "  <thead>\n",
              "    <tr style=\"text-align: right;\">\n",
              "      <th></th>\n",
              "      <th>Date</th>\n",
              "      <th>Open_FIRE</th>\n",
              "      <th>High_FIRE</th>\n",
              "      <th>Low_FIRE</th>\n",
              "      <th>Close_FIRE</th>\n",
              "      <th>Adj Close_FIRE</th>\n",
              "      <th>Volume_FIRE</th>\n",
              "      <th>date</th>\n",
              "      <th>Cashtag</th>\n",
              "      <th>neg</th>\n",
              "      <th>neut</th>\n",
              "      <th>pos</th>\n",
              "      <th>total_comments</th>\n",
              "    </tr>\n",
              "  </thead>\n",
              "  <tbody>\n",
              "    <tr>\n",
              "      <th>0</th>\n",
              "      <td>2021-01-26</td>\n",
              "      <td>0.1300</td>\n",
              "      <td>0.1300</td>\n",
              "      <td>0.1300</td>\n",
              "      <td>0.1300</td>\n",
              "      <td>0.1300</td>\n",
              "      <td>0.0</td>\n",
              "      <td>2021-01-26</td>\n",
              "      <td>FIRE</td>\n",
              "      <td>0.0</td>\n",
              "      <td>0.0</td>\n",
              "      <td>1.0</td>\n",
              "      <td>1.0</td>\n",
              "    </tr>\n",
              "    <tr>\n",
              "      <th>1</th>\n",
              "      <td>2021-01-28</td>\n",
              "      <td>0.1300</td>\n",
              "      <td>0.1300</td>\n",
              "      <td>0.1300</td>\n",
              "      <td>0.1300</td>\n",
              "      <td>0.1300</td>\n",
              "      <td>0.0</td>\n",
              "      <td>2021-01-28</td>\n",
              "      <td>FIRE</td>\n",
              "      <td>0.0</td>\n",
              "      <td>0.0</td>\n",
              "      <td>1.0</td>\n",
              "      <td>1.0</td>\n",
              "    </tr>\n",
              "    <tr>\n",
              "      <th>2</th>\n",
              "      <td>2021-02-04</td>\n",
              "      <td>0.1300</td>\n",
              "      <td>0.1300</td>\n",
              "      <td>0.1300</td>\n",
              "      <td>0.1300</td>\n",
              "      <td>0.1300</td>\n",
              "      <td>0.0</td>\n",
              "      <td>2021-02-04</td>\n",
              "      <td>FIRE</td>\n",
              "      <td>0.0</td>\n",
              "      <td>1.0</td>\n",
              "      <td>2.0</td>\n",
              "      <td>3.0</td>\n",
              "    </tr>\n",
              "    <tr>\n",
              "      <th>3</th>\n",
              "      <td>2021-02-09</td>\n",
              "      <td>0.1100</td>\n",
              "      <td>0.1100</td>\n",
              "      <td>0.1070</td>\n",
              "      <td>0.1175</td>\n",
              "      <td>0.1175</td>\n",
              "      <td>64500.0</td>\n",
              "      <td>2021-02-09</td>\n",
              "      <td>FIRE</td>\n",
              "      <td>0.0</td>\n",
              "      <td>0.0</td>\n",
              "      <td>2.0</td>\n",
              "      <td>2.0</td>\n",
              "    </tr>\n",
              "    <tr>\n",
              "      <th>4</th>\n",
              "      <td>2021-02-10</td>\n",
              "      <td>0.1175</td>\n",
              "      <td>0.1175</td>\n",
              "      <td>0.1175</td>\n",
              "      <td>0.1175</td>\n",
              "      <td>0.1175</td>\n",
              "      <td>0.0</td>\n",
              "      <td>2021-02-10</td>\n",
              "      <td>FIRE</td>\n",
              "      <td>0.0</td>\n",
              "      <td>0.0</td>\n",
              "      <td>3.0</td>\n",
              "      <td>3.0</td>\n",
              "    </tr>\n",
              "  </tbody>\n",
              "</table>\n",
              "</div>"
            ],
            "text/plain": [
              "         Date  Open_FIRE  High_FIRE  Low_FIRE  ...  neg  neut  pos total_comments\n",
              "0  2021-01-26     0.1300     0.1300    0.1300  ...  0.0   0.0  1.0            1.0\n",
              "1  2021-01-28     0.1300     0.1300    0.1300  ...  0.0   0.0  1.0            1.0\n",
              "2  2021-02-04     0.1300     0.1300    0.1300  ...  0.0   1.0  2.0            3.0\n",
              "3  2021-02-09     0.1100     0.1100    0.1070  ...  0.0   0.0  2.0            2.0\n",
              "4  2021-02-10     0.1175     0.1175    0.1175  ...  0.0   0.0  3.0            3.0\n",
              "\n",
              "[5 rows x 13 columns]"
            ]
          },
          "metadata": {
            "tags": []
          },
          "execution_count": 55
        }
      ]
    },
    {
      "cell_type": "code",
      "metadata": {
        "colab": {
          "base_uri": "https://localhost:8080/",
          "height": 592
        },
        "id": "z0euNrrB96W2",
        "outputId": "bb78091f-f5d8-4590-aaef-cb1ce343b8b0"
      },
      "source": [
        "ax = plt.gca()\n",
        "\n",
        "fire_merge.plot(kind='line', y='Adj Close_FIRE', color='green', ax=ax, figsize=(16, 10))\n",
        "fire_merge.plot(kind='line', y='pos', color='red', ax=ax, figsize=(16, 10))\n",
        "\n",
        "plt.show()"
      ],
      "execution_count": null,
      "outputs": [
        {
          "output_type": "display_data",
          "data": {
            "image/png": "[encoded data removed]",
            "text/plain": [
              "<Figure size 1152x720 with 1 Axes>"
            ]
          },
          "metadata": {
            "tags": [],
            "needs_background": "light"
          }
        }
      ]
    },
    {
      "cell_type": "code",
      "metadata": {
        "colab": {
          "base_uri": "https://localhost:8080/",
          "height": 17
        },
        "id": "x-fOR3y2br4r",
        "outputId": "93b6822d-20f1-454d-8414-53764fdbe826"
      },
      "source": [
        "from google.colab import files\n",
        "fire_merge.to_csv('fire_merge.csv') \n",
        "files.download('fire_merge.csv')"
      ],
      "execution_count": null,
      "outputs": [
        {
          "output_type": "display_data",
          "data": {
            "application/javascript": [
              "\n",
              "    async function download(id, filename, size) {\n",
              "      if (!google.colab.kernel.accessAllowed) {\n",
              "        return;\n",
              "      }\n",
              "      const div = document.createElement('div');\n",
              "      const label = document.createElement('label');\n",
              "      label.textContent = `Downloading \"${filename}\": `;\n",
              "      div.appendChild(label);\n",
              "      const progress = document.createElement('progress');\n",
              "      progress.max = size;\n",
              "      div.appendChild(progress);\n",
              "      document.body.appendChild(div);\n",
              "\n",
              "      const buffers = [];\n",
              "      let downloaded = 0;\n",
              "\n",
              "      const channel = await google.colab.kernel.comms.open(id);\n",
              "      // Send a message to notify the kernel that we're ready.\n",
              "      channel.send({})\n",
              "\n",
              "      for await (const message of channel.messages) {\n",
              "        // Send a message to notify the kernel that we're ready.\n",
              "        channel.send({})\n",
              "        if (message.buffers) {\n",
              "          for (const buffer of message.buffers) {\n",
              "            buffers.push(buffer);\n",
              "            downloaded += buffer.byteLength;\n",
              "            progress.value = downloaded;\n",
              "          }\n",
              "        }\n",
              "      }\n",
              "      const blob = new Blob(buffers, {type: 'application/binary'});\n",
              "      const a = document.createElement('a');\n",
              "      a.href = window.URL.createObjectURL(blob);\n",
              "      a.download = filename;\n",
              "      div.appendChild(a);\n",
              "      a.click();\n",
              "      div.remove();\n",
              "    }\n",
              "  "
            ],
            "text/plain": [
              "<IPython.core.display.Javascript object>"
            ]
          },
          "metadata": {
            "tags": []
          }
        },
        {
          "output_type": "display_data",
          "data": {
            "application/javascript": [
              "download(\"download_0a7bca83-38a0-4d04-8437-a8eebe4ba87d\", \"fire_merge.csv\", 1239)"
            ],
            "text/plain": [
              "<IPython.core.display.Javascript object>"
            ]
          },
          "metadata": {
            "tags": []
          }
        }
      ]
    },
    {
      "cell_type": "markdown",
      "metadata": {
        "id": "fCabMp0X7a-V"
      },
      "source": [
        "##ZOM"
      ]
    },
    {
      "cell_type": "code",
      "metadata": {
        "colab": {
          "base_uri": "https://localhost:8080/",
          "height": 191
        },
        "id": "krcG1WfM5Yvz",
        "outputId": "8be04fe8-6b42-4327-d5de-94733fb19495"
      },
      "source": [
        "zom = YahooFinanceHistory('ZOM', days_back=375).get_quote()\n",
        "\n",
        "\n",
        "keep_same = {'Date'}\n",
        "zom.columns = ['{}{}'.format(c, '' if c in keep_same else '_ZOM')\n",
        "            for c in zom.columns]\n",
        "zom.head(5)"
      ],
      "execution_count": null,
      "outputs": [
        {
          "output_type": "execute_result",
          "data": {
            "text/html": [
              "<div>\n",
              "<style scoped>\n",
              "    .dataframe tbody tr th:only-of-type {\n",
              "        vertical-align: middle;\n",
              "    }\n",
              "\n",
              "    .dataframe tbody tr th {\n",
              "        vertical-align: top;\n",
              "    }\n",
              "\n",
              "    .dataframe thead th {\n",
              "        text-align: right;\n",
              "    }\n",
              "</style>\n",
              "<table border=\"1\" class=\"dataframe\">\n",
              "  <thead>\n",
              "    <tr style=\"text-align: right;\">\n",
              "      <th></th>\n",
              "      <th>Date</th>\n",
              "      <th>Open_ZOM</th>\n",
              "      <th>High_ZOM</th>\n",
              "      <th>Low_ZOM</th>\n",
              "      <th>Close_ZOM</th>\n",
              "      <th>Adj Close_ZOM</th>\n",
              "      <th>Volume_ZOM</th>\n",
              "    </tr>\n",
              "  </thead>\n",
              "  <tbody>\n",
              "    <tr>\n",
              "      <th>0</th>\n",
              "      <td>2020-04-27</td>\n",
              "      <td>0.155</td>\n",
              "      <td>0.175</td>\n",
              "      <td>0.155</td>\n",
              "      <td>0.164</td>\n",
              "      <td>0.164</td>\n",
              "      <td>29126400</td>\n",
              "    </tr>\n",
              "    <tr>\n",
              "      <th>1</th>\n",
              "      <td>2020-04-28</td>\n",
              "      <td>0.168</td>\n",
              "      <td>0.228</td>\n",
              "      <td>0.158</td>\n",
              "      <td>0.209</td>\n",
              "      <td>0.209</td>\n",
              "      <td>131477700</td>\n",
              "    </tr>\n",
              "    <tr>\n",
              "      <th>2</th>\n",
              "      <td>2020-04-29</td>\n",
              "      <td>0.190</td>\n",
              "      <td>0.200</td>\n",
              "      <td>0.176</td>\n",
              "      <td>0.180</td>\n",
              "      <td>0.180</td>\n",
              "      <td>39891200</td>\n",
              "    </tr>\n",
              "    <tr>\n",
              "      <th>3</th>\n",
              "      <td>2020-04-30</td>\n",
              "      <td>0.171</td>\n",
              "      <td>0.189</td>\n",
              "      <td>0.168</td>\n",
              "      <td>0.170</td>\n",
              "      <td>0.170</td>\n",
              "      <td>21085100</td>\n",
              "    </tr>\n",
              "    <tr>\n",
              "      <th>4</th>\n",
              "      <td>2020-05-01</td>\n",
              "      <td>0.173</td>\n",
              "      <td>0.182</td>\n",
              "      <td>0.170</td>\n",
              "      <td>0.176</td>\n",
              "      <td>0.176</td>\n",
              "      <td>9659300</td>\n",
              "    </tr>\n",
              "  </tbody>\n",
              "</table>\n",
              "</div>"
            ],
            "text/plain": [
              "        Date  Open_ZOM  High_ZOM  Low_ZOM  Close_ZOM  Adj Close_ZOM  Volume_ZOM\n",
              "0 2020-04-27     0.155     0.175    0.155      0.164          0.164    29126400\n",
              "1 2020-04-28     0.168     0.228    0.158      0.209          0.209   131477700\n",
              "2 2020-04-29     0.190     0.200    0.176      0.180          0.180    39891200\n",
              "3 2020-04-30     0.171     0.189    0.168      0.170          0.170    21085100\n",
              "4 2020-05-01     0.173     0.182    0.170      0.176          0.176     9659300"
            ]
          },
          "metadata": {
            "tags": []
          },
          "execution_count": 57
        }
      ]
    },
    {
      "cell_type": "code",
      "metadata": {
        "colab": {
          "base_uri": "https://localhost:8080/",
          "height": 272
        },
        "id": "n1EJWN3aHTdl",
        "outputId": "a92d56ff-01e4-4cc6-a41b-a7d977992aef"
      },
      "source": [
        "zom_sent = df_final[df_final['Cashtag']=='ZOM']\n",
        "zom_sent.sort_values(by=['date'], inplace=True, ascending=False)\n",
        "zom_sent.head()"
      ],
      "execution_count": null,
      "outputs": [
        {
          "output_type": "stream",
          "text": [
            "/usr/local/lib/python3.7/dist-packages/ipykernel_launcher.py:2: SettingWithCopyWarning: \n",
            "A value is trying to be set on a copy of a slice from a DataFrame\n",
            "\n",
            "See the caveats in the documentation: https://pandas.pydata.org/pandas-docs/stable/user_guide/indexing.html#returning-a-view-versus-a-copy\n",
            "  \n"
          ],
          "name": "stderr"
        },
        {
          "output_type": "execute_result",
          "data": {
            "text/html": [
              "<div>\n",
              "<style scoped>\n",
              "    .dataframe tbody tr th:only-of-type {\n",
              "        vertical-align: middle;\n",
              "    }\n",
              "\n",
              "    .dataframe tbody tr th {\n",
              "        vertical-align: top;\n",
              "    }\n",
              "\n",
              "    .dataframe thead th {\n",
              "        text-align: right;\n",
              "    }\n",
              "</style>\n",
              "<table border=\"1\" class=\"dataframe\">\n",
              "  <thead>\n",
              "    <tr style=\"text-align: right;\">\n",
              "      <th>comp_score</th>\n",
              "      <th>date</th>\n",
              "      <th>Cashtag</th>\n",
              "      <th>neg</th>\n",
              "      <th>neut</th>\n",
              "      <th>pos</th>\n",
              "      <th>total_comments</th>\n",
              "    </tr>\n",
              "  </thead>\n",
              "  <tbody>\n",
              "    <tr>\n",
              "      <th>16552</th>\n",
              "      <td>2021-04-27</td>\n",
              "      <td>ZOM</td>\n",
              "      <td>0.0</td>\n",
              "      <td>0.0</td>\n",
              "      <td>1.0</td>\n",
              "      <td>1.0</td>\n",
              "    </tr>\n",
              "    <tr>\n",
              "      <th>16439</th>\n",
              "      <td>2021-04-26</td>\n",
              "      <td>ZOM</td>\n",
              "      <td>0.0</td>\n",
              "      <td>1.0</td>\n",
              "      <td>0.0</td>\n",
              "      <td>1.0</td>\n",
              "    </tr>\n",
              "    <tr>\n",
              "      <th>16210</th>\n",
              "      <td>2021-04-22</td>\n",
              "      <td>ZOM</td>\n",
              "      <td>0.0</td>\n",
              "      <td>0.0</td>\n",
              "      <td>1.0</td>\n",
              "      <td>1.0</td>\n",
              "    </tr>\n",
              "    <tr>\n",
              "      <th>15886</th>\n",
              "      <td>2021-04-16</td>\n",
              "      <td>ZOM</td>\n",
              "      <td>0.0</td>\n",
              "      <td>0.0</td>\n",
              "      <td>1.0</td>\n",
              "      <td>1.0</td>\n",
              "    </tr>\n",
              "    <tr>\n",
              "      <th>15737</th>\n",
              "      <td>2021-04-14</td>\n",
              "      <td>ZOM</td>\n",
              "      <td>0.0</td>\n",
              "      <td>0.0</td>\n",
              "      <td>2.0</td>\n",
              "      <td>2.0</td>\n",
              "    </tr>\n",
              "  </tbody>\n",
              "</table>\n",
              "</div>"
            ],
            "text/plain": [
              "comp_score        date Cashtag  neg  neut  pos  total_comments\n",
              "16552       2021-04-27     ZOM  0.0   0.0  1.0             1.0\n",
              "16439       2021-04-26     ZOM  0.0   1.0  0.0             1.0\n",
              "16210       2021-04-22     ZOM  0.0   0.0  1.0             1.0\n",
              "15886       2021-04-16     ZOM  0.0   0.0  1.0             1.0\n",
              "15737       2021-04-14     ZOM  0.0   0.0  2.0             2.0"
            ]
          },
          "metadata": {
            "tags": []
          },
          "execution_count": 58
        }
      ]
    },
    {
      "cell_type": "code",
      "metadata": {
        "colab": {
          "base_uri": "https://localhost:8080/",
          "height": 191
        },
        "id": "Yxakjr9bD_SR",
        "outputId": "4f2cbf21-905a-4c3b-a2d0-32adb6542725"
      },
      "source": [
        "zom['Date'] = zom['Date'].astype('str')\n",
        "zom_merge = zom.merge(zom_sent,left_on='Date',right_on='date')\n",
        "zom_merge.head()"
      ],
      "execution_count": null,
      "outputs": [
        {
          "output_type": "execute_result",
          "data": {
            "text/html": [
              "<div>\n",
              "<style scoped>\n",
              "    .dataframe tbody tr th:only-of-type {\n",
              "        vertical-align: middle;\n",
              "    }\n",
              "\n",
              "    .dataframe tbody tr th {\n",
              "        vertical-align: top;\n",
              "    }\n",
              "\n",
              "    .dataframe thead th {\n",
              "        text-align: right;\n",
              "    }\n",
              "</style>\n",
              "<table border=\"1\" class=\"dataframe\">\n",
              "  <thead>\n",
              "    <tr style=\"text-align: right;\">\n",
              "      <th></th>\n",
              "      <th>Date</th>\n",
              "      <th>Open_ZOM</th>\n",
              "      <th>High_ZOM</th>\n",
              "      <th>Low_ZOM</th>\n",
              "      <th>Close_ZOM</th>\n",
              "      <th>Adj Close_ZOM</th>\n",
              "      <th>Volume_ZOM</th>\n",
              "      <th>date</th>\n",
              "      <th>Cashtag</th>\n",
              "      <th>neg</th>\n",
              "      <th>neut</th>\n",
              "      <th>pos</th>\n",
              "      <th>total_comments</th>\n",
              "    </tr>\n",
              "  </thead>\n",
              "  <tbody>\n",
              "    <tr>\n",
              "      <th>0</th>\n",
              "      <td>2020-05-07</td>\n",
              "      <td>0.206</td>\n",
              "      <td>0.285</td>\n",
              "      <td>0.202</td>\n",
              "      <td>0.270</td>\n",
              "      <td>0.270</td>\n",
              "      <td>184427800</td>\n",
              "      <td>2020-05-07</td>\n",
              "      <td>ZOM</td>\n",
              "      <td>0.0</td>\n",
              "      <td>0.0</td>\n",
              "      <td>1.0</td>\n",
              "      <td>1.0</td>\n",
              "    </tr>\n",
              "    <tr>\n",
              "      <th>1</th>\n",
              "      <td>2020-05-21</td>\n",
              "      <td>0.240</td>\n",
              "      <td>0.246</td>\n",
              "      <td>0.216</td>\n",
              "      <td>0.223</td>\n",
              "      <td>0.223</td>\n",
              "      <td>25863400</td>\n",
              "      <td>2020-05-21</td>\n",
              "      <td>ZOM</td>\n",
              "      <td>0.0</td>\n",
              "      <td>0.0</td>\n",
              "      <td>1.0</td>\n",
              "      <td>1.0</td>\n",
              "    </tr>\n",
              "    <tr>\n",
              "      <th>2</th>\n",
              "      <td>2020-06-25</td>\n",
              "      <td>0.198</td>\n",
              "      <td>0.248</td>\n",
              "      <td>0.196</td>\n",
              "      <td>0.232</td>\n",
              "      <td>0.232</td>\n",
              "      <td>244042000</td>\n",
              "      <td>2020-06-25</td>\n",
              "      <td>ZOM</td>\n",
              "      <td>0.0</td>\n",
              "      <td>1.0</td>\n",
              "      <td>0.0</td>\n",
              "      <td>1.0</td>\n",
              "    </tr>\n",
              "    <tr>\n",
              "      <th>3</th>\n",
              "      <td>2020-06-26</td>\n",
              "      <td>0.245</td>\n",
              "      <td>0.275</td>\n",
              "      <td>0.220</td>\n",
              "      <td>0.243</td>\n",
              "      <td>0.243</td>\n",
              "      <td>221887600</td>\n",
              "      <td>2020-06-26</td>\n",
              "      <td>ZOM</td>\n",
              "      <td>0.0</td>\n",
              "      <td>0.0</td>\n",
              "      <td>1.0</td>\n",
              "      <td>1.0</td>\n",
              "    </tr>\n",
              "    <tr>\n",
              "      <th>4</th>\n",
              "      <td>2020-12-31</td>\n",
              "      <td>0.243</td>\n",
              "      <td>0.268</td>\n",
              "      <td>0.230</td>\n",
              "      <td>0.231</td>\n",
              "      <td>0.231</td>\n",
              "      <td>126322100</td>\n",
              "      <td>2020-12-31</td>\n",
              "      <td>ZOM</td>\n",
              "      <td>0.0</td>\n",
              "      <td>0.0</td>\n",
              "      <td>1.0</td>\n",
              "      <td>1.0</td>\n",
              "    </tr>\n",
              "  </tbody>\n",
              "</table>\n",
              "</div>"
            ],
            "text/plain": [
              "         Date  Open_ZOM  High_ZOM  Low_ZOM  ...  neg  neut  pos total_comments\n",
              "0  2020-05-07     0.206     0.285    0.202  ...  0.0   0.0  1.0            1.0\n",
              "1  2020-05-21     0.240     0.246    0.216  ...  0.0   0.0  1.0            1.0\n",
              "2  2020-06-25     0.198     0.248    0.196  ...  0.0   1.0  0.0            1.0\n",
              "3  2020-06-26     0.245     0.275    0.220  ...  0.0   0.0  1.0            1.0\n",
              "4  2020-12-31     0.243     0.268    0.230  ...  0.0   0.0  1.0            1.0\n",
              "\n",
              "[5 rows x 13 columns]"
            ]
          },
          "metadata": {
            "tags": []
          },
          "execution_count": 59
        }
      ]
    },
    {
      "cell_type": "code",
      "metadata": {
        "colab": {
          "base_uri": "https://localhost:8080/",
          "height": 592
        },
        "id": "foCVGLPwD_e7",
        "outputId": "924ab74e-ab6e-4f2e-debf-19f8949424c0"
      },
      "source": [
        "ax = plt.gca()\n",
        "\n",
        "zom_merge.plot(kind='line', y='Adj Close_ZOM', color='green', ax=ax, figsize=(16, 10))\n",
        "zom_merge.plot(kind='line', y='pos', color='red', ax=ax, figsize=(16, 10))\n",
        "\n",
        "plt.show()"
      ],
      "execution_count": null,
      "outputs": [
        {
          "output_type": "display_data",
          "data": {
            "image/png": "[encoded data removed]",
            "text/plain": [
              "<Figure size 1152x720 with 1 Axes>"
            ]
          },
          "metadata": {
            "tags": [],
            "needs_background": "light"
          }
        }
      ]
    },
    {
      "cell_type": "code",
      "metadata": {
        "colab": {
          "base_uri": "https://localhost:8080/",
          "height": 17
        },
        "id": "3fAisyy0b8jX",
        "outputId": "ed04b7c6-021e-49ea-8c22-78e0579b617c"
      },
      "source": [
        "from google.colab import files\n",
        "zom_merge.to_csv('zom_merge.csv') \n",
        "files.download('zom_merge.csv')"
      ],
      "execution_count": null,
      "outputs": [
        {
          "output_type": "display_data",
          "data": {
            "application/javascript": [
              "\n",
              "    async function download(id, filename, size) {\n",
              "      if (!google.colab.kernel.accessAllowed) {\n",
              "        return;\n",
              "      }\n",
              "      const div = document.createElement('div');\n",
              "      const label = document.createElement('label');\n",
              "      label.textContent = `Downloading \"${filename}\": `;\n",
              "      div.appendChild(label);\n",
              "      const progress = document.createElement('progress');\n",
              "      progress.max = size;\n",
              "      div.appendChild(progress);\n",
              "      document.body.appendChild(div);\n",
              "\n",
              "      const buffers = [];\n",
              "      let downloaded = 0;\n",
              "\n",
              "      const channel = await google.colab.kernel.comms.open(id);\n",
              "      // Send a message to notify the kernel that we're ready.\n",
              "      channel.send({})\n",
              "\n",
              "      for await (const message of channel.messages) {\n",
              "        // Send a message to notify the kernel that we're ready.\n",
              "        channel.send({})\n",
              "        if (message.buffers) {\n",
              "          for (const buffer of message.buffers) {\n",
              "            buffers.push(buffer);\n",
              "            downloaded += buffer.byteLength;\n",
              "            progress.value = downloaded;\n",
              "          }\n",
              "        }\n",
              "      }\n",
              "      const blob = new Blob(buffers, {type: 'application/binary'});\n",
              "      const a = document.createElement('a');\n",
              "      a.href = window.URL.createObjectURL(blob);\n",
              "      a.download = filename;\n",
              "      div.appendChild(a);\n",
              "      a.click();\n",
              "      div.remove();\n",
              "    }\n",
              "  "
            ],
            "text/plain": [
              "<IPython.core.display.Javascript object>"
            ]
          },
          "metadata": {
            "tags": []
          }
        },
        {
          "output_type": "display_data",
          "data": {
            "application/javascript": [
              "download(\"download_b4c4f6c3-d263-4752-a8e7-3f3e7742ec36\", \"zom_merge.csv\", 3787)"
            ],
            "text/plain": [
              "<IPython.core.display.Javascript object>"
            ]
          },
          "metadata": {
            "tags": []
          }
        }
      ]
    },
    {
      "cell_type": "markdown",
      "metadata": {
        "id": "xLZ-O8qo7dWN"
      },
      "source": [
        "##CCIV"
      ]
    },
    {
      "cell_type": "code",
      "metadata": {
        "colab": {
          "base_uri": "https://localhost:8080/",
          "height": 191
        },
        "id": "vv1XOBfW5a5N",
        "outputId": "e53e7158-13fd-4812-8c8e-173357a2ae0b"
      },
      "source": [
        "cciv = YahooFinanceHistory('CCIV', days_back=375).get_quote()\n",
        "\n",
        "\n",
        "keep_same = {'Date'}\n",
        "cciv.columns = ['{}{}'.format(c, '' if c in keep_same else '_CCIV')\n",
        "            for c in cciv.columns]\n",
        "cciv.head(5)"
      ],
      "execution_count": null,
      "outputs": [
        {
          "output_type": "execute_result",
          "data": {
            "text/html": [
              "<div>\n",
              "<style scoped>\n",
              "    .dataframe tbody tr th:only-of-type {\n",
              "        vertical-align: middle;\n",
              "    }\n",
              "\n",
              "    .dataframe tbody tr th {\n",
              "        vertical-align: top;\n",
              "    }\n",
              "\n",
              "    .dataframe thead th {\n",
              "        text-align: right;\n",
              "    }\n",
              "</style>\n",
              "<table border=\"1\" class=\"dataframe\">\n",
              "  <thead>\n",
              "    <tr style=\"text-align: right;\">\n",
              "      <th></th>\n",
              "      <th>Date</th>\n",
              "      <th>Open_CCIV</th>\n",
              "      <th>High_CCIV</th>\n",
              "      <th>Low_CCIV</th>\n",
              "      <th>Close_CCIV</th>\n",
              "      <th>Adj Close_CCIV</th>\n",
              "      <th>Volume_CCIV</th>\n",
              "    </tr>\n",
              "  </thead>\n",
              "  <tbody>\n",
              "    <tr>\n",
              "      <th>0</th>\n",
              "      <td>2020-09-18</td>\n",
              "      <td>10.25</td>\n",
              "      <td>10.250</td>\n",
              "      <td>9.82</td>\n",
              "      <td>9.89</td>\n",
              "      <td>9.89</td>\n",
              "      <td>564300</td>\n",
              "    </tr>\n",
              "    <tr>\n",
              "      <th>1</th>\n",
              "      <td>2020-09-21</td>\n",
              "      <td>9.90</td>\n",
              "      <td>9.960</td>\n",
              "      <td>9.86</td>\n",
              "      <td>9.86</td>\n",
              "      <td>9.86</td>\n",
              "      <td>762800</td>\n",
              "    </tr>\n",
              "    <tr>\n",
              "      <th>2</th>\n",
              "      <td>2020-09-22</td>\n",
              "      <td>9.96</td>\n",
              "      <td>9.960</td>\n",
              "      <td>9.85</td>\n",
              "      <td>9.88</td>\n",
              "      <td>9.88</td>\n",
              "      <td>1280800</td>\n",
              "    </tr>\n",
              "    <tr>\n",
              "      <th>3</th>\n",
              "      <td>2020-09-23</td>\n",
              "      <td>9.90</td>\n",
              "      <td>9.905</td>\n",
              "      <td>9.79</td>\n",
              "      <td>9.85</td>\n",
              "      <td>9.85</td>\n",
              "      <td>192600</td>\n",
              "    </tr>\n",
              "    <tr>\n",
              "      <th>4</th>\n",
              "      <td>2020-09-24</td>\n",
              "      <td>9.85</td>\n",
              "      <td>9.850</td>\n",
              "      <td>9.75</td>\n",
              "      <td>9.77</td>\n",
              "      <td>9.77</td>\n",
              "      <td>605500</td>\n",
              "    </tr>\n",
              "  </tbody>\n",
              "</table>\n",
              "</div>"
            ],
            "text/plain": [
              "        Date  Open_CCIV  High_CCIV  ...  Close_CCIV  Adj Close_CCIV  Volume_CCIV\n",
              "0 2020-09-18      10.25     10.250  ...        9.89            9.89       564300\n",
              "1 2020-09-21       9.90      9.960  ...        9.86            9.86       762800\n",
              "2 2020-09-22       9.96      9.960  ...        9.88            9.88      1280800\n",
              "3 2020-09-23       9.90      9.905  ...        9.85            9.85       192600\n",
              "4 2020-09-24       9.85      9.850  ...        9.77            9.77       605500\n",
              "\n",
              "[5 rows x 7 columns]"
            ]
          },
          "metadata": {
            "tags": []
          },
          "execution_count": 63
        }
      ]
    },
    {
      "cell_type": "code",
      "metadata": {
        "colab": {
          "base_uri": "https://localhost:8080/",
          "height": 272
        },
        "id": "JJNhFHqHHUdP",
        "outputId": "69070931-ee1a-4c11-d963-c427a790fbdc"
      },
      "source": [
        "cciv_sent = df_final[df_final['Cashtag']=='CCIV']\n",
        "cciv_sent.sort_values(by=['date'], inplace=True, ascending=False)\n",
        "cciv_sent.head()"
      ],
      "execution_count": null,
      "outputs": [
        {
          "output_type": "stream",
          "text": [
            "/usr/local/lib/python3.7/dist-packages/ipykernel_launcher.py:2: SettingWithCopyWarning: \n",
            "A value is trying to be set on a copy of a slice from a DataFrame\n",
            "\n",
            "See the caveats in the documentation: https://pandas.pydata.org/pandas-docs/stable/user_guide/indexing.html#returning-a-view-versus-a-copy\n",
            "  \n"
          ],
          "name": "stderr"
        },
        {
          "output_type": "execute_result",
          "data": {
            "text/html": [
              "<div>\n",
              "<style scoped>\n",
              "    .dataframe tbody tr th:only-of-type {\n",
              "        vertical-align: middle;\n",
              "    }\n",
              "\n",
              "    .dataframe tbody tr th {\n",
              "        vertical-align: top;\n",
              "    }\n",
              "\n",
              "    .dataframe thead th {\n",
              "        text-align: right;\n",
              "    }\n",
              "</style>\n",
              "<table border=\"1\" class=\"dataframe\">\n",
              "  <thead>\n",
              "    <tr style=\"text-align: right;\">\n",
              "      <th>comp_score</th>\n",
              "      <th>date</th>\n",
              "      <th>Cashtag</th>\n",
              "      <th>neg</th>\n",
              "      <th>neut</th>\n",
              "      <th>pos</th>\n",
              "      <th>total_comments</th>\n",
              "    </tr>\n",
              "  </thead>\n",
              "  <tbody>\n",
              "    <tr>\n",
              "      <th>16461</th>\n",
              "      <td>2021-04-27</td>\n",
              "      <td>CCIV</td>\n",
              "      <td>0.0</td>\n",
              "      <td>0.0</td>\n",
              "      <td>3.0</td>\n",
              "      <td>3.0</td>\n",
              "    </tr>\n",
              "    <tr>\n",
              "      <th>16085</th>\n",
              "      <td>2021-04-21</td>\n",
              "      <td>CCIV</td>\n",
              "      <td>0.0</td>\n",
              "      <td>1.0</td>\n",
              "      <td>0.0</td>\n",
              "      <td>1.0</td>\n",
              "    </tr>\n",
              "    <tr>\n",
              "      <th>15950</th>\n",
              "      <td>2021-04-19</td>\n",
              "      <td>CCIV</td>\n",
              "      <td>0.0</td>\n",
              "      <td>1.0</td>\n",
              "      <td>0.0</td>\n",
              "      <td>1.0</td>\n",
              "    </tr>\n",
              "    <tr>\n",
              "      <th>15893</th>\n",
              "      <td>2021-04-17</td>\n",
              "      <td>CCIV</td>\n",
              "      <td>0.0</td>\n",
              "      <td>1.0</td>\n",
              "      <td>0.0</td>\n",
              "      <td>1.0</td>\n",
              "    </tr>\n",
              "    <tr>\n",
              "      <th>15832</th>\n",
              "      <td>2021-04-16</td>\n",
              "      <td>CCIV</td>\n",
              "      <td>1.0</td>\n",
              "      <td>0.0</td>\n",
              "      <td>0.0</td>\n",
              "      <td>1.0</td>\n",
              "    </tr>\n",
              "  </tbody>\n",
              "</table>\n",
              "</div>"
            ],
            "text/plain": [
              "comp_score        date Cashtag  neg  neut  pos  total_comments\n",
              "16461       2021-04-27    CCIV  0.0   0.0  3.0             3.0\n",
              "16085       2021-04-21    CCIV  0.0   1.0  0.0             1.0\n",
              "15950       2021-04-19    CCIV  0.0   1.0  0.0             1.0\n",
              "15893       2021-04-17    CCIV  0.0   1.0  0.0             1.0\n",
              "15832       2021-04-16    CCIV  1.0   0.0  0.0             1.0"
            ]
          },
          "metadata": {
            "tags": []
          },
          "execution_count": 64
        }
      ]
    },
    {
      "cell_type": "code",
      "metadata": {
        "colab": {
          "base_uri": "https://localhost:8080/",
          "height": 191
        },
        "id": "4i2TENmJ_f7E",
        "outputId": "014dc43b-c239-4075-bdc2-386f4441852b"
      },
      "source": [
        "cciv['Date'] = cciv['Date'].astype('str')\n",
        "cciv_merge = cciv.merge(cciv_sent,left_on='Date',right_on='date')\n",
        "cciv_merge.head()"
      ],
      "execution_count": null,
      "outputs": [
        {
          "output_type": "execute_result",
          "data": {
            "text/html": [
              "<div>\n",
              "<style scoped>\n",
              "    .dataframe tbody tr th:only-of-type {\n",
              "        vertical-align: middle;\n",
              "    }\n",
              "\n",
              "    .dataframe tbody tr th {\n",
              "        vertical-align: top;\n",
              "    }\n",
              "\n",
              "    .dataframe thead th {\n",
              "        text-align: right;\n",
              "    }\n",
              "</style>\n",
              "<table border=\"1\" class=\"dataframe\">\n",
              "  <thead>\n",
              "    <tr style=\"text-align: right;\">\n",
              "      <th></th>\n",
              "      <th>Date</th>\n",
              "      <th>Open_CCIV</th>\n",
              "      <th>High_CCIV</th>\n",
              "      <th>Low_CCIV</th>\n",
              "      <th>Close_CCIV</th>\n",
              "      <th>Adj Close_CCIV</th>\n",
              "      <th>Volume_CCIV</th>\n",
              "      <th>date</th>\n",
              "      <th>Cashtag</th>\n",
              "      <th>neg</th>\n",
              "      <th>neut</th>\n",
              "      <th>pos</th>\n",
              "      <th>total_comments</th>\n",
              "    </tr>\n",
              "  </thead>\n",
              "  <tbody>\n",
              "    <tr>\n",
              "      <th>0</th>\n",
              "      <td>2021-01-11</td>\n",
              "      <td>10.050000</td>\n",
              "      <td>14.000000</td>\n",
              "      <td>10.030000</td>\n",
              "      <td>13.200000</td>\n",
              "      <td>13.200000</td>\n",
              "      <td>108167500</td>\n",
              "      <td>2021-01-11</td>\n",
              "      <td>CCIV</td>\n",
              "      <td>1.0</td>\n",
              "      <td>1.0</td>\n",
              "      <td>7.0</td>\n",
              "      <td>9.0</td>\n",
              "    </tr>\n",
              "    <tr>\n",
              "      <th>1</th>\n",
              "      <td>2021-01-12</td>\n",
              "      <td>14.990000</td>\n",
              "      <td>15.630000</td>\n",
              "      <td>13.000000</td>\n",
              "      <td>14.150000</td>\n",
              "      <td>14.150000</td>\n",
              "      <td>111360100</td>\n",
              "      <td>2021-01-12</td>\n",
              "      <td>CCIV</td>\n",
              "      <td>1.0</td>\n",
              "      <td>3.0</td>\n",
              "      <td>3.0</td>\n",
              "      <td>7.0</td>\n",
              "    </tr>\n",
              "    <tr>\n",
              "      <th>2</th>\n",
              "      <td>2021-01-13</td>\n",
              "      <td>15.100000</td>\n",
              "      <td>17.120001</td>\n",
              "      <td>14.500000</td>\n",
              "      <td>16.719999</td>\n",
              "      <td>16.719999</td>\n",
              "      <td>94091500</td>\n",
              "      <td>2021-01-13</td>\n",
              "      <td>CCIV</td>\n",
              "      <td>0.0</td>\n",
              "      <td>1.0</td>\n",
              "      <td>5.0</td>\n",
              "      <td>6.0</td>\n",
              "    </tr>\n",
              "    <tr>\n",
              "      <th>3</th>\n",
              "      <td>2021-01-14</td>\n",
              "      <td>18.709999</td>\n",
              "      <td>20.139999</td>\n",
              "      <td>16.100000</td>\n",
              "      <td>17.360001</td>\n",
              "      <td>17.360001</td>\n",
              "      <td>140983000</td>\n",
              "      <td>2021-01-14</td>\n",
              "      <td>CCIV</td>\n",
              "      <td>1.0</td>\n",
              "      <td>1.0</td>\n",
              "      <td>1.0</td>\n",
              "      <td>3.0</td>\n",
              "    </tr>\n",
              "    <tr>\n",
              "      <th>4</th>\n",
              "      <td>2021-01-15</td>\n",
              "      <td>17.809999</td>\n",
              "      <td>21.000000</td>\n",
              "      <td>16.200001</td>\n",
              "      <td>18.360001</td>\n",
              "      <td>18.360001</td>\n",
              "      <td>184854200</td>\n",
              "      <td>2021-01-15</td>\n",
              "      <td>CCIV</td>\n",
              "      <td>2.0</td>\n",
              "      <td>4.0</td>\n",
              "      <td>3.0</td>\n",
              "      <td>9.0</td>\n",
              "    </tr>\n",
              "  </tbody>\n",
              "</table>\n",
              "</div>"
            ],
            "text/plain": [
              "         Date  Open_CCIV  High_CCIV   Low_CCIV  ...  neg  neut  pos total_comments\n",
              "0  2021-01-11  10.050000  14.000000  10.030000  ...  1.0   1.0  7.0            9.0\n",
              "1  2021-01-12  14.990000  15.630000  13.000000  ...  1.0   3.0  3.0            7.0\n",
              "2  2021-01-13  15.100000  17.120001  14.500000  ...  0.0   1.0  5.0            6.0\n",
              "3  2021-01-14  18.709999  20.139999  16.100000  ...  1.0   1.0  1.0            3.0\n",
              "4  2021-01-15  17.809999  21.000000  16.200001  ...  2.0   4.0  3.0            9.0\n",
              "\n",
              "[5 rows x 13 columns]"
            ]
          },
          "metadata": {
            "tags": []
          },
          "execution_count": 65
        }
      ]
    },
    {
      "cell_type": "code",
      "metadata": {
        "colab": {
          "base_uri": "https://localhost:8080/",
          "height": 592
        },
        "id": "VU2IEVQb_nmy",
        "outputId": "9938163c-6d8f-46bf-cd03-c9cd12f86ef9"
      },
      "source": [
        "ax = plt.gca()\n",
        "\n",
        "cciv_merge.plot(kind='line', y='Adj Close_CCIV', color='green', ax=ax, figsize=(16, 10))\n",
        "cciv_merge.plot(kind='line', y='pos', color='red', ax=ax, figsize=(16, 10))\n",
        "\n",
        "plt.show()"
      ],
      "execution_count": null,
      "outputs": [
        {
          "output_type": "display_data",
          "data": {
            "image/png": "[encoded data removed]",
            "text/plain": [
              "<Figure size 1152x720 with 1 Axes>"
            ]
          },
          "metadata": {
            "tags": [],
            "needs_background": "light"
          }
        }
      ]
    },
    {
      "cell_type": "code",
      "metadata": {
        "colab": {
          "base_uri": "https://localhost:8080/",
          "height": 17
        },
        "id": "hr38-UuJcJta",
        "outputId": "4461e34c-4c25-4840-a9fd-cbfe364a1b3d"
      },
      "source": [
        "from google.colab import files\n",
        "cciv_merge.to_csv('cciv_merge.csv') \n",
        "files.download('cciv_merge.csv')"
      ],
      "execution_count": null,
      "outputs": [
        {
          "output_type": "display_data",
          "data": {
            "application/javascript": [
              "\n",
              "    async function download(id, filename, size) {\n",
              "      if (!google.colab.kernel.accessAllowed) {\n",
              "        return;\n",
              "      }\n",
              "      const div = document.createElement('div');\n",
              "      const label = document.createElement('label');\n",
              "      label.textContent = `Downloading \"${filename}\": `;\n",
              "      div.appendChild(label);\n",
              "      const progress = document.createElement('progress');\n",
              "      progress.max = size;\n",
              "      div.appendChild(progress);\n",
              "      document.body.appendChild(div);\n",
              "\n",
              "      const buffers = [];\n",
              "      let downloaded = 0;\n",
              "\n",
              "      const channel = await google.colab.kernel.comms.open(id);\n",
              "      // Send a message to notify the kernel that we're ready.\n",
              "      channel.send({})\n",
              "\n",
              "      for await (const message of channel.messages) {\n",
              "        // Send a message to notify the kernel that we're ready.\n",
              "        channel.send({})\n",
              "        if (message.buffers) {\n",
              "          for (const buffer of message.buffers) {\n",
              "            buffers.push(buffer);\n",
              "            downloaded += buffer.byteLength;\n",
              "            progress.value = downloaded;\n",
              "          }\n",
              "        }\n",
              "      }\n",
              "      const blob = new Blob(buffers, {type: 'application/binary'});\n",
              "      const a = document.createElement('a');\n",
              "      a.href = window.URL.createObjectURL(blob);\n",
              "      a.download = filename;\n",
              "      div.appendChild(a);\n",
              "      a.click();\n",
              "      div.remove();\n",
              "    }\n",
              "  "
            ],
            "text/plain": [
              "<IPython.core.display.Javascript object>"
            ]
          },
          "metadata": {
            "tags": []
          }
        },
        {
          "output_type": "display_data",
          "data": {
            "application/javascript": [
              "download(\"download_532e576e-f764-463c-bab3-7e57023b5789\", \"cciv_merge.csv\", 4405)"
            ],
            "text/plain": [
              "<IPython.core.display.Javascript object>"
            ]
          },
          "metadata": {
            "tags": []
          }
        }
      ]
    },
    {
      "cell_type": "markdown",
      "metadata": {
        "id": "j1lP3uNO7fom"
      },
      "source": [
        "##EBON"
      ]
    },
    {
      "cell_type": "code",
      "metadata": {
        "colab": {
          "base_uri": "https://localhost:8080/",
          "height": 191
        },
        "id": "U-fOvyHv5cwW",
        "outputId": "af642351-aa21-4c94-a912-e4ba38c8a190"
      },
      "source": [
        "ebon = YahooFinanceHistory('EBON', days_back=375).get_quote()\n",
        "\n",
        "\n",
        "keep_same = {'Date'}\n",
        "ebon.columns = ['{}{}'.format(c, '' if c in keep_same else '_EBON')\n",
        "            for c in ebon.columns]\n",
        "ebon.head(5)"
      ],
      "execution_count": null,
      "outputs": [
        {
          "output_type": "execute_result",
          "data": {
            "text/html": [
              "<div>\n",
              "<style scoped>\n",
              "    .dataframe tbody tr th:only-of-type {\n",
              "        vertical-align: middle;\n",
              "    }\n",
              "\n",
              "    .dataframe tbody tr th {\n",
              "        vertical-align: top;\n",
              "    }\n",
              "\n",
              "    .dataframe thead th {\n",
              "        text-align: right;\n",
              "    }\n",
              "</style>\n",
              "<table border=\"1\" class=\"dataframe\">\n",
              "  <thead>\n",
              "    <tr style=\"text-align: right;\">\n",
              "      <th></th>\n",
              "      <th>Date</th>\n",
              "      <th>Open_EBON</th>\n",
              "      <th>High_EBON</th>\n",
              "      <th>Low_EBON</th>\n",
              "      <th>Close_EBON</th>\n",
              "      <th>Adj Close_EBON</th>\n",
              "      <th>Volume_EBON</th>\n",
              "    </tr>\n",
              "  </thead>\n",
              "  <tbody>\n",
              "    <tr>\n",
              "      <th>0</th>\n",
              "      <td>2020-06-26</td>\n",
              "      <td>4.60</td>\n",
              "      <td>5.23</td>\n",
              "      <td>3.81</td>\n",
              "      <td>5.00</td>\n",
              "      <td>5.00</td>\n",
              "      <td>694100</td>\n",
              "    </tr>\n",
              "    <tr>\n",
              "      <th>1</th>\n",
              "      <td>2020-06-29</td>\n",
              "      <td>4.28</td>\n",
              "      <td>4.50</td>\n",
              "      <td>4.05</td>\n",
              "      <td>4.50</td>\n",
              "      <td>4.50</td>\n",
              "      <td>212500</td>\n",
              "    </tr>\n",
              "    <tr>\n",
              "      <th>2</th>\n",
              "      <td>2020-06-30</td>\n",
              "      <td>4.23</td>\n",
              "      <td>4.80</td>\n",
              "      <td>4.20</td>\n",
              "      <td>4.73</td>\n",
              "      <td>4.73</td>\n",
              "      <td>213700</td>\n",
              "    </tr>\n",
              "    <tr>\n",
              "      <th>3</th>\n",
              "      <td>2020-07-01</td>\n",
              "      <td>4.77</td>\n",
              "      <td>4.77</td>\n",
              "      <td>3.80</td>\n",
              "      <td>3.97</td>\n",
              "      <td>3.97</td>\n",
              "      <td>154300</td>\n",
              "    </tr>\n",
              "    <tr>\n",
              "      <th>4</th>\n",
              "      <td>2020-07-02</td>\n",
              "      <td>4.45</td>\n",
              "      <td>5.20</td>\n",
              "      <td>4.15</td>\n",
              "      <td>4.37</td>\n",
              "      <td>4.37</td>\n",
              "      <td>755300</td>\n",
              "    </tr>\n",
              "  </tbody>\n",
              "</table>\n",
              "</div>"
            ],
            "text/plain": [
              "        Date  Open_EBON  High_EBON  ...  Close_EBON  Adj Close_EBON  Volume_EBON\n",
              "0 2020-06-26       4.60       5.23  ...        5.00            5.00       694100\n",
              "1 2020-06-29       4.28       4.50  ...        4.50            4.50       212500\n",
              "2 2020-06-30       4.23       4.80  ...        4.73            4.73       213700\n",
              "3 2020-07-01       4.77       4.77  ...        3.97            3.97       154300\n",
              "4 2020-07-02       4.45       5.20  ...        4.37            4.37       755300\n",
              "\n",
              "[5 rows x 7 columns]"
            ]
          },
          "metadata": {
            "tags": []
          },
          "execution_count": 69
        }
      ]
    },
    {
      "cell_type": "code",
      "metadata": {
        "colab": {
          "base_uri": "https://localhost:8080/",
          "height": 272
        },
        "id": "TohVz3LXHV83",
        "outputId": "e7dcd8ef-e4f8-418f-e7d0-50f3c0171875"
      },
      "source": [
        "ebon_sent = df_final[df_final['Cashtag']=='EBON']\n",
        "ebon_sent.sort_values(by=['date'], inplace=True, ascending=False)\n",
        "ebon_sent.head()"
      ],
      "execution_count": null,
      "outputs": [
        {
          "output_type": "stream",
          "text": [
            "/usr/local/lib/python3.7/dist-packages/ipykernel_launcher.py:2: SettingWithCopyWarning: \n",
            "A value is trying to be set on a copy of a slice from a DataFrame\n",
            "\n",
            "See the caveats in the documentation: https://pandas.pydata.org/pandas-docs/stable/user_guide/indexing.html#returning-a-view-versus-a-copy\n",
            "  \n"
          ],
          "name": "stderr"
        },
        {
          "output_type": "execute_result",
          "data": {
            "text/html": [
              "<div>\n",
              "<style scoped>\n",
              "    .dataframe tbody tr th:only-of-type {\n",
              "        vertical-align: middle;\n",
              "    }\n",
              "\n",
              "    .dataframe tbody tr th {\n",
              "        vertical-align: top;\n",
              "    }\n",
              "\n",
              "    .dataframe thead th {\n",
              "        text-align: right;\n",
              "    }\n",
              "</style>\n",
              "<table border=\"1\" class=\"dataframe\">\n",
              "  <thead>\n",
              "    <tr style=\"text-align: right;\">\n",
              "      <th>comp_score</th>\n",
              "      <th>date</th>\n",
              "      <th>Cashtag</th>\n",
              "      <th>neg</th>\n",
              "      <th>neut</th>\n",
              "      <th>pos</th>\n",
              "      <th>total_comments</th>\n",
              "    </tr>\n",
              "  </thead>\n",
              "  <tbody>\n",
              "    <tr>\n",
              "      <th>15899</th>\n",
              "      <td>2021-04-17</td>\n",
              "      <td>EBON</td>\n",
              "      <td>0.0</td>\n",
              "      <td>1.0</td>\n",
              "      <td>0.0</td>\n",
              "      <td>1.0</td>\n",
              "    </tr>\n",
              "    <tr>\n",
              "      <th>15842</th>\n",
              "      <td>2021-04-16</td>\n",
              "      <td>EBON</td>\n",
              "      <td>0.0</td>\n",
              "      <td>1.0</td>\n",
              "      <td>0.0</td>\n",
              "      <td>1.0</td>\n",
              "    </tr>\n",
              "    <tr>\n",
              "      <th>15766</th>\n",
              "      <td>2021-04-15</td>\n",
              "      <td>EBON</td>\n",
              "      <td>0.0</td>\n",
              "      <td>1.0</td>\n",
              "      <td>1.0</td>\n",
              "      <td>2.0</td>\n",
              "    </tr>\n",
              "    <tr>\n",
              "      <th>15643</th>\n",
              "      <td>2021-04-09</td>\n",
              "      <td>EBON</td>\n",
              "      <td>0.0</td>\n",
              "      <td>0.0</td>\n",
              "      <td>1.0</td>\n",
              "      <td>1.0</td>\n",
              "    </tr>\n",
              "    <tr>\n",
              "      <th>15576</th>\n",
              "      <td>2021-04-08</td>\n",
              "      <td>EBON</td>\n",
              "      <td>1.0</td>\n",
              "      <td>1.0</td>\n",
              "      <td>1.0</td>\n",
              "      <td>3.0</td>\n",
              "    </tr>\n",
              "  </tbody>\n",
              "</table>\n",
              "</div>"
            ],
            "text/plain": [
              "comp_score        date Cashtag  neg  neut  pos  total_comments\n",
              "15899       2021-04-17    EBON  0.0   1.0  0.0             1.0\n",
              "15842       2021-04-16    EBON  0.0   1.0  0.0             1.0\n",
              "15766       2021-04-15    EBON  0.0   1.0  1.0             2.0\n",
              "15643       2021-04-09    EBON  0.0   0.0  1.0             1.0\n",
              "15576       2021-04-08    EBON  1.0   1.0  1.0             3.0"
            ]
          },
          "metadata": {
            "tags": []
          },
          "execution_count": 70
        }
      ]
    },
    {
      "cell_type": "code",
      "metadata": {
        "colab": {
          "base_uri": "https://localhost:8080/",
          "height": 272
        },
        "id": "FVZmnTVe7tYy",
        "outputId": "7a56cdc5-6c8c-4dea-b912-4fb053540762"
      },
      "source": [
        "ebon_sent = df_final[df_final['Cashtag']=='TRVG']\n",
        "ebon_sent.sort_values(by=['date'], inplace=True, ascending=False)\n",
        "ebon_sent.head()"
      ],
      "execution_count": null,
      "outputs": [
        {
          "output_type": "stream",
          "text": [
            "/usr/local/lib/python3.7/dist-packages/ipykernel_launcher.py:2: SettingWithCopyWarning: \n",
            "A value is trying to be set on a copy of a slice from a DataFrame\n",
            "\n",
            "See the caveats in the documentation: https://pandas.pydata.org/pandas-docs/stable/user_guide/indexing.html#returning-a-view-versus-a-copy\n",
            "  \n"
          ],
          "name": "stderr"
        },
        {
          "output_type": "execute_result",
          "data": {
            "text/html": [
              "<div>\n",
              "<style scoped>\n",
              "    .dataframe tbody tr th:only-of-type {\n",
              "        vertical-align: middle;\n",
              "    }\n",
              "\n",
              "    .dataframe tbody tr th {\n",
              "        vertical-align: top;\n",
              "    }\n",
              "\n",
              "    .dataframe thead th {\n",
              "        text-align: right;\n",
              "    }\n",
              "</style>\n",
              "<table border=\"1\" class=\"dataframe\">\n",
              "  <thead>\n",
              "    <tr style=\"text-align: right;\">\n",
              "      <th>comp_score</th>\n",
              "      <th>date</th>\n",
              "      <th>Cashtag</th>\n",
              "      <th>neg</th>\n",
              "      <th>neut</th>\n",
              "      <th>pos</th>\n",
              "      <th>total_comments</th>\n",
              "    </tr>\n",
              "  </thead>\n",
              "  <tbody>\n",
              "    <tr>\n",
              "      <th>13977</th>\n",
              "      <td>2021-03-04</td>\n",
              "      <td>TRVG</td>\n",
              "      <td>0.0</td>\n",
              "      <td>1.0</td>\n",
              "      <td>0.0</td>\n",
              "      <td>1.0</td>\n",
              "    </tr>\n",
              "    <tr>\n",
              "      <th>13804</th>\n",
              "      <td>2021-03-03</td>\n",
              "      <td>TRVG</td>\n",
              "      <td>0.0</td>\n",
              "      <td>1.0</td>\n",
              "      <td>0.0</td>\n",
              "      <td>1.0</td>\n",
              "    </tr>\n",
              "    <tr>\n",
              "      <th>12285</th>\n",
              "      <td>2021-02-16</td>\n",
              "      <td>TRVG</td>\n",
              "      <td>0.0</td>\n",
              "      <td>1.0</td>\n",
              "      <td>0.0</td>\n",
              "      <td>1.0</td>\n",
              "    </tr>\n",
              "    <tr>\n",
              "      <th>12086</th>\n",
              "      <td>2021-02-14</td>\n",
              "      <td>TRVG</td>\n",
              "      <td>0.0</td>\n",
              "      <td>1.0</td>\n",
              "      <td>1.0</td>\n",
              "      <td>2.0</td>\n",
              "    </tr>\n",
              "    <tr>\n",
              "      <th>11990</th>\n",
              "      <td>2021-02-13</td>\n",
              "      <td>TRVG</td>\n",
              "      <td>0.0</td>\n",
              "      <td>0.0</td>\n",
              "      <td>3.0</td>\n",
              "      <td>3.0</td>\n",
              "    </tr>\n",
              "  </tbody>\n",
              "</table>\n",
              "</div>"
            ],
            "text/plain": [
              "comp_score        date Cashtag  neg  neut  pos  total_comments\n",
              "13977       2021-03-04    TRVG  0.0   1.0  0.0             1.0\n",
              "13804       2021-03-03    TRVG  0.0   1.0  0.0             1.0\n",
              "12285       2021-02-16    TRVG  0.0   1.0  0.0             1.0\n",
              "12086       2021-02-14    TRVG  0.0   1.0  1.0             2.0\n",
              "11990       2021-02-13    TRVG  0.0   0.0  3.0             3.0"
            ]
          },
          "metadata": {
            "tags": []
          },
          "execution_count": 71
        }
      ]
    },
    {
      "cell_type": "code",
      "metadata": {
        "colab": {
          "base_uri": "https://localhost:8080/",
          "height": 191
        },
        "id": "Uvdq3LcS9yPB",
        "outputId": "90814fda-377a-4b2b-8bc4-33cedf62284b"
      },
      "source": [
        "ebon['Date'] = ebon['Date'].astype('str')\n",
        "ebon_merge = ebon.merge(ebon_sent,left_on='Date',right_on='date')\n",
        "ebon_merge.head()"
      ],
      "execution_count": null,
      "outputs": [
        {
          "output_type": "execute_result",
          "data": {
            "text/html": [
              "<div>\n",
              "<style scoped>\n",
              "    .dataframe tbody tr th:only-of-type {\n",
              "        vertical-align: middle;\n",
              "    }\n",
              "\n",
              "    .dataframe tbody tr th {\n",
              "        vertical-align: top;\n",
              "    }\n",
              "\n",
              "    .dataframe thead th {\n",
              "        text-align: right;\n",
              "    }\n",
              "</style>\n",
              "<table border=\"1\" class=\"dataframe\">\n",
              "  <thead>\n",
              "    <tr style=\"text-align: right;\">\n",
              "      <th></th>\n",
              "      <th>Date</th>\n",
              "      <th>Open_EBON</th>\n",
              "      <th>High_EBON</th>\n",
              "      <th>Low_EBON</th>\n",
              "      <th>Close_EBON</th>\n",
              "      <th>Adj Close_EBON</th>\n",
              "      <th>Volume_EBON</th>\n",
              "      <th>date</th>\n",
              "      <th>Cashtag</th>\n",
              "      <th>neg</th>\n",
              "      <th>neut</th>\n",
              "      <th>pos</th>\n",
              "      <th>total_comments</th>\n",
              "    </tr>\n",
              "  </thead>\n",
              "  <tbody>\n",
              "    <tr>\n",
              "      <th>0</th>\n",
              "      <td>2021-01-27</td>\n",
              "      <td>4.460</td>\n",
              "      <td>4.94</td>\n",
              "      <td>4.42</td>\n",
              "      <td>4.54</td>\n",
              "      <td>4.54</td>\n",
              "      <td>3822900</td>\n",
              "      <td>2021-01-27</td>\n",
              "      <td>TRVG</td>\n",
              "      <td>0.0</td>\n",
              "      <td>1.0</td>\n",
              "      <td>1.0</td>\n",
              "      <td>2.0</td>\n",
              "    </tr>\n",
              "    <tr>\n",
              "      <th>1</th>\n",
              "      <td>2021-01-28</td>\n",
              "      <td>4.600</td>\n",
              "      <td>5.45</td>\n",
              "      <td>4.60</td>\n",
              "      <td>5.22</td>\n",
              "      <td>5.22</td>\n",
              "      <td>7271900</td>\n",
              "      <td>2021-01-28</td>\n",
              "      <td>TRVG</td>\n",
              "      <td>0.0</td>\n",
              "      <td>1.0</td>\n",
              "      <td>0.0</td>\n",
              "      <td>1.0</td>\n",
              "    </tr>\n",
              "    <tr>\n",
              "      <th>2</th>\n",
              "      <td>2021-02-01</td>\n",
              "      <td>5.011</td>\n",
              "      <td>5.38</td>\n",
              "      <td>4.72</td>\n",
              "      <td>5.05</td>\n",
              "      <td>5.05</td>\n",
              "      <td>2870300</td>\n",
              "      <td>2021-02-01</td>\n",
              "      <td>TRVG</td>\n",
              "      <td>0.0</td>\n",
              "      <td>1.0</td>\n",
              "      <td>1.0</td>\n",
              "      <td>2.0</td>\n",
              "    </tr>\n",
              "    <tr>\n",
              "      <th>3</th>\n",
              "      <td>2021-02-04</td>\n",
              "      <td>6.070</td>\n",
              "      <td>6.27</td>\n",
              "      <td>5.52</td>\n",
              "      <td>6.26</td>\n",
              "      <td>6.26</td>\n",
              "      <td>13948500</td>\n",
              "      <td>2021-02-04</td>\n",
              "      <td>TRVG</td>\n",
              "      <td>0.0</td>\n",
              "      <td>0.0</td>\n",
              "      <td>1.0</td>\n",
              "      <td>1.0</td>\n",
              "    </tr>\n",
              "    <tr>\n",
              "      <th>4</th>\n",
              "      <td>2021-02-12</td>\n",
              "      <td>5.680</td>\n",
              "      <td>6.80</td>\n",
              "      <td>5.62</td>\n",
              "      <td>6.69</td>\n",
              "      <td>6.69</td>\n",
              "      <td>26122700</td>\n",
              "      <td>2021-02-12</td>\n",
              "      <td>TRVG</td>\n",
              "      <td>0.0</td>\n",
              "      <td>3.0</td>\n",
              "      <td>8.0</td>\n",
              "      <td>11.0</td>\n",
              "    </tr>\n",
              "  </tbody>\n",
              "</table>\n",
              "</div>"
            ],
            "text/plain": [
              "         Date  Open_EBON  High_EBON  Low_EBON  ...  neg  neut  pos total_comments\n",
              "0  2021-01-27      4.460       4.94      4.42  ...  0.0   1.0  1.0            2.0\n",
              "1  2021-01-28      4.600       5.45      4.60  ...  0.0   1.0  0.0            1.0\n",
              "2  2021-02-01      5.011       5.38      4.72  ...  0.0   1.0  1.0            2.0\n",
              "3  2021-02-04      6.070       6.27      5.52  ...  0.0   0.0  1.0            1.0\n",
              "4  2021-02-12      5.680       6.80      5.62  ...  0.0   3.0  8.0           11.0\n",
              "\n",
              "[5 rows x 13 columns]"
            ]
          },
          "metadata": {
            "tags": []
          },
          "execution_count": 72
        }
      ]
    },
    {
      "cell_type": "code",
      "metadata": {
        "colab": {
          "base_uri": "https://localhost:8080/",
          "height": 592
        },
        "id": "SU2seR_q7tha",
        "outputId": "0d66278c-ef01-4670-8e4a-9c7fd4176a1b"
      },
      "source": [
        "ax = plt.gca()\n",
        "\n",
        "ebon_merge.plot(kind='line', y='Adj Close_EBON', color='green', ax=ax, figsize=(16, 10))\n",
        "ebon_merge.plot(kind='line', y='pos', color='red', ax=ax, figsize=(16, 10))\n",
        "\n",
        "plt.show()"
      ],
      "execution_count": null,
      "outputs": [
        {
          "output_type": "display_data",
          "data": {
            "image/png": "[encoded data removed]",
            "text/plain": [
              "<Figure size 1152x720 with 1 Axes>"
            ]
          },
          "metadata": {
            "tags": [],
            "needs_background": "light"
          }
        }
      ]
    },
    {
      "cell_type": "code",
      "metadata": {
        "id": "Suhp-vnb7tkj",
        "colab": {
          "base_uri": "https://localhost:8080/",
          "height": 17
        },
        "outputId": "0b7cda67-3fda-4044-be69-26a618f1df2f"
      },
      "source": [
        "from google.colab import files\n",
        "ebon_merge.to_csv('ebon_merge.csv') \n",
        "files.download('ebon_merge.csv')"
      ],
      "execution_count": null,
      "outputs": [
        {
          "output_type": "display_data",
          "data": {
            "application/javascript": [
              "\n",
              "    async function download(id, filename, size) {\n",
              "      if (!google.colab.kernel.accessAllowed) {\n",
              "        return;\n",
              "      }\n",
              "      const div = document.createElement('div');\n",
              "      const label = document.createElement('label');\n",
              "      label.textContent = `Downloading \"${filename}\": `;\n",
              "      div.appendChild(label);\n",
              "      const progress = document.createElement('progress');\n",
              "      progress.max = size;\n",
              "      div.appendChild(progress);\n",
              "      document.body.appendChild(div);\n",
              "\n",
              "      const buffers = [];\n",
              "      let downloaded = 0;\n",
              "\n",
              "      const channel = await google.colab.kernel.comms.open(id);\n",
              "      // Send a message to notify the kernel that we're ready.\n",
              "      channel.send({})\n",
              "\n",
              "      for await (const message of channel.messages) {\n",
              "        // Send a message to notify the kernel that we're ready.\n",
              "        channel.send({})\n",
              "        if (message.buffers) {\n",
              "          for (const buffer of message.buffers) {\n",
              "            buffers.push(buffer);\n",
              "            downloaded += buffer.byteLength;\n",
              "            progress.value = downloaded;\n",
              "          }\n",
              "        }\n",
              "      }\n",
              "      const blob = new Blob(buffers, {type: 'application/binary'});\n",
              "      const a = document.createElement('a');\n",
              "      a.href = window.URL.createObjectURL(blob);\n",
              "      a.download = filename;\n",
              "      div.appendChild(a);\n",
              "      a.click();\n",
              "      div.remove();\n",
              "    }\n",
              "  "
            ],
            "text/plain": [
              "<IPython.core.display.Javascript object>"
            ]
          },
          "metadata": {
            "tags": []
          }
        },
        {
          "output_type": "display_data",
          "data": {
            "application/javascript": [
              "download(\"download_7f12f8b3-3023-4564-b2a7-2d5d9a748858\", \"ebon_merge.csv\", 742)"
            ],
            "text/plain": [
              "<IPython.core.display.Javascript object>"
            ]
          },
          "metadata": {
            "tags": []
          }
        }
      ]
    },
    {
      "cell_type": "code",
      "metadata": {
        "colab": {
          "base_uri": "https://localhost:8080/",
          "height": 191
        },
        "id": "UFz81_n2j5pH",
        "outputId": "d386fa5e-1108-412a-86d3-e096c8589635"
      },
      "source": [
        "ebon_merge.head()"
      ],
      "execution_count": null,
      "outputs": [
        {
          "output_type": "execute_result",
          "data": {
            "text/html": [
              "<div>\n",
              "<style scoped>\n",
              "    .dataframe tbody tr th:only-of-type {\n",
              "        vertical-align: middle;\n",
              "    }\n",
              "\n",
              "    .dataframe tbody tr th {\n",
              "        vertical-align: top;\n",
              "    }\n",
              "\n",
              "    .dataframe thead th {\n",
              "        text-align: right;\n",
              "    }\n",
              "</style>\n",
              "<table border=\"1\" class=\"dataframe\">\n",
              "  <thead>\n",
              "    <tr style=\"text-align: right;\">\n",
              "      <th></th>\n",
              "      <th>Date</th>\n",
              "      <th>Open_EBON</th>\n",
              "      <th>High_EBON</th>\n",
              "      <th>Low_EBON</th>\n",
              "      <th>Close_EBON</th>\n",
              "      <th>Adj Close_EBON</th>\n",
              "      <th>Volume_EBON</th>\n",
              "      <th>date</th>\n",
              "      <th>Cashtag</th>\n",
              "      <th>neg</th>\n",
              "      <th>neut</th>\n",
              "      <th>pos</th>\n",
              "      <th>total_comments</th>\n",
              "    </tr>\n",
              "  </thead>\n",
              "  <tbody>\n",
              "    <tr>\n",
              "      <th>0</th>\n",
              "      <td>2021-01-27</td>\n",
              "      <td>4.460</td>\n",
              "      <td>4.94</td>\n",
              "      <td>4.42</td>\n",
              "      <td>4.54</td>\n",
              "      <td>4.54</td>\n",
              "      <td>3822900</td>\n",
              "      <td>2021-01-27</td>\n",
              "      <td>TRVG</td>\n",
              "      <td>0.0</td>\n",
              "      <td>1.0</td>\n",
              "      <td>1.0</td>\n",
              "      <td>2.0</td>\n",
              "    </tr>\n",
              "    <tr>\n",
              "      <th>1</th>\n",
              "      <td>2021-01-28</td>\n",
              "      <td>4.600</td>\n",
              "      <td>5.45</td>\n",
              "      <td>4.60</td>\n",
              "      <td>5.22</td>\n",
              "      <td>5.22</td>\n",
              "      <td>7271900</td>\n",
              "      <td>2021-01-28</td>\n",
              "      <td>TRVG</td>\n",
              "      <td>0.0</td>\n",
              "      <td>1.0</td>\n",
              "      <td>0.0</td>\n",
              "      <td>1.0</td>\n",
              "    </tr>\n",
              "    <tr>\n",
              "      <th>2</th>\n",
              "      <td>2021-02-01</td>\n",
              "      <td>5.011</td>\n",
              "      <td>5.38</td>\n",
              "      <td>4.72</td>\n",
              "      <td>5.05</td>\n",
              "      <td>5.05</td>\n",
              "      <td>2870300</td>\n",
              "      <td>2021-02-01</td>\n",
              "      <td>TRVG</td>\n",
              "      <td>0.0</td>\n",
              "      <td>1.0</td>\n",
              "      <td>1.0</td>\n",
              "      <td>2.0</td>\n",
              "    </tr>\n",
              "    <tr>\n",
              "      <th>3</th>\n",
              "      <td>2021-02-04</td>\n",
              "      <td>6.070</td>\n",
              "      <td>6.27</td>\n",
              "      <td>5.52</td>\n",
              "      <td>6.26</td>\n",
              "      <td>6.26</td>\n",
              "      <td>13948500</td>\n",
              "      <td>2021-02-04</td>\n",
              "      <td>TRVG</td>\n",
              "      <td>0.0</td>\n",
              "      <td>0.0</td>\n",
              "      <td>1.0</td>\n",
              "      <td>1.0</td>\n",
              "    </tr>\n",
              "    <tr>\n",
              "      <th>4</th>\n",
              "      <td>2021-02-12</td>\n",
              "      <td>5.680</td>\n",
              "      <td>6.80</td>\n",
              "      <td>5.62</td>\n",
              "      <td>6.69</td>\n",
              "      <td>6.69</td>\n",
              "      <td>26122700</td>\n",
              "      <td>2021-02-12</td>\n",
              "      <td>TRVG</td>\n",
              "      <td>0.0</td>\n",
              "      <td>3.0</td>\n",
              "      <td>8.0</td>\n",
              "      <td>11.0</td>\n",
              "    </tr>\n",
              "  </tbody>\n",
              "</table>\n",
              "</div>"
            ],
            "text/plain": [
              "         Date  Open_EBON  High_EBON  Low_EBON  ...  neg  neut  pos total_comments\n",
              "0  2021-01-27      4.460       4.94      4.42  ...  0.0   1.0  1.0            2.0\n",
              "1  2021-01-28      4.600       5.45      4.60  ...  0.0   1.0  0.0            1.0\n",
              "2  2021-02-01      5.011       5.38      4.72  ...  0.0   1.0  1.0            2.0\n",
              "3  2021-02-04      6.070       6.27      5.52  ...  0.0   0.0  1.0            1.0\n",
              "4  2021-02-12      5.680       6.80      5.62  ...  0.0   3.0  8.0           11.0\n",
              "\n",
              "[5 rows x 13 columns]"
            ]
          },
          "metadata": {
            "tags": []
          },
          "execution_count": 83
        }
      ]
    },
    {
      "cell_type": "code",
      "metadata": {
        "id": "6NFwekOImFc9"
      },
      "source": [
        "df_merged = pd.concat([gme_merge, ebon_merge, cciv_merge, zom_merge, pltr_merge, fsr_merge, sndl_merge, nok], ignore_index=True)"
      ],
      "execution_count": null,
      "outputs": []
    },
    {
      "cell_type": "code",
      "metadata": {
        "colab": {
          "base_uri": "https://localhost:8080/",
          "height": 17
        },
        "id": "U3vcwT6riwYp",
        "outputId": "2449cb17-246f-4b2a-9ea7-e882a7d24f03"
      },
      "source": [
        "from google.colab import files\n",
        "df_merged.to_csv('df_merged.csv') \n",
        "files.download('df_merged.csv')"
      ],
      "execution_count": null,
      "outputs": [
        {
          "output_type": "display_data",
          "data": {
            "application/javascript": [
              "\n",
              "    async function download(id, filename, size) {\n",
              "      if (!google.colab.kernel.accessAllowed) {\n",
              "        return;\n",
              "      }\n",
              "      const div = document.createElement('div');\n",
              "      const label = document.createElement('label');\n",
              "      label.textContent = `Downloading \"${filename}\": `;\n",
              "      div.appendChild(label);\n",
              "      const progress = document.createElement('progress');\n",
              "      progress.max = size;\n",
              "      div.appendChild(progress);\n",
              "      document.body.appendChild(div);\n",
              "\n",
              "      const buffers = [];\n",
              "      let downloaded = 0;\n",
              "\n",
              "      const channel = await google.colab.kernel.comms.open(id);\n",
              "      // Send a message to notify the kernel that we're ready.\n",
              "      channel.send({})\n",
              "\n",
              "      for await (const message of channel.messages) {\n",
              "        // Send a message to notify the kernel that we're ready.\n",
              "        channel.send({})\n",
              "        if (message.buffers) {\n",
              "          for (const buffer of message.buffers) {\n",
              "            buffers.push(buffer);\n",
              "            downloaded += buffer.byteLength;\n",
              "            progress.value = downloaded;\n",
              "          }\n",
              "        }\n",
              "      }\n",
              "      const blob = new Blob(buffers, {type: 'application/binary'});\n",
              "      const a = document.createElement('a');\n",
              "      a.href = window.URL.createObjectURL(blob);\n",
              "      a.download = filename;\n",
              "      div.appendChild(a);\n",
              "      a.click();\n",
              "      div.remove();\n",
              "    }\n",
              "  "
            ],
            "text/plain": [
              "<IPython.core.display.Javascript object>"
            ]
          },
          "metadata": {
            "tags": []
          }
        },
        {
          "output_type": "display_data",
          "data": {
            "application/javascript": [
              "download(\"download_175e1263-b290-4726-b879-4eea0e4e5576\", \"df_merged.csv\", 86148)"
            ],
            "text/plain": [
              "<IPython.core.display.Javascript object>"
            ]
          },
          "metadata": {
            "tags": []
          }
        }
      ]
    }
  ]
}